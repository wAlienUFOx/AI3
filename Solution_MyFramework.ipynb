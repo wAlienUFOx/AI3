{
 "cells": [
  {
   "cell_type": "markdown",
   "metadata": {
    "scrolled": true
   },
   "source": [
    "## Лабораторная работа по курсу \\\"Искусственный интеллект\\\"\n",
    "## Многослойный персептрон\n",
    "###  Собственная реализация\n",
    "\n",
    "| Студент | Анисимов Валерий |\n",
    "|---------|--------|\n",
    "| Группа  | М8О-408Б-18      |"
   ]
  },
  {
   "cell_type": "markdown",
   "metadata": {},
   "source": [
    "## Настройка среды\n",
    "\n",
    "Устанавливаем все необходимый библиотеки: pandas, numpy, os, pickle"
   ]
  },
  {
   "cell_type": "code",
   "execution_count": 1,
   "metadata": {
    "scrolled": false
   },
   "outputs": [
    {
     "name": "stdout",
     "output_type": "stream",
     "text": [
      "Requirement already satisfied: pandas in c:\\users\\anisi\\anaconda3\\lib\\site-packages (1.2.4)\n",
      "Requirement already satisfied: python-dateutil>=2.7.3 in c:\\users\\anisi\\anaconda3\\lib\\site-packages (from pandas) (2.8.1)\n",
      "Requirement already satisfied: pytz>=2017.3 in c:\\users\\anisi\\anaconda3\\lib\\site-packages (from pandas) (2021.1)\n",
      "Requirement already satisfied: numpy>=1.16.5 in c:\\users\\anisi\\anaconda3\\lib\\site-packages (from pandas) (1.20.1)\n",
      "Requirement already satisfied: six>=1.5 in c:\\users\\anisi\\anaconda3\\lib\\site-packages (from python-dateutil>=2.7.3->pandas) (1.15.0)\n",
      "Note: you may need to restart the kernel to use updated packages.\n"
     ]
    }
   ],
   "source": [
    "%pip install pandas\n",
    "import pickle\n",
    "import os\n",
    "import numpy as np \n",
    "import matplotlib.pyplot as plt\n",
    "from sklearn.model_selection import train_test_split"
   ]
  },
  {
   "cell_type": "markdown",
   "metadata": {},
   "source": [
    "## Подготовка датасетов\n",
    "Объявим некоторые функции для анализа датасетов"
   ]
  },
  {
   "cell_type": "code",
   "execution_count": 2,
   "metadata": {},
   "outputs": [],
   "source": [
    "def count_of_keys(df):\n",
    "    unique = np.unique(df)\n",
    "    counts = np.zeros(len(unique), dtype=np.int32)\n",
    "    for v in df:\n",
    "        counts[v] += 1\n",
    "    return counts\n",
    "def visualization_of_counts(df):\n",
    "    counts = count_of_keys(df)\n",
    "    plt.ylabel(\"Кол-во элементов в классе\")\n",
    "    plt.xlabel(\"Номер каждого класса\")\n",
    "    plt.bar(np.arange(len(counts)), counts)\n",
    "    plt.xticks(np.arange(len(counts)), [i for i in range(len(counts))])\n",
    "def analyze(labels, features, string :str):\n",
    "    visualization_of_counts(labels)\n",
    "    print(\"Данные для [{}]\".format(string))\n",
    "    print(\"Количество элементов в датасете : {}\".format(len(labels)))\n",
    "    print(\"Количество атрибутов в элементе : {}\".format(len(features[0])))\n",
    "    print(\"Минимальное значение атрибута   : {}\".format(np.min(features)))\n",
    "    print(\"Максимальное значение атрибута  : {}\".format(np.max(features)))\n",
    "    print()"
   ]
  },
  {
   "cell_type": "markdown",
   "metadata": {},
   "source": [
    "### MNIST\n",
    "\n",
    "Чёрно-белые картинки с цифрами. "
   ]
  },
  {
   "cell_type": "code",
   "execution_count": 3,
   "metadata": {
    "scrolled": true
   },
   "outputs": [
    {
     "name": "stdout",
     "output_type": "stream",
     "text": [
      "dict_keys(['Train'])\n"
     ]
    }
   ],
   "source": [
    "with open('mnist.pkl', 'rb') as mnist_pickle:\n",
    "    MNIST = pickle.load(mnist_pickle)\n",
    "print(MNIST.keys())"
   ]
  },
  {
   "cell_type": "code",
   "execution_count": 4,
   "metadata": {},
   "outputs": [
    {
     "name": "stdout",
     "output_type": "stream",
     "text": [
      "dict_keys(['Labels', 'Features'])\n"
     ]
    }
   ],
   "source": [
    "print(MNIST['Train'].keys())"
   ]
  },
  {
   "cell_type": "code",
   "execution_count": 5,
   "metadata": {},
   "outputs": [
    {
     "name": "stdout",
     "output_type": "stream",
     "text": [
      "Данные для [MNIST]\n",
      "Количество элементов в датасете : 42000\n",
      "Количество атрибутов в элементе : 784\n",
      "Минимальное значение атрибута   : 0\n",
      "Максимальное значение атрибута  : 255\n",
      "\n",
      "Данные для [Обучающая выборка из MNIST]\n",
      "Количество элементов в датасете : 33600\n",
      "Количество атрибутов в элементе : 784\n",
      "Минимальное значение атрибута   : 0.0\n",
      "Максимальное значение атрибута  : 1.0\n",
      "\n",
      "Данные для [Тестировочная выборка из MNIST]\n",
      "Количество элементов в датасете : 8400\n",
      "Количество атрибутов в элементе : 784\n",
      "Минимальное значение атрибута   : 0.0\n",
      "Максимальное значение атрибута  : 1.0\n",
      "\n"
     ]
    },
    {
     "data": {
      "image/png": "[encoded data removed]",
      "text/plain": [
       "<Figure size 432x288 with 1 Axes>"
      ]
     },
     "metadata": {
      "needs_background": "light"
     },
     "output_type": "display_data"
    }
   ],
   "source": [
    "def conv_df(df):\n",
    "    return np.array(df).astype(np.float32)/255\n",
    "\n",
    "analyze(MNIST['Train']['Labels'], MNIST['Train']['Features'], \"MNIST\")\n",
    "\n",
    "features = conv_df(MNIST['Train']['Features'])\n",
    "labels = MNIST['Train']['Labels']\n",
    "\n",
    "mnist_train_x, mnist_test_x, mnist_train_y, mnist_test_y = train_test_split(features,labels,test_size=0.2)\n",
    "\n",
    "analyze(mnist_train_y, mnist_train_x, \"Обучающая выборка из MNIST\")\n",
    "analyze(mnist_test_y, mnist_test_x, \"Тестировочная выборка из MNIST\")"
   ]
  },
  {
   "cell_type": "markdown",
   "metadata": {},
   "source": [
    "Основные параметры датасета:"
   ]
  },
  {
   "cell_type": "code",
   "execution_count": 6,
   "metadata": {
    "scrolled": true
   },
   "outputs": [
    {
     "name": "stdout",
     "output_type": "stream",
     "text": [
      "Размер обучающей выборки : 33600\n",
      "Размер тестовой выборки  : 8400\n",
      "Размер датасета MNIST    : 42000\n"
     ]
    }
   ],
   "source": [
    "print(\"Размер обучающей выборки : {}\".format(len(mnist_train_x)))\n",
    "print(\"Размер тестовой выборки  : {}\".format(len(mnist_test_x)))\n",
    "print(\"Размер датасета MNIST    : {}\".format(len(features)))"
   ]
  },
  {
   "cell_type": "markdown",
   "metadata": {},
   "source": [
    "### FashionMNIST"
   ]
  },
  {
   "cell_type": "code",
   "execution_count": 8,
   "metadata": {
    "scrolled": true
   },
   "outputs": [
    {
     "name": "stdout",
     "output_type": "stream",
     "text": [
      "C:\\Users\\anisi\\Desktop\\fashion-mnist\\utils\n",
      "C:\\Users\\anisi\\Desktop\\fashion-mnist\n",
      "C:\\Users\\anisi\\Desktop\n"
     ]
    }
   ],
   "source": [
    "%cd fashion-mnist/utils\n",
    "import mnist_reader\n",
    "%cd ..\n",
    "fashion_mnist_train_x_raw, fashion_mnist_train_y = mnist_reader.load_mnist('data/fashion', kind='train')\n",
    "fashion_mnist_test_x_raw, fashion_mnist_test_y = mnist_reader.load_mnist('data/fashion', kind='t10k')\n",
    "%cd .."
   ]
  },
  {
   "cell_type": "code",
   "execution_count": 9,
   "metadata": {},
   "outputs": [
    {
     "name": "stdout",
     "output_type": "stream",
     "text": [
      "Данные для [Обучающая выборка из Fashion MNIST]\n",
      "Количество элементов в датасете : 60000\n",
      "Количество атрибутов в элементе : 784\n",
      "Минимальное значение атрибута   : 0\n",
      "Максимальное значение атрибута  : 255\n",
      "\n",
      "Данные для [Тестировочная выборка из Fashion MNIST]\n",
      "Количество элементов в датасете : 10000\n",
      "Количество атрибутов в элементе : 784\n",
      "Минимальное значение атрибута   : 0\n",
      "Максимальное значение атрибута  : 255\n",
      "\n"
     ]
    },
    {
     "data": {
      "image/png": "[encoded data removed]",
      "text/plain": [
       "<Figure size 432x288 with 1 Axes>"
      ]
     },
     "metadata": {
      "needs_background": "light"
     },
     "output_type": "display_data"
    }
   ],
   "source": [
    "analyze(fashion_mnist_train_y, fashion_mnist_train_x_raw, \"Обучающая выборка из Fashion MNIST\")\n",
    "analyze(fashion_mnist_test_y, fashion_mnist_test_x_raw, \"Тестировочная выборка из Fashion MNIST\")"
   ]
  },
  {
   "cell_type": "markdown",
   "metadata": {},
   "source": [
    "Переведём значения картинок из (0..255) в числа с плавающей точкой от 0 до 1."
   ]
  },
  {
   "cell_type": "code",
   "execution_count": 10,
   "metadata": {},
   "outputs": [],
   "source": [
    "fashion_mnist_train_x = conv_df(fashion_mnist_train_x_raw)\n",
    "fashion_mnist_test_x  = conv_df(fashion_mnist_test_x_raw)"
   ]
  },
  {
   "cell_type": "code",
   "execution_count": 11,
   "metadata": {
    "scrolled": true
   },
   "outputs": [
    {
     "name": "stdout",
     "output_type": "stream",
     "text": [
      "[0.         0.         0.         0.         0.         0.\n",
      " 0.         0.         0.         0.         0.         0.\n",
      " 0.         0.         0.         0.         0.         0.\n",
      " 0.         0.         0.         0.         0.         0.\n",
      " 0.         0.         0.         0.         0.         0.\n",
      " 0.         0.         0.         0.         0.         0.\n",
      " 0.         0.         0.         0.         0.         0.\n",
      " 0.         0.         0.         0.         0.         0.\n",
      " 0.         0.         0.         0.         0.         0.\n",
      " 0.         0.         0.         0.         0.         0.\n",
      " 0.         0.         0.         0.         0.         0.\n",
      " 0.         0.         0.         0.         0.         0.\n",
      " 0.         0.         0.         0.         0.         0.\n",
      " 0.         0.         0.         0.         0.         0.\n",
      " 0.         0.         0.         0.         0.         0.\n",
      " 0.         0.         0.         0.         0.         0.\n",
      " 0.00392157 0.         0.         0.05098039 0.28627452 0.\n",
      " 0.         0.00392157 0.01568628 0.         0.         0.\n",
      " 0.         0.00392157 0.00392157 0.         0.         0.\n",
      " 0.         0.         0.         0.         0.         0.\n",
      " 0.         0.         0.         0.         0.01176471 0.\n",
      " 0.14117648 0.53333336 0.49803922 0.24313726 0.21176471 0.\n",
      " 0.         0.         0.00392157 0.01176471 0.01568628 0.\n",
      " 0.         0.01176471 0.         0.         0.         0.\n",
      " 0.         0.         0.         0.         0.         0.\n",
      " 0.         0.         0.02352941 0.         0.4        0.8\n",
      " 0.6901961  0.5254902  0.5647059  0.48235294 0.09019608 0.\n",
      " 0.         0.         0.         0.04705882 0.03921569 0.\n",
      " 0.         0.         0.         0.         0.         0.\n",
      " 0.         0.         0.         0.         0.         0.\n",
      " 0.         0.         0.60784316 0.9254902  0.8117647  0.69803923\n",
      " 0.41960785 0.6117647  0.6313726  0.42745098 0.2509804  0.09019608\n",
      " 0.3019608  0.50980395 0.28235295 0.05882353 0.         0.\n",
      " 0.         0.         0.         0.         0.         0.\n",
      " 0.         0.         0.         0.00392157 0.         0.27058825\n",
      " 0.8117647  0.8745098  0.85490197 0.84705883 0.84705883 0.6392157\n",
      " 0.49803922 0.4745098  0.47843137 0.57254905 0.5529412  0.34509805\n",
      " 0.6745098  0.25882354 0.         0.         0.         0.\n",
      " 0.         0.         0.         0.         0.         0.00392157\n",
      " 0.00392157 0.00392157 0.         0.78431374 0.9098039  0.9098039\n",
      " 0.9137255  0.8980392  0.8745098  0.8745098  0.84313726 0.8352941\n",
      " 0.6431373  0.49803922 0.48235294 0.76862746 0.8980392  0.\n",
      " 0.         0.         0.         0.         0.         0.\n",
      " 0.         0.         0.         0.         0.         0.\n",
      " 0.         0.7176471  0.88235295 0.84705883 0.8745098  0.89411765\n",
      " 0.92156863 0.8901961  0.8784314  0.87058824 0.8784314  0.8666667\n",
      " 0.8745098  0.9607843  0.6784314  0.         0.         0.\n",
      " 0.         0.         0.         0.         0.         0.\n",
      " 0.         0.         0.         0.         0.         0.75686276\n",
      " 0.89411765 0.85490197 0.8352941  0.7764706  0.7058824  0.83137256\n",
      " 0.8235294  0.827451   0.8352941  0.8745098  0.8627451  0.9529412\n",
      " 0.7921569  0.         0.         0.         0.         0.\n",
      " 0.         0.         0.         0.         0.         0.00392157\n",
      " 0.01176471 0.         0.04705882 0.85882354 0.8627451  0.83137256\n",
      " 0.85490197 0.7529412  0.6627451  0.8901961  0.8156863  0.85490197\n",
      " 0.8784314  0.83137256 0.8862745  0.77254903 0.81960785 0.20392157\n",
      " 0.         0.         0.         0.         0.         0.\n",
      " 0.         0.         0.         0.         0.02352941 0.\n",
      " 0.3882353  0.95686275 0.87058824 0.8627451  0.85490197 0.79607844\n",
      " 0.7764706  0.8666667  0.84313726 0.8352941  0.87058824 0.8627451\n",
      " 0.9607843  0.46666667 0.654902   0.21960784 0.         0.\n",
      " 0.         0.         0.         0.         0.         0.\n",
      " 0.         0.01568628 0.         0.         0.21568628 0.9254902\n",
      " 0.89411765 0.9019608  0.89411765 0.9411765  0.9098039  0.8352941\n",
      " 0.85490197 0.8745098  0.91764706 0.8509804  0.8509804  0.81960785\n",
      " 0.36078432 0.         0.         0.         0.00392157 0.01568628\n",
      " 0.02352941 0.02745098 0.00784314 0.         0.         0.\n",
      " 0.         0.         0.92941177 0.8862745  0.8509804  0.8745098\n",
      " 0.87058824 0.85882354 0.87058824 0.8666667  0.84705883 0.8745098\n",
      " 0.8980392  0.84313726 0.85490197 1.         0.3019608  0.\n",
      " 0.         0.01176471 0.         0.         0.         0.\n",
      " 0.         0.         0.         0.24313726 0.5686275  0.8\n",
      " 0.89411765 0.8117647  0.8352941  0.8666667  0.85490197 0.8156863\n",
      " 0.827451   0.85490197 0.8784314  0.8745098  0.85882354 0.84313726\n",
      " 0.8784314  0.95686275 0.62352943 0.         0.         0.\n",
      " 0.         0.         0.07058824 0.17254902 0.32156864 0.41960785\n",
      " 0.7411765  0.89411765 0.8627451  0.87058824 0.8509804  0.8862745\n",
      " 0.78431374 0.8039216  0.827451   0.9019608  0.8784314  0.91764706\n",
      " 0.6901961  0.7372549  0.98039216 0.972549   0.9137255  0.93333334\n",
      " 0.84313726 0.         0.         0.22352941 0.73333335 0.8156863\n",
      " 0.8784314  0.8666667  0.8784314  0.8156863  0.8        0.8392157\n",
      " 0.8156863  0.81960785 0.78431374 0.62352943 0.9607843  0.75686276\n",
      " 0.80784315 0.8745098  1.         1.         0.8666667  0.91764706\n",
      " 0.8666667  0.827451   0.8627451  0.9098039  0.9647059  0.\n",
      " 0.01176471 0.7921569  0.89411765 0.8784314  0.8666667  0.827451\n",
      " 0.827451   0.8392157  0.8039216  0.8039216  0.8039216  0.8627451\n",
      " 0.9411765  0.3137255  0.5882353  1.         0.8980392  0.8666667\n",
      " 0.7372549  0.6039216  0.7490196  0.8235294  0.8        0.81960785\n",
      " 0.87058824 0.89411765 0.88235295 0.         0.38431373 0.9137255\n",
      " 0.7764706  0.8235294  0.87058824 0.8980392  0.8980392  0.91764706\n",
      " 0.9764706  0.8627451  0.7607843  0.84313726 0.8509804  0.94509804\n",
      " 0.25490198 0.28627452 0.41568628 0.45882353 0.65882355 0.85882354\n",
      " 0.8666667  0.84313726 0.8509804  0.8745098  0.8745098  0.8784314\n",
      " 0.8980392  0.11372549 0.29411766 0.8        0.83137256 0.8\n",
      " 0.75686276 0.8039216  0.827451   0.88235295 0.84705883 0.7254902\n",
      " 0.77254903 0.80784315 0.7764706  0.8352941  0.9411765  0.7647059\n",
      " 0.8901961  0.9607843  0.9372549  0.8745098  0.85490197 0.83137256\n",
      " 0.81960785 0.87058824 0.8627451  0.8666667  0.9019608  0.2627451\n",
      " 0.1882353  0.79607844 0.7176471  0.7607843  0.8352941  0.77254903\n",
      " 0.7254902  0.74509805 0.7607843  0.7529412  0.7921569  0.8392157\n",
      " 0.85882354 0.8666667  0.8627451  0.9254902  0.88235295 0.84705883\n",
      " 0.78039217 0.80784315 0.7294118  0.70980394 0.69411767 0.6745098\n",
      " 0.70980394 0.8039216  0.80784315 0.4509804  0.         0.47843137\n",
      " 0.85882354 0.75686276 0.7019608  0.67058825 0.7176471  0.76862746\n",
      " 0.8        0.8235294  0.8352941  0.8117647  0.827451   0.8235294\n",
      " 0.78431374 0.76862746 0.7607843  0.7490196  0.7647059  0.7490196\n",
      " 0.7764706  0.7529412  0.6901961  0.6117647  0.654902   0.69411767\n",
      " 0.8235294  0.36078432 0.         0.         0.2901961  0.7411765\n",
      " 0.83137256 0.7490196  0.6862745  0.6745098  0.6862745  0.70980394\n",
      " 0.7254902  0.7372549  0.7411765  0.7372549  0.75686276 0.7764706\n",
      " 0.8        0.81960785 0.8235294  0.8235294  0.827451   0.7372549\n",
      " 0.7372549  0.7607843  0.7529412  0.84705883 0.6666667  0.\n",
      " 0.00784314 0.         0.         0.         0.25882354 0.78431374\n",
      " 0.87058824 0.92941177 0.9372549  0.9490196  0.9647059  0.9529412\n",
      " 0.95686275 0.8666667  0.8627451  0.75686276 0.7490196  0.7019608\n",
      " 0.7137255  0.7137255  0.70980394 0.6901961  0.6509804  0.65882355\n",
      " 0.3882353  0.22745098 0.         0.         0.         0.\n",
      " 0.         0.         0.         0.         0.         0.15686275\n",
      " 0.23921569 0.17254902 0.28235295 0.16078432 0.13725491 0.\n",
      " 0.         0.         0.         0.         0.         0.\n",
      " 0.         0.         0.         0.         0.         0.\n",
      " 0.         0.         0.         0.         0.         0.\n",
      " 0.         0.         0.         0.         0.         0.\n",
      " 0.         0.         0.         0.         0.         0.\n",
      " 0.         0.         0.         0.         0.         0.\n",
      " 0.         0.         0.         0.         0.         0.\n",
      " 0.         0.         0.         0.         0.         0.\n",
      " 0.         0.         0.         0.         0.         0.\n",
      " 0.         0.         0.         0.         0.         0.\n",
      " 0.         0.         0.         0.         0.         0.\n",
      " 0.         0.         0.         0.        ]\n"
     ]
    }
   ],
   "source": [
    "print(fashion_mnist_train_x[0])"
   ]
  },
  {
   "cell_type": "code",
   "execution_count": 35,
   "metadata": {},
   "outputs": [
    {
     "name": "stdout",
     "output_type": "stream",
     "text": [
      "Размер Fashion MNIST : 70000\n"
     ]
    }
   ],
   "source": [
    "print(\"Размер Fashion MNIST : {}\".format(len(fashion_mnist_test_x) + len(fashion_mnist_train_x)))"
   ]
  },
  {
   "cell_type": "markdown",
   "metadata": {},
   "source": [
    "## Нейронная сеть (Перцептрон)\n",
    "\n",
    "### Основные компоненты сети\n",
    "\n",
    "Так как нейронную сеть можно представить в виде последовательности объектов, которые осуществляют взаимодействие межу собой, сформируем нейросеть из объектов с методами forward и backward. Forward используются для получения результатов от нейросети, т.е. прямой прогонка, а backward - для осуществления обратного прохода, который будет использоваться для обучения сети.\n",
    "\n",
    "Базовую нейросеть можно представить в виде последовательности классов, приведенных ниже"
   ]
  },
  {
   "cell_type": "code",
   "execution_count": 13,
   "metadata": {},
   "outputs": [],
   "source": [
    "class Softmax:\n",
    "    def forward(self,z):\n",
    "        self.z = z\n",
    "        zmax = z.max(axis=1,keepdims=True)\n",
    "        expz = np.exp(z-zmax)\n",
    "        Z = expz.sum(axis=1,keepdims=True)\n",
    "        return expz / Z\n",
    "    def backward(self,dp):\n",
    "        p = self.forward(self.z)\n",
    "        pdp = p * dp\n",
    "        return pdp - p * pdp.sum(axis=1, keepdims=True)\n",
    "    \n",
    "class CrossEntropyLoss:\n",
    "    def forward(self,p,y):\n",
    "        self.p = p\n",
    "        self.y = y\n",
    "        p_of_y = p[np.arange(len(y)), y]\n",
    "        log_prob = np.log(p_of_y)\n",
    "        return -log_prob.mean()\n",
    "    def backward(self,loss):\n",
    "        dlog_softmax = np.zeros_like(self.p)\n",
    "        dlog_softmax[np.arange(len(self.y)), self.y] -= 1.0/len(self.y)\n",
    "        return dlog_softmax / self.p\n",
    "    \n",
    "class Linear:\n",
    "    def __init__(self,nin,nout):\n",
    "        self.W = np.random.normal(0, 1.0/np.sqrt(nin), (nout, nin))\n",
    "        self.b = np.zeros((1,nout))\n",
    "        self.dW = np.zeros_like(self.W)\n",
    "        self.db = np.zeros_like(self.b)\n",
    "        \n",
    "    def forward(self, x):\n",
    "        self.x=x\n",
    "        return np.dot(x, self.W.T) + self.b\n",
    "    \n",
    "    def backward(self, dz):\n",
    "        dx = np.dot(dz, self.W)\n",
    "        dW = np.dot(dz.T, self.x)\n",
    "        db = dz.sum(axis=0)\n",
    "        self.dW = dW\n",
    "        self.db = db\n",
    "        return dx\n",
    "    \n",
    "    def update(self,lr):\n",
    "        self.W -= lr*self.dW\n",
    "        self.b -= lr*self.db\n",
    "\n",
    "class Net:\n",
    "    def __init__(self):\n",
    "        self.layers = []\n",
    "    \n",
    "    def add(self,l):\n",
    "        self.layers.append(l)\n",
    "        \n",
    "    def forward(self,x):\n",
    "        for l in self.layers:\n",
    "            x = l.forward(x)\n",
    "        return x\n",
    "    \n",
    "    def backward(self,z):\n",
    "        for l in self.layers[::-1]:\n",
    "            z = l.backward(z)\n",
    "        return z\n",
    "    \n",
    "    def update(self,lr):\n",
    "        for l in self.layers:\n",
    "            if 'update' in l.__dir__():\n",
    "                l.update(lr)\n",
    "                \n",
    "class Tanh:\n",
    "    def forward(self,x):\n",
    "        y = np.tanh(x)\n",
    "        self.y = y\n",
    "        return y\n",
    "    def backward(self,dy):\n",
    "        return (1.0-self.y**2)*dy\n",
    "    def copy(self):\n",
    "        return Tanh()"
   ]
  },
  {
   "cell_type": "markdown",
   "metadata": {},
   "source": [
    "Реализуем простую обертку над этимb классами, при помощи которой можно будет реализовать многослойный перцептрон, задав всего несколько параметров. Данный класс будет иметь зависимости от класса Net, а саму сеть можно представить следующим образом:\n",
    "\n",
    "\\[Слой нейросети\\] <-> \\[Функция активации\\] <->  ... <-> \\[Функция активации\\] <-> \\[SoftMax\\] <-> \\[Функция ошибки\\] "
   ]
  },
  {
   "cell_type": "markdown",
   "metadata": {},
   "source": [
    "### Класс Perceptron\n",
    "\n",
    "Класс Perceptron имеет множество необязательных аргументов, которые могут быть отрегулированы программистом (Программист может использовать собственные реализации функции активации, функции потерь и функции softmax). Кроме того программист может передать базовый Python список, в котором будут находится широты внутренних слоев нейросети. Таким образом при помощи одного списка задается кол-во скрытых слоев и их конфигурация.\n",
    "\n",
    "Процесс обучения вынесен в отдельную функцию fit, кроме того пользователь может просто предоставить данные нейросети и сам класс вычислит количество входных и выходных нейронов.\n",
    "\n",
    "Таким образом, чтобы создаь нейроосеть при помощи фреймворка достаточно задать широты внутренних нейронов и передать данные для обучения нейросети."
   ]
  },
  {
   "cell_type": "code",
   "execution_count": 14,
   "metadata": {
    "scrolled": true
   },
   "outputs": [],
   "source": [
    "class Perceptron:\n",
    "    def __init__(self, learning_rate=0.1,epochs=10, soft=Softmax(),act_func=Tanh(),\n",
    "                layers=[5], loss_func=CrossEntropyLoss(),show_status=False):\n",
    "        self.learning_rate=learning_rate\n",
    "        self.epochs=epochs\n",
    "        self.softmax=soft\n",
    "        self.act_func=act_func\n",
    "        self.layers=layers\n",
    "        self.loss_function=loss_func\n",
    "        self.show_status=show_status\n",
    "        self.level=0\n",
    "     \n",
    "    def status_print(self, msg, level=-1):\n",
    "        if level == -1:\n",
    "            level = self.level\n",
    "        print(\"  \"*level + msg)\n",
    "    def create_net(self, X, Y):\n",
    "        self.net = Net()\n",
    "        #узнаем ширину слоев нейросети\n",
    "        layers_settings = self.layers.copy()\n",
    "        layers_settings.insert(0, len(X[0]))\n",
    "        layers_settings.append(len(np.unique(Y)))\n",
    "        self.classes_count = layers_settings[-1]\n",
    "        if self.show_status:\n",
    "            self.status_print(\"Создание сети :\")\n",
    "            self.level += 1\n",
    "            self.status_print(\"Количество скрытых слоев     : {}\".format(len(layers_settings)-2))\n",
    "            self.status_print(\"Количество входных нейронов  : {}\".format(layers_settings[0]))\n",
    "            self.status_print(\"Koличество выходных нейронов : {}\".format(layers_settings[-1]))\n",
    "            self.status_print(\"Широты скрытых слоев         : {}\".format(self.layers))\n",
    "            self.level -= 1\n",
    "            \n",
    "        #конфигурация нейросети слоями\n",
    "        for i in range(len(layers_settings)-2):\n",
    "            self.net.add(Linear(layers_settings[i], layers_settings[i+1]))\n",
    "            self.net.add(self.act_func.copy())\n",
    "        #добавляем выходной слой и softmax\n",
    "        self.net.add(Linear(layers_settings[-2], layers_settings[-1]))\n",
    "        self.net.add(self.softmax)\n",
    "        return self    \n",
    "    \n",
    "    # надо как-то обучить перцептрон\n",
    "    def fit(self, X,Y):\n",
    "        #создадим нейросеть\n",
    "        self.create_net(X,Y)\n",
    "        #процесс обучения сети\n",
    "        \n",
    "        if self.show_status:\n",
    "            self.level = 0\n",
    "            self.status_print(\"Обучение сети:\")\n",
    "            self.level += 1\n",
    "            \n",
    "        for epoch in range(1, self.epochs + 1):\n",
    "            \n",
    "            \n",
    "            self.train_epoch(X, Y)\n",
    "            if self.show_status:\n",
    "                self.status_print(\"[Эпоха {} из {}] потеря : {}, точность : {}\".format(epoch, self.epochs, *(self.score(X,Y))))\n",
    "        return self\n",
    "\n",
    "    def train_epoch(self, train_x, train_y, batch_size=4):\n",
    "        net = self.net\n",
    "        loss = self.loss_function\n",
    "        lr = self.learning_rate\n",
    "        for i in range(0,len(train_x),batch_size):\n",
    "            xb = train_x[i:i+batch_size]\n",
    "            yb = train_y[i:i+batch_size]\n",
    "\n",
    "            p = net.forward(xb)\n",
    "            l = loss.forward(p,yb)\n",
    "            dp = loss.backward(l)\n",
    "            dx = net.backward(dp)\n",
    "            net.update(lr)  \n",
    "\n",
    "    #вычисление вроятнсотей принадлжения каждому возможному классу\n",
    "    def predict_prob(self, X):\n",
    "        return self.net.forward(X)\n",
    "    \n",
    "    #выдаем наиболее вероятный класс (его номер)\n",
    "    def predict(self, X):\n",
    "        return np.argmax(self.predict_prob(X))\n",
    "    \n",
    "    def score(self, X,Y, calculate_confusion_matrix=False):\n",
    "        p = self.net.forward(X)\n",
    "        l = self.loss_function.forward(p,Y)\n",
    "        pred = np.argmax(p,axis=1)\n",
    "        acc = (pred==Y).mean()\n",
    "        confusion_matrix=[]\n",
    "        if calculate_confusion_matrix:\n",
    "            confusion_matrix = np.zeros((self.classes_count, self.classes_count), dtype=np.int32)\n",
    "            for prd, act in zip (pred, Y):\n",
    "                confusion_matrix[prd][act] += 1\n",
    "        return l,acc, confusion_matrix"
   ]
  },
  {
   "cell_type": "markdown",
   "metadata": {},
   "source": [
    "## Тестирование"
   ]
  },
  {
   "cell_type": "markdown",
   "metadata": {},
   "source": [
    "### Теститрование на датасете MNIST\n",
    "Конфигурировать сети будем внутренними слоями с различными широтами."
   ]
  },
  {
   "cell_type": "markdown",
   "metadata": {},
   "source": [
    "#### Однослойный перцептрон #### "
   ]
  },
  {
   "cell_type": "code",
   "execution_count": 15,
   "metadata": {
    "scrolled": true
   },
   "outputs": [
    {
     "name": "stdout",
     "output_type": "stream",
     "text": [
      "Создание сети :\n",
      "  Количество скрытых слоев     : 0\n",
      "  Количество входных нейронов  : 784\n",
      "  Koличество выходных нейронов : 10\n",
      "  Широты скрытых слоев         : []\n",
      "Обучение сети:\n",
      "  [Эпоха 1 из 10] потеря : 0.33053975759450305, точность : 0.9050297619047619\n",
      "  [Эпоха 2 из 10] потеря : 0.30882106501975, точность : 0.9117261904761905\n",
      "  [Эпоха 3 из 10] потеря : 0.29709371043805577, точность : 0.9154761904761904\n",
      "  [Эпоха 4 из 10] потеря : 0.2891825933770763, точность : 0.917797619047619\n",
      "  [Эпоха 5 из 10] потеря : 0.2835023168359094, точность : 0.9195833333333333\n",
      "  [Эпоха 6 из 10] потеря : 0.279239719809116, точность : 0.9210119047619048\n",
      "  [Эпоха 7 из 10] потеря : 0.2759301830376376, точность : 0.9220833333333334\n",
      "  [Эпоха 8 из 10] потеря : 0.273296544560158, точность : 0.9225\n",
      "  [Эпоха 9 из 10] потеря : 0.2711621535212845, точность : 0.9228273809523809\n",
      "  [Эпоха 10 из 10] потеря : 0.26940642941982307, точность : 0.9233630952380952\n"
     ]
    }
   ],
   "source": [
    "null_layered_perceptron = Perceptron(show_status=True, layers=[]).fit(mnist_train_x, mnist_train_y)"
   ]
  },
  {
   "cell_type": "code",
   "execution_count": 16,
   "metadata": {},
   "outputs": [
    {
     "name": "stdout",
     "output_type": "stream",
     "text": [
      "Точность сети : 0.8947619047619048\n"
     ]
    }
   ],
   "source": [
    "print(\"Точность сети : {}\".format(null_layered_perceptron.score(mnist_test_x, mnist_test_y)[1]))"
   ]
  },
  {
   "cell_type": "markdown",
   "metadata": {},
   "source": [
    "#### Двуслойные перцептроны #### \n",
    "5 нейронов на скрытом слое"
   ]
  },
  {
   "cell_type": "code",
   "execution_count": 17,
   "metadata": {},
   "outputs": [
    {
     "name": "stdout",
     "output_type": "stream",
     "text": [
      "Создание сети :\n",
      "  Количество скрытых слоев     : 1\n",
      "  Количество входных нейронов  : 784\n",
      "  Koличество выходных нейронов : 10\n",
      "  Широты скрытых слоев         : [5]\n",
      "Обучение сети:\n",
      "  [Эпоха 1 из 10] потеря : 0.5536418879429642, точность : 0.8361904761904762\n",
      "  [Эпоха 2 из 10] потеря : 0.5317402060314073, точность : 0.8429166666666666\n",
      "  [Эпоха 3 из 10] потеря : 0.5209509936426062, точность : 0.855625\n",
      "  [Эпоха 4 из 10] потеря : 0.5594904798935417, точность : 0.8317857142857142\n",
      "  [Эпоха 5 из 10] потеря : 0.5208087862891997, точность : 0.8496130952380953\n",
      "  [Эпоха 6 из 10] потеря : 0.5238404785547073, точность : 0.8520535714285714\n",
      "  [Эпоха 7 из 10] потеря : 0.49292073907362943, точность : 0.8634226190476191\n",
      "  [Эпоха 8 из 10] потеря : 0.4941517226129501, точность : 0.8635416666666667\n",
      "  [Эпоха 9 из 10] потеря : 0.4976923473346108, точность : 0.8599404761904762\n",
      "  [Эпоха 10 из 10] потеря : 0.490791322735066, точность : 0.8675297619047619\n"
     ]
    }
   ],
   "source": [
    "first_one_layered_perceptron = Perceptron(show_status=True).fit(mnist_train_x, mnist_train_y)"
   ]
  },
  {
   "cell_type": "code",
   "execution_count": 18,
   "metadata": {},
   "outputs": [
    {
     "name": "stdout",
     "output_type": "stream",
     "text": [
      "Точность сети : 0.8482142857142857\n"
     ]
    }
   ],
   "source": [
    "print(\"Точность сети : {}\".format(first_one_layered_perceptron.score(mnist_test_x, mnist_test_y)[1]))"
   ]
  },
  {
   "cell_type": "markdown",
   "metadata": {},
   "source": [
    "10 нейронов на скрытом слое"
   ]
  },
  {
   "cell_type": "code",
   "execution_count": 19,
   "metadata": {
    "scrolled": true
   },
   "outputs": [
    {
     "name": "stdout",
     "output_type": "stream",
     "text": [
      "Создание сети :\n",
      "  Количество скрытых слоев     : 1\n",
      "  Количество входных нейронов  : 784\n",
      "  Koличество выходных нейронов : 10\n",
      "  Широты скрытых слоев         : [10]\n",
      "Обучение сети:\n",
      "  [Эпоха 1 из 10] потеря : 0.35055620876926086, точность : 0.9002083333333334\n",
      "  [Эпоха 2 из 10] потеря : 0.30919615026466896, точность : 0.9108630952380953\n",
      "  [Эпоха 3 из 10] потеря : 0.31624318826309367, точность : 0.9083333333333333\n",
      "  [Эпоха 4 из 10] потеря : 0.2965335915657611, точность : 0.9142857142857143\n",
      "  [Эпоха 5 из 10] потеря : 0.29779500835461514, точность : 0.9157738095238095\n",
      "  [Эпоха 6 из 10] потеря : 0.29315487343567204, точность : 0.9131845238095239\n",
      "  [Эпоха 7 из 10] потеря : 0.29488904808753813, точность : 0.912797619047619\n",
      "  [Эпоха 8 из 10] потеря : 0.30823090654520147, точность : 0.9080059523809524\n",
      "  [Эпоха 9 из 10] потеря : 0.2733863043910662, точность : 0.9210714285714285\n",
      "  [Эпоха 10 из 10] потеря : 0.2928764140867927, точность : 0.9139583333333333\n",
      "Точность сети : 0.8940476190476191\n"
     ]
    }
   ],
   "source": [
    "second_one_layered_perceptron = Perceptron(show_status=True, layers=[10]).fit(mnist_train_x, mnist_train_y)\n",
    "print(\"Точность сети : {}\".format(second_one_layered_perceptron.score(mnist_test_x, mnist_test_y)[1]))"
   ]
  },
  {
   "cell_type": "markdown",
   "metadata": {},
   "source": [
    "25 нейронов на скрытом слое"
   ]
  },
  {
   "cell_type": "code",
   "execution_count": 20,
   "metadata": {
    "scrolled": true
   },
   "outputs": [
    {
     "name": "stdout",
     "output_type": "stream",
     "text": [
      "Создание сети :\n",
      "  Количество скрытых слоев     : 1\n",
      "  Количество входных нейронов  : 784\n",
      "  Koличество выходных нейронов : 10\n",
      "  Широты скрытых слоев         : [25]\n",
      "Обучение сети:\n",
      "  [Эпоха 1 из 10] потеря : 0.22149741312862686, точность : 0.9345238095238095\n",
      "  [Эпоха 2 из 10] потеря : 0.17240013976072774, точность : 0.9484821428571428\n",
      "  [Эпоха 3 из 10] потеря : 0.16715331655507293, точность : 0.9504464285714286\n",
      "  [Эпоха 4 из 10] потеря : 0.1507150535390414, точность : 0.9530059523809524\n",
      "  [Эпоха 5 из 10] потеря : 0.1480726131591197, точность : 0.9528571428571428\n",
      "  [Эпоха 6 из 10] потеря : 0.1291978401266499, точность : 0.9601785714285714\n",
      "  [Эпоха 7 из 10] потеря : 0.11807429239304536, точность : 0.9641071428571428\n",
      "  [Эпоха 8 из 10] потеря : 0.11948610534020176, точность : 0.9616071428571429\n",
      "  [Эпоха 9 из 10] потеря : 0.10748972224816553, точность : 0.9667559523809524\n",
      "  [Эпоха 10 из 10] потеря : 0.12596922872439675, точность : 0.9607142857142857\n",
      "Точность сети : 0.9335714285714286\n"
     ]
    }
   ],
   "source": [
    "third_one_layered_perceptron = Perceptron(show_status=True, layers=[25]).fit(mnist_train_x, mnist_train_y)\n",
    "print(\"Точность сети : {}\".format(third_one_layered_perceptron.score(mnist_test_x, mnist_test_y)[1]))"
   ]
  },
  {
   "cell_type": "markdown",
   "metadata": {},
   "source": [
    "100 нейронов на скрытом слое"
   ]
  },
  {
   "cell_type": "code",
   "execution_count": 21,
   "metadata": {},
   "outputs": [
    {
     "name": "stdout",
     "output_type": "stream",
     "text": [
      "Создание сети :\n",
      "  Количество скрытых слоев     : 1\n",
      "  Количество входных нейронов  : 784\n",
      "  Koличество выходных нейронов : 10\n",
      "  Широты скрытых слоев         : [100]\n",
      "Обучение сети:\n",
      "  [Эпоха 1 из 10] потеря : 0.15275182548974328, точность : 0.95375\n",
      "  [Эпоха 2 из 10] потеря : 0.11783021648809044, точность : 0.9642559523809524\n",
      "  [Эпоха 3 из 10] потеря : 0.09916790939344206, точность : 0.9699702380952381\n",
      "  [Эпоха 4 из 10] потеря : 0.08694203907683841, точность : 0.9720535714285714\n",
      "  [Эпоха 5 из 10] потеря : 0.05904166061645578, точность : 0.980922619047619\n",
      "  [Эпоха 6 из 10] потеря : 0.061146597276668616, точность : 0.9803273809523809\n",
      "  [Эпоха 7 из 10] потеря : 0.04336692651217805, точность : 0.9860416666666667\n",
      "  [Эпоха 8 из 10] потеря : 0.03385771668742001, точность : 0.9888095238095238\n",
      "  [Эпоха 9 из 10] потеря : 0.034201365829924314, точность : 0.9882142857142857\n",
      "  [Эпоха 10 из 10] потеря : 0.03616152326950785, точность : 0.987470238095238\n",
      "Точность сети : 0.9607142857142857\n"
     ]
    }
   ],
   "source": [
    "fourth_one_layered_perceptron = Perceptron(show_status=True, layers=[100]).fit(mnist_train_x, mnist_train_y)\n",
    "print(\"Точность сети : {}\".format(fourth_one_layered_perceptron.score(mnist_test_x, mnist_test_y)[1]))"
   ]
  },
  {
   "cell_type": "markdown",
   "metadata": {},
   "source": [
    "#### Трехслойные перцептроны #### "
   ]
  },
  {
   "cell_type": "markdown",
   "metadata": {},
   "source": [
    "Внутренние слои шириной 5 и 15"
   ]
  },
  {
   "cell_type": "code",
   "execution_count": 36,
   "metadata": {
    "scrolled": false
   },
   "outputs": [
    {
     "name": "stdout",
     "output_type": "stream",
     "text": [
      "Создание сети :\n",
      "  Количество скрытых слоев     : 2\n",
      "  Количество входных нейронов  : 784\n",
      "  Koличество выходных нейронов : 10\n",
      "  Широты скрытых слоев         : [5, 15]\n",
      "Обучение сети:\n",
      "  [Эпоха 1 из 10] потеря : 0.5765001579072268, точность : 0.8436904761904762\n",
      "  [Эпоха 2 из 10] потеря : 0.536342098693084, точность : 0.8475595238095238\n",
      "  [Эпоха 3 из 10] потеря : 0.5502565366413961, точность : 0.8439285714285715\n",
      "  [Эпоха 4 из 10] потеря : 0.5434999840147445, точность : 0.8532738095238095\n",
      "  [Эпоха 5 из 10] потеря : 0.533081244628643, точность : 0.847202380952381\n",
      "  [Эпоха 6 из 10] потеря : 0.5032766772368852, точность : 0.8638988095238095\n",
      "  [Эпоха 7 из 10] потеря : 0.5390314111441344, точность : 0.8486607142857143\n",
      "  [Эпоха 8 из 10] потеря : 0.492914819115096, точность : 0.8658333333333333\n",
      "  [Эпоха 9 из 10] потеря : 0.5043749288301671, точность : 0.8644047619047619\n",
      "  [Эпоха 10 из 10] потеря : 0.5058977199565055, точность : 0.861875\n",
      "Точность сети : 0.8422619047619048\n"
     ]
    }
   ],
   "source": [
    "first_double_layered_perceptron = Perceptron(show_status=True, layers=[5,15]).fit(mnist_train_x, mnist_train_y)\n",
    "print(\"Точность сети : {}\".format(first_double_layered_perceptron.score(mnist_test_x, mnist_test_y)[1]))"
   ]
  },
  {
   "cell_type": "markdown",
   "metadata": {},
   "source": [
    "Внутренние слои шириной 6 и 10"
   ]
  },
  {
   "cell_type": "code",
   "execution_count": 37,
   "metadata": {
    "scrolled": false
   },
   "outputs": [
    {
     "name": "stdout",
     "output_type": "stream",
     "text": [
      "Создание сети :\n",
      "  Количество скрытых слоев     : 2\n",
      "  Количество входных нейронов  : 784\n",
      "  Koличество выходных нейронов : 10\n",
      "  Широты скрытых слоев         : [6, 10]\n",
      "Обучение сети:\n",
      "  [Эпоха 1 из 10] потеря : 0.5141301738632451, точность : 0.862172619047619\n",
      "  [Эпоха 2 из 10] потеря : 0.46712692276387413, точность : 0.8746726190476191\n",
      "  [Эпоха 3 из 10] потеря : 0.45007043776356725, точность : 0.8834821428571429\n",
      "  [Эпоха 4 из 10] потеря : 0.4654998600209543, точность : 0.877797619047619\n",
      "  [Эпоха 5 из 10] потеря : 0.4329809353485295, точность : 0.8835416666666667\n",
      "  [Эпоха 6 из 10] потеря : 0.4169730966839463, точность : 0.8897321428571429\n",
      "  [Эпоха 7 из 10] потеря : 0.43859253188178493, точность : 0.8847321428571429\n",
      "  [Эпоха 8 из 10] потеря : 0.4228660508627291, точность : 0.888125\n",
      "  [Эпоха 9 из 10] потеря : 0.43910306570464624, точность : 0.8862202380952381\n",
      "  [Эпоха 10 из 10] потеря : 0.4160062725970398, точность : 0.8928571428571429\n",
      "Точность сети : 0.8703571428571428\n"
     ]
    }
   ],
   "source": [
    "second_double_layered_perceptron = Perceptron(show_status=True, layers=[6,10]).fit(mnist_train_x, mnist_train_y)\n",
    "print(\"Точность сети : {}\".format(second_double_layered_perceptron.score(mnist_test_x, mnist_test_y)[1]))"
   ]
  },
  {
   "cell_type": "markdown",
   "metadata": {},
   "source": [
    "Внутренние слои шириной 20 и 10"
   ]
  },
  {
   "cell_type": "code",
   "execution_count": 46,
   "metadata": {},
   "outputs": [
    {
     "name": "stdout",
     "output_type": "stream",
     "text": [
      "Создание сети :\n",
      "  Количество скрытых слоев     : 2\n",
      "  Количество входных нейронов  : 784\n",
      "  Koличество выходных нейронов : 10\n",
      "  Широты скрытых слоев         : [20, 10]\n",
      "Обучение сети:\n",
      "  [Эпоха 1 из 10] потеря : 0.2997669433652981, точность : 0.9166369047619047\n",
      "  [Эпоха 2 из 10] потеря : 0.31069380302164606, точность : 0.9133928571428571\n",
      "  [Эпоха 3 из 10] потеря : 0.2832720962618999, точность : 0.9183333333333333\n",
      "  [Эпоха 4 из 10] потеря : 0.23131854143750943, точность : 0.9355654761904761\n",
      "  [Эпоха 5 из 10] потеря : 0.23400884647369738, точность : 0.9319047619047619\n",
      "  [Эпоха 6 из 10] потеря : 0.2284798875766043, точность : 0.9367559523809523\n",
      "  [Эпоха 7 из 10] потеря : 0.2317672423425787, точность : 0.9358630952380952\n",
      "  [Эпоха 8 из 10] потеря : 0.2080710827485593, точность : 0.9414285714285714\n",
      "  [Эпоха 9 из 10] потеря : 0.21078607388239626, точность : 0.9372916666666666\n",
      "  [Эпоха 10 из 10] потеря : 0.22524223417408962, точность : 0.9352678571428571\n",
      "Точность сети : 0.9164285714285715\n"
     ]
    }
   ],
   "source": [
    "third_double_layered_perceptron = Perceptron(show_status=True, layers=[20,10]).fit(mnist_train_x, mnist_train_y)\n",
    "print(\"Точность сети : {}\".format(third_double_layered_perceptron.score(mnist_test_x, mnist_test_y)[1]))"
   ]
  },
  {
   "cell_type": "markdown",
   "metadata": {},
   "source": [
    "#### Другие многослойные перцептроны"
   ]
  },
  {
   "cell_type": "markdown",
   "metadata": {},
   "source": [
    "Внутренние слои шириной 15, 6, 11"
   ]
  },
  {
   "cell_type": "code",
   "execution_count": 38,
   "metadata": {},
   "outputs": [
    {
     "name": "stdout",
     "output_type": "stream",
     "text": [
      "Создание сети :\n",
      "  Количество скрытых слоев     : 3\n",
      "  Количество входных нейронов  : 784\n",
      "  Koличество выходных нейронов : 10\n",
      "  Широты скрытых слоев         : [15, 6, 11]\n",
      "Обучение сети:\n",
      "  [Эпоха 1 из 10] потеря : 0.5192346855027137, точность : 0.8563392857142857\n",
      "  [Эпоха 2 из 10] потеря : 0.4822588988870701, точность : 0.8659523809523809\n",
      "  [Эпоха 3 из 10] потеря : 0.4497286990472003, точность : 0.8755952380952381\n",
      "  [Эпоха 4 из 10] потеря : 0.48301337826086493, точность : 0.8625892857142857\n",
      "  [Эпоха 5 из 10] потеря : 0.4030800286080829, точность : 0.8991666666666667\n",
      "  [Эпоха 6 из 10] потеря : 0.4681412656167351, точность : 0.8709523809523809\n",
      "  [Эпоха 7 из 10] потеря : 0.41762600552117574, точность : 0.8854761904761905\n",
      "  [Эпоха 8 из 10] потеря : 0.40164399016611213, точность : 0.8947619047619048\n",
      "  [Эпоха 9 из 10] потеря : 0.39396296609775505, точность : 0.8964880952380953\n",
      "  [Эпоха 10 из 10] потеря : 0.4033292433877201, точность : 0.8991964285714286\n",
      "Точность сети : 0.8841666666666667\n"
     ]
    }
   ],
   "source": [
    "first_multi_layered_perceptron = Perceptron(show_status=True, layers=[15, 6, 11]).fit(mnist_train_x, mnist_train_y)\n",
    "print(\"Точность сети : {}\".format(first_multi_layered_perceptron.score(mnist_test_x, mnist_test_y)[1]))"
   ]
  },
  {
   "cell_type": "markdown",
   "metadata": {},
   "source": [
    "Внутренние слои шириной 4, 5, 6, 7"
   ]
  },
  {
   "cell_type": "code",
   "execution_count": 39,
   "metadata": {
    "scrolled": true
   },
   "outputs": [
    {
     "name": "stdout",
     "output_type": "stream",
     "text": [
      "Создание сети :\n",
      "  Количество скрытых слоев     : 4\n",
      "  Количество входных нейронов  : 784\n",
      "  Koличество выходных нейронов : 10\n",
      "  Широты скрытых слоев         : [4, 5, 6, 7]\n",
      "Обучение сети:\n",
      "  [Эпоха 1 из 10] потеря : 0.8036067038035867, точность : 0.7360714285714286\n",
      "  [Эпоха 2 из 10] потеря : 0.8501551578081177, точность : 0.6955059523809524\n",
      "  [Эпоха 3 из 10] потеря : 0.737945484439304, точность : 0.7524107142857143\n",
      "  [Эпоха 4 из 10] потеря : 0.7275293928664062, точность : 0.7585119047619048\n",
      "  [Эпоха 5 из 10] потеря : 0.7423525438925322, точность : 0.760327380952381\n",
      "  [Эпоха 6 из 10] потеря : 0.7244744164738142, точность : 0.7594345238095238\n",
      "  [Эпоха 7 из 10] потеря : 0.7276547328444094, точность : 0.7548511904761904\n",
      "  [Эпоха 8 из 10] потеря : 0.7463955085826808, точность : 0.7511011904761905\n",
      "  [Эпоха 9 из 10] потеря : 0.6871139350360026, точность : 0.7705059523809524\n",
      "  [Эпоха 10 из 10] потеря : 0.7517610781720543, точность : 0.7277678571428572\n",
      "Точность сети : 0.7086904761904762\n"
     ]
    }
   ],
   "source": [
    "second_multi_layered_perceptron = Perceptron(show_status=True, layers=[4, 5, 6, 7]).fit(mnist_train_x, mnist_train_y)\n",
    "print(\"Точность сети : {}\".format(second_multi_layered_perceptron.score(mnist_test_x, mnist_test_y)[1]))"
   ]
  },
  {
   "cell_type": "markdown",
   "metadata": {},
   "source": [
    "Внутренние слои шириной 3, 4, 5, 6, 3, 5, 2, 2, 3"
   ]
  },
  {
   "cell_type": "code",
   "execution_count": 40,
   "metadata": {},
   "outputs": [
    {
     "name": "stdout",
     "output_type": "stream",
     "text": [
      "Создание сети :\n",
      "  Количество скрытых слоев     : 9\n",
      "  Количество входных нейронов  : 784\n",
      "  Koличество выходных нейронов : 10\n",
      "  Широты скрытых слоев         : [3, 4, 5, 6, 3, 5, 2, 2, 3]\n",
      "Обучение сети:\n",
      "  [Эпоха 1 из 10] потеря : 2.2565975433254195, точность : 0.1331845238095238\n",
      "  [Эпоха 2 из 10] потеря : 1.6757096478926883, точность : 0.304375\n",
      "  [Эпоха 3 из 10] потеря : 2.0288485914376286, точность : 0.22273809523809524\n",
      "  [Эпоха 4 из 10] потеря : 1.9911251111943455, точность : 0.23092261904761904\n",
      "  [Эпоха 5 из 10] потеря : 1.9889399299583328, точность : 0.23214285714285715\n",
      "  [Эпоха 6 из 10] потеря : 2.069259107240253, точность : 0.19592261904761904\n",
      "  [Эпоха 7 из 10] потеря : 2.059841828150416, точность : 0.19815476190476192\n",
      "  [Эпоха 8 из 10] потеря : 2.3105889088186147, точность : 0.10726190476190477\n",
      "  [Эпоха 9 из 10] потеря : 2.117928599033838, точность : 0.18794642857142857\n",
      "  [Эпоха 10 из 10] потеря : 2.30269015101555, точность : 0.11077380952380952\n",
      "Точность сети : 0.10952380952380952\n"
     ]
    }
   ],
   "source": [
    "third_multi_layered_perceptron = Perceptron(show_status=True, layers=[3, 4, 5, 6, 3, 5, 2, 2, 3]).fit(mnist_train_x, mnist_train_y)\n",
    "print(\"Точность сети : {}\".format(third_multi_layered_perceptron.score(mnist_test_x, mnist_test_y)[1]))"
   ]
  },
  {
   "cell_type": "markdown",
   "metadata": {},
   "source": [
    " Как видно из результатов тестирования подобранные гиперпараметры сети не подходят для решения данной задачи. "
   ]
  },
  {
   "cell_type": "markdown",
   "metadata": {},
   "source": [
    "### Тестирование на датасете FashionMnist\n",
    "#### Однослойный перцептрон"
   ]
  },
  {
   "cell_type": "code",
   "execution_count": 28,
   "metadata": {},
   "outputs": [
    {
     "name": "stdout",
     "output_type": "stream",
     "text": [
      "Создание сети :\n",
      "  Количество скрытых слоев     : 0\n",
      "  Количество входных нейронов  : 784\n",
      "  Koличество выходных нейронов : 10\n",
      "  Широты скрытых слоев         : []\n",
      "Обучение сети:\n",
      "  [Эпоха 1 из 10] потеря : 0.9344653491515666, точность : 0.79545\n",
      "  [Эпоха 2 из 10] потеря : 0.9139529899003904, точность : 0.8047666666666666\n",
      "  [Эпоха 3 из 10] потеря : 0.8770387332640599, точность : 0.8118\n",
      "  [Эпоха 4 из 10] потеря : 0.896120340196417, точность : 0.811\n",
      "  [Эпоха 5 из 10] потеря : 0.8733941837543867, точность : 0.8142\n",
      "  [Эпоха 6 из 10] потеря : 0.8205157655053785, точность : 0.8213333333333334\n",
      "  [Эпоха 7 из 10] потеря : 0.7857984310796748, точность : 0.8266666666666667\n",
      "  [Эпоха 8 из 10] потеря : 0.7598576314699094, точность : 0.83145\n",
      "  [Эпоха 9 из 10] потеря : 0.7275315334148955, точность : 0.8367333333333333\n",
      "  [Эпоха 10 из 10] потеря : 0.7476506266811564, точность : 0.8340166666666666\n",
      "Точность сети : 0.8073\n"
     ]
    }
   ],
   "source": [
    "fmnist_null_perceptron = Perceptron(show_status=True, layers=[]).fit(fashion_mnist_train_x, fashion_mnist_train_y)\n",
    "print(\"Точность сети : {}\".format(fmnist_null_perceptron.score(fashion_mnist_test_x, fashion_mnist_test_y)[1]))"
   ]
  },
  {
   "cell_type": "markdown",
   "metadata": {},
   "source": [
    "#### Двуслойный перцептрон"
   ]
  },
  {
   "cell_type": "code",
   "execution_count": 41,
   "metadata": {},
   "outputs": [
    {
     "name": "stdout",
     "output_type": "stream",
     "text": [
      "Создание сети :\n",
      "  Количество скрытых слоев     : 1\n",
      "  Количество входных нейронов  : 784\n",
      "  Koличество выходных нейронов : 10\n",
      "  Широты скрытых слоев         : [10]\n",
      "Обучение сети:\n",
      "  [Эпоха 1 из 10] потеря : 0.47501384736575003, точность : 0.8352\n",
      "  [Эпоха 2 из 10] потеря : 0.43821768450826787, точность : 0.8459666666666666\n",
      "  [Эпоха 3 из 10] потеря : 0.41564384665540954, точность : 0.8538666666666667\n",
      "  [Эпоха 4 из 10] потеря : 0.3982055518696969, точность : 0.8602833333333333\n",
      "  [Эпоха 5 из 10] потеря : 0.3857175022435897, точность : 0.8643666666666666\n",
      "  [Эпоха 6 из 10] потеря : 0.37911591160922203, точность : 0.8671666666666666\n",
      "  [Эпоха 7 из 10] потеря : 0.37459717444290574, точность : 0.86855\n",
      "  [Эпоха 8 из 10] потеря : 0.3715209876294351, точность : 0.86975\n",
      "  [Эпоха 9 из 10] потеря : 0.36902011312848987, точность : 0.8703166666666666\n",
      "  [Эпоха 10 из 10] потеря : 0.3666722111006752, точность : 0.8709166666666667\n",
      "Точность сети : 0.8495\n"
     ]
    }
   ],
   "source": [
    "fmnist_first_perceptron = Perceptron(show_status=True, layers=[10], learning_rate=0.01).fit(fashion_mnist_train_x, fashion_mnist_train_y)\n",
    "print(\"Точность сети : {}\".format(fmnist_first_perceptron.score(fashion_mnist_test_x, fashion_mnist_test_y)[1]))"
   ]
  },
  {
   "cell_type": "markdown",
   "metadata": {},
   "source": [
    "#### Трехслойный перцептрон"
   ]
  },
  {
   "cell_type": "code",
   "execution_count": 30,
   "metadata": {},
   "outputs": [
    {
     "name": "stdout",
     "output_type": "stream",
     "text": [
      "Создание сети :\n",
      "  Количество скрытых слоев     : 2\n",
      "  Количество входных нейронов  : 784\n",
      "  Koличество выходных нейронов : 10\n",
      "  Широты скрытых слоев         : [10, 15]\n",
      "Обучение сети:\n",
      "  [Эпоха 1 из 20] потеря : 0.7410984121668497, точность : 0.7633666666666666\n",
      "  [Эпоха 2 из 20] потеря : 0.569979983596857, точность : 0.80475\n",
      "  [Эпоха 3 из 20] потеря : 0.5044828862341432, точность : 0.8273166666666667\n",
      "  [Эпоха 4 из 20] потеря : 0.47017117372739325, точность : 0.8385\n",
      "  [Эпоха 5 из 20] потеря : 0.4487903599196954, точность : 0.84495\n",
      "  [Эпоха 6 из 20] потеря : 0.4338375157634986, точность : 0.8499666666666666\n",
      "  [Эпоха 7 из 20] потеря : 0.4225102179190197, точность : 0.8536\n",
      "  [Эпоха 8 из 20] потеря : 0.4134133811739357, точность : 0.8559333333333333\n",
      "  [Эпоха 9 из 20] потеря : 0.40579057765199716, точность : 0.8582\n",
      "  [Эпоха 10 из 20] потеря : 0.39921136626289055, точность : 0.8602666666666666\n",
      "  [Эпоха 11 из 20] потеря : 0.39341893808554335, точность : 0.8619833333333333\n",
      "  [Эпоха 12 из 20] потеря : 0.3882492836443498, точность : 0.8636333333333334\n",
      "  [Эпоха 13 из 20] потеря : 0.38358956426318563, точность : 0.8647\n",
      "  [Эпоха 14 из 20] потеря : 0.3793585309445453, точность : 0.8664\n",
      "  [Эпоха 15 из 20] потеря : 0.37549628576975796, точность : 0.8675666666666667\n",
      "  [Эпоха 16 из 20] потеря : 0.3719569704002848, точность : 0.8685333333333334\n",
      "  [Эпоха 17 из 20] потеря : 0.368703619407494, точность : 0.8698666666666667\n",
      "  [Эпоха 18 из 20] потеря : 0.36570471411961464, точность : 0.87065\n",
      "  [Эпоха 19 из 20] потеря : 0.36293188389068304, точность : 0.8717\n",
      "  [Эпоха 20 из 20] потеря : 0.3603590829825737, точность : 0.873\n",
      "Точность сети : 0.8509\n"
     ]
    }
   ],
   "source": [
    "fmnist_second_perceptron = Perceptron(show_status=True, layers=[10,15], learning_rate=0.001, epochs=20)\n",
    "fmnist_second_perceptron.fit(fashion_mnist_train_x, fashion_mnist_train_y)\n",
    "print(\"Точность сети : {}\".format(fmnist_second_perceptron.score(fashion_mnist_test_x, fashion_mnist_test_y)[1]))"
   ]
  },
  {
   "cell_type": "markdown",
   "metadata": {},
   "source": [
    "#### Четырехслойный перцептрон"
   ]
  },
  {
   "cell_type": "code",
   "execution_count": 42,
   "metadata": {
    "scrolled": true
   },
   "outputs": [
    {
     "name": "stdout",
     "output_type": "stream",
     "text": [
      "Создание сети :\n",
      "  Количество скрытых слоев     : 3\n",
      "  Количество входных нейронов  : 784\n",
      "  Koличество выходных нейронов : 10\n",
      "  Широты скрытых слоев         : [15, 6, 12]\n",
      "Обучение сети:\n",
      "  [Эпоха 1 из 20] потеря : 0.9750732344366266, точность : 0.7094833333333334\n",
      "  [Эпоха 2 из 20] потеря : 0.6968382882324928, точность : 0.7768833333333334\n",
      "  [Эпоха 3 из 20] потеря : 0.5834035544656401, точность : 0.8128\n",
      "  [Эпоха 4 из 20] потеря : 0.5210208964629541, точность : 0.8317\n",
      "  [Эпоха 5 из 20] потеря : 0.4806689749516209, точность : 0.8436\n",
      "  [Эпоха 6 из 20] потеря : 0.4510274798629689, точность : 0.8521333333333333\n",
      "  [Эпоха 7 из 20] потеря : 0.42893940629789856, точность : 0.8580833333333333\n",
      "  [Эпоха 8 из 20] потеря : 0.41223964297006, точность : 0.8635\n",
      "  [Эпоха 9 из 20] потеря : 0.3991460463068801, точность : 0.8668166666666667\n",
      "  [Эпоха 10 из 20] потеря : 0.3885311184637417, точность : 0.8705\n",
      "  [Эпоха 11 из 20] потеря : 0.3797749714052905, точность : 0.8730833333333333\n",
      "  [Эпоха 12 из 20] потеря : 0.37248390185687397, точность : 0.8752833333333333\n",
      "  [Эпоха 13 из 20] потеря : 0.36633364430560555, точность : 0.87685\n",
      "  [Эпоха 14 из 20] потеря : 0.36104468659043754, точность : 0.8781166666666667\n",
      "  [Эпоха 15 из 20] потеря : 0.3563847573603297, точность : 0.8795666666666667\n",
      "  [Эпоха 16 из 20] потеря : 0.3521822918751999, точность : 0.8806666666666667\n",
      "  [Эпоха 17 из 20] потеря : 0.3483308803227633, точность : 0.8818333333333334\n",
      "  [Эпоха 18 из 20] потеря : 0.3447702113400582, точность : 0.88275\n",
      "  [Эпоха 19 из 20] потеря : 0.34146746895422264, точность : 0.88385\n",
      "  [Эпоха 20 из 20] потеря : 0.33840800951966166, точность : 0.8848166666666667\n",
      "Точность сети : 0.8604\n"
     ]
    }
   ],
   "source": [
    "fmnist_third_perceptron = Perceptron(show_status=True, layers=[15, 6, 12], learning_rate=0.001, epochs=20)\n",
    "fmnist_third_perceptron.fit(fashion_mnist_train_x, fashion_mnist_train_y)\n",
    "print(\"Точность сети : {}\".format(fmnist_third_perceptron.score(fashion_mnist_test_x, fashion_mnist_test_y)[1]))"
   ]
  },
  {
   "cell_type": "markdown",
   "metadata": {},
   "source": [
    "### Итоги\n",
    "\n",
    "Приведем таблицы со статистикой тестирования\n",
    "\n",
    "|№ | Кол-во внутр-х слоев | Широты внутр-х слоев | Точность на тестовой выборке (%) | Кол-во эпох | Коэф. обучения | Датасет | \n",
    "|--|:--------------------:|:------------:|:--------------------------------:|:-----------:|:-----------:|:-----------:|\n",
    "|1| 0 |  | 89.476 | 10 | 0.1 | MNIST |\n",
    "|2| 1 | 5  | 84.821 | 10 | 0.1  | MNIST |\n",
    "|3| 1 | 10 |89.405 | 10 | 0.1  | MNIST |\n",
    "|4| 1 | 100 | 96.071 | 10 | 0.1  | MNIST |\n",
    "|5| 2 | 5, 15 | 84.226 | 10 | 0.1  | MNIST |\n",
    "|6| 2 | 6, 10 | 87.036 | 10 | 0.1  | MNIST |\n",
    "|7| 2 | 20, 10 | 91.643 | 10 | 0.1  | MNIST |\n",
    "|8| 3 | 15, 6, 11 | 88.417 | 10 | 0.1  | MNIST |\n",
    "|9| 4 | 4, 5, 6, 7 | 70.869 | 10 | 0.1  | MNIST |\n",
    "|10| 9 | 3, 4, 5, 6, 3, 5, 2, 2, 3 | 10.952 | 10 | 0.1 | MNIST |\n",
    "|11| 0 |  | 80.73 | 10 | 0.1 | FashionMNIST |\n",
    "|12| 1 | 10 | 84.95 | 10 | 0.01 | FashionMNIST |\n",
    "|13| 2| 10, 15 | 85.09 | 20 | 0.001 | FashionMNIST |\n",
    "|14| 3| 15, 6, 12 | 86.04 | 20 | 0.001 | FashionMNIST |\n",
    "\n",
    "\n",
    "_Датасет_ : MNIST\n",
    "\n",
    "* _Количество входных нейронов_ : 784\n",
    "* _Количество классов для классификации_ : 10\n",
    "\n",
    "\n",
    "_Датасет_ : FashionMNIST \n",
    "\n",
    "* _Количество входных нейронов_ : 784 \n",
    "* _Количество классов для классификации_ : 10\n",
    "\n",
    "Получим confusion matrix для наиболее удачных нейронных сетей."
   ]
  },
  {
   "cell_type": "code",
   "execution_count": 47,
   "metadata": {
    "scrolled": true
   },
   "outputs": [
    {
     "name": "stdout",
     "output_type": "stream",
     "text": [
      "[[817   0  10   4   1   4  19   2   7   6]\n",
      " [  0 950   1   2   3   0   0   4   2   2]\n",
      " [  0   1 761   5   2   2   3   2   2   0]\n",
      " [  2   3  15 828   1  12   0   3  14  14]\n",
      " [  1   0   1   0 802   1   2   1   2  17]\n",
      " [  1   1   1   7   1 703   3   0   2   5]\n",
      " [  0   0   2   0   4   6 804   0   0   0]\n",
      " [  0   2  16   2   3   1   0 862   2  20]\n",
      " [  4   7   3  10   5  11   3   1 786   7]\n",
      " [  1   0   1   2  14   5   0   4   0 757]]\n"
     ]
    }
   ],
   "source": [
    "fourth_one_layered_confusion_matrix = fourth_one_layered_perceptron.score(mnist_test_x, mnist_test_y,calculate_confusion_matrix=True)[2]\n",
    "print(fourth_one_layered_confusion_matrix)"
   ]
  },
  {
   "cell_type": "code",
   "execution_count": 49,
   "metadata": {
    "scrolled": true
   },
   "outputs": [
    {
     "name": "stdout",
     "output_type": "stream",
     "text": [
      "[[ 34  74 334  18 446 154 245  17 273  38]\n",
      " [  1   1   0   1   0   3   0   0   0   0]\n",
      " [  0   1  22   1  20 333   5 374  86 787]\n",
      " [ 13   5  16   6  17  45  14   0   7  76]\n",
      " [  4   0   0   2   0 211   1 311  13   1]\n",
      " [ 49 193  15  86   8  89  17   5  48   0]\n",
      " [  6   1   1   5   1 126   1 284  58   7]\n",
      " [  1   0   0   1   1   5   1   6   4   0]\n",
      " [888 721 602 878 499  28 705   2 501  91]\n",
      " [  4   4  10   2   8   6  11   1  10   0]]\n"
     ]
    }
   ],
   "source": [
    "third_double_layered_perceptron_confusion_matrix = third_double_layered_perceptron.score(fashion_mnist_test_x, fashion_mnist_test_y,calculate_confusion_matrix=True)[2]\n",
    "print(fmnist_third_perceptron_confusion_matrix)"
   ]
  },
  {
   "cell_type": "markdown",
   "metadata": {},
   "source": [
    "## Выводы\n",
    "\n",
    "В ходе работы удалось реализовать собственный нейросетевой фреймворк, способный решать задачи классификации объектов. Для этого достаточно передать несколько параметров в нейросеть и воспользоваться обучающей выборкой. Нейросеть обучается методом обучения с учителем и регулирует веса, решая задачу минимизации функции ошибки при методом градиентного спуска. Тестирование нейросети проведено на датасетах MNIST и FashionMNIST нейросетями с различными конфигурациями. Получены результаты точности их работы на тестовой выборке, которые варьируются от 10 до 96%. Для наиболее удачных сетей были построены Confusion matrix."
   ]
  }
 ],
 "metadata": {
  "kernelspec": {
   "display_name": "Python 3",
   "language": "python",
   "name": "python3"
  },
  "language_info": {
   "codemirror_mode": {
    "name": "ipython",
    "version": 3
   },
   "file_extension": ".py",
   "mimetype": "text/x-python",
   "name": "python",
   "nbconvert_exporter": "python",
   "pygments_lexer": "ipython3",
   "version": "3.8.8"
  }
 },
 "nbformat": 4,
 "nbformat_minor": 2
}
