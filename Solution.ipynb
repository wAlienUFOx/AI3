{
 "cells": [
  {
   "cell_type": "markdown",
   "id": "ea7443b7",
   "metadata": {},
   "source": [
    "## Лабораторная работа по курсу \"Искусственный интеллект\"\n",
    "\n",
    "## Многослойный персептрон\n",
    "|Студент| Анисимов Валерий |\n",
    "|:-----:|:-:|\n",
    "|Группа|М8О-408Б-18|\n",
    "|Вариант| 3 (1) |\n",
    "|Фреймворк| PyTorch |\n"
   ]
  },
  {
   "cell_type": "markdown",
   "id": "777e0a23",
   "metadata": {},
   "source": [
    "### Настройка среды"
   ]
  },
  {
   "cell_type": "code",
   "execution_count": 1,
   "id": "2e8d9d8d",
   "metadata": {},
   "outputs": [
    {
     "name": "stdout",
     "output_type": "stream",
     "text": [
      "Requirement already satisfied: pandas in c:\\users\\anisi\\anaconda3\\lib\\site-packages (1.2.4)Note: you may need to restart the kernel to use updated packages.\n",
      "Requirement already satisfied: python-dateutil>=2.7.3 in c:\\users\\anisi\\anaconda3\\lib\\site-packages (from pandas) (2.8.1)\n",
      "Requirement already satisfied: numpy>=1.16.5 in c:\\users\\anisi\\anaconda3\\lib\\site-packages (from pandas) (1.20.1)\n",
      "Requirement already satisfied: pytz>=2017.3 in c:\\users\\anisi\\anaconda3\\lib\\site-packages (from pandas) (2021.1)\n",
      "\n",
      "Requirement already satisfied: six>=1.5 in c:\\users\\anisi\\anaconda3\\lib\\site-packages (from python-dateutil>=2.7.3->pandas) (1.15.0)\n",
      "Requirement already satisfied: numpy in c:\\users\\anisi\\anaconda3\\lib\\site-packages (1.20.1)\n",
      "Note: you may need to restart the kernel to use updated packages.\n",
      "Requirement already satisfied: torch in c:\\users\\anisi\\anaconda3\\lib\\site-packages (1.9.1)\n",
      "Requirement already satisfied: typing-extensions in c:\\users\\anisi\\anaconda3\\lib\\site-packages (from torch) (3.7.4.3)\n",
      "Note: you may need to restart the kernel to use updated packages.\n",
      "Requirement already satisfied: matplotlib in c:\\users\\anisi\\anaconda3\\lib\\site-packages (3.3.4)Note: you may need to restart the kernel to use updated packages.\n",
      "Requirement already satisfied: pillow>=6.2.0 in c:\\users\\anisi\\anaconda3\\lib\\site-packages (from matplotlib) (8.2.0)\n",
      "Requirement already satisfied: python-dateutil>=2.1 in c:\\users\\anisi\\anaconda3\\lib\\site-packages (from matplotlib) (2.8.1)\n",
      "\n",
      "Requirement already satisfied: pyparsing!=2.0.4,!=2.1.2,!=2.1.6,>=2.0.3 in c:\\users\\anisi\\anaconda3\\lib\\site-packages (from matplotlib) (2.4.7)\n",
      "Requirement already satisfied: cycler>=0.10 in c:\\users\\anisi\\anaconda3\\lib\\site-packages (from matplotlib) (0.10.0)\n",
      "Requirement already satisfied: kiwisolver>=1.0.1 in c:\\users\\anisi\\anaconda3\\lib\\site-packages (from matplotlib) (1.3.1)\n",
      "Requirement already satisfied: numpy>=1.15 in c:\\users\\anisi\\anaconda3\\lib\\site-packages (from matplotlib) (1.20.1)\n",
      "Requirement already satisfied: six in c:\\users\\anisi\\anaconda3\\lib\\site-packages (from cycler>=0.10->matplotlib) (1.15.0)\n"
     ]
    }
   ],
   "source": [
    "%pip install pandas\n",
    "%pip install numpy\n",
    "%pip install torch\n",
    "%pip install matplotlib"
   ]
  },
  {
   "cell_type": "code",
   "execution_count": 2,
   "id": "d2b70f7d",
   "metadata": {
    "scrolled": false
   },
   "outputs": [
    {
     "data": {
      "text/plain": [
       "'1.9.1+cpu'"
      ]
     },
     "execution_count": 2,
     "metadata": {},
     "output_type": "execute_result"
    }
   ],
   "source": [
    "import pickle\n",
    "import torch\n",
    "import matplotlib.pyplot as plt\n",
    "import numpy as np\n",
    "torch.__version__"
   ]
  },
  {
   "cell_type": "markdown",
   "id": "f2bf92c3",
   "metadata": {},
   "source": [
    "Введем некоторые функции для анализа датасетов"
   ]
  },
  {
   "cell_type": "code",
   "execution_count": 3,
   "id": "44be20cd",
   "metadata": {},
   "outputs": [],
   "source": [
    "def count_of_keys(df):\n",
    "    unique = np.unique(df)\n",
    "    counts = np.zeros(len(unique), dtype=np.int32)\n",
    "    for v in df:\n",
    "        counts[v] += 1\n",
    "    return counts\n",
    "def visualization_of_counts(df):\n",
    "    counts = count_of_keys(df)\n",
    "    plt.ylabel(\"Кол-во элементов в классе\")\n",
    "    plt.xlabel(\"Номер каждого класса\")\n",
    "    plt.bar(np.arange(len(counts)), counts)\n",
    "    plt.xticks(np.arange(len(counts)), [i for i in range(len(counts))])\n",
    "def analyze(labels, features, string :str):\n",
    "    visualization_of_counts(labels)\n",
    "    print(\"Данные для [{}]\".format(string))\n",
    "    print(\"Количество элементов в датасете : {}\".format(len(labels)))\n",
    "    print(\"Количество атрибутов в элементе : {}\".format(len(features[0])))\n",
    "    print(\"Минимальное значение атрибута   : {}\".format(np.min(features)))\n",
    "    print(\"Максимальное значение атрибута  : {}\".format(np.max(features)))\n",
    "    print()"
   ]
  },
  {
   "cell_type": "markdown",
   "id": "9e89f837",
   "metadata": {},
   "source": [
    "### Поготовка датасетов\n",
    "\n",
    "Тестировать нейронные сети на основе фреймворка PyTorch будем на датасетах MNIST, FashionMNIST, CIFAR-10.\n",
    "#### MNIST"
   ]
  },
  {
   "cell_type": "code",
   "execution_count": 4,
   "id": "142b3076",
   "metadata": {},
   "outputs": [],
   "source": [
    "from sklearn.model_selection import train_test_split\n",
    "import numpy as np\n",
    "with open('mnist.pkl', 'rb') as mnist_pickle:\n",
    "    MNIST = pickle.load(mnist_pickle)"
   ]
  },
  {
   "cell_type": "code",
   "execution_count": 5,
   "id": "deb743a6",
   "metadata": {
    "scrolled": false
   },
   "outputs": [
    {
     "name": "stdout",
     "output_type": "stream",
     "text": [
      "Данные для [MNIST]\n",
      "Количество элементов в датасете : 42000\n",
      "Количество атрибутов в элементе : 784\n",
      "Минимальное значение атрибута   : 0\n",
      "Максимальное значение атрибута  : 255\n",
      "\n",
      "Данные для [Обучающая выборка из MNIST]\n",
      "Количество элементов в датасете : 33600\n",
      "Количество атрибутов в элементе : 784\n",
      "Минимальное значение атрибута   : 0.0\n",
      "Максимальное значение атрибута  : 1.0\n",
      "\n",
      "Данные для [Тестировочная выборка из MNIST]\n",
      "Количество элементов в датасете : 8400\n",
      "Количество атрибутов в элементе : 784\n",
      "Минимальное значение атрибута   : 0.0\n",
      "Максимальное значение атрибута  : 1.0\n",
      "\n"
     ]
    },
    {
     "data": {
      "image/png": "[encoded data removed]",
      "text/plain": [
       "<Figure size 432x288 with 1 Axes>"
      ]
     },
     "metadata": {
      "needs_background": "light"
     },
     "output_type": "display_data"
    }
   ],
   "source": [
    "def conv_df(df):\n",
    "    return np.array(df).astype(np.float32)/255\n",
    "\n",
    "analyze(MNIST['Train']['Labels'], MNIST['Train']['Features'], \"MNIST\")\n",
    "\n",
    "features = conv_df(MNIST['Train']['Features'])\n",
    "labels = MNIST['Train']['Labels']\n",
    "\n",
    "mnist_train_x, mnist_test_x, mnist_train_y, mnist_test_y = train_test_split(features,labels,test_size=0.2)\n",
    "\n",
    "analyze(mnist_train_y, mnist_train_x, \"Обучающая выборка из MNIST\")\n",
    "analyze(mnist_test_y, mnist_test_x, \"Тестировочная выборка из MNIST\")"
   ]
  },
  {
   "cell_type": "markdown",
   "id": "45c7e76a",
   "metadata": {},
   "source": [
    "#### FashionMNIST"
   ]
  },
  {
   "cell_type": "code",
   "execution_count": 6,
   "id": "e31635fd",
   "metadata": {},
   "outputs": [
    {
     "name": "stdout",
     "output_type": "stream",
     "text": [
      "C:\\Users\\anisi\\Desktop\\fashion-mnist\\utils\n",
      "C:\\Users\\anisi\\Desktop\\fashion-mnist\n",
      "C:\\Users\\anisi\\Desktop\n"
     ]
    }
   ],
   "source": [
    "%cd fashion-mnist/utils\n",
    "import mnist_reader\n",
    "%cd ..\n",
    "fashion_mnist_train_x_raw, fashion_mnist_train_y=mnist_reader.load_mnist('data/fashion', kind='train')\n",
    "fashion_mnist_test_x_raw, fashion_mnist_test_y  =mnist_reader.load_mnist('data/fashion', kind='t10k')\n",
    "%cd .."
   ]
  },
  {
   "cell_type": "code",
   "execution_count": 7,
   "id": "0c9663c0",
   "metadata": {},
   "outputs": [
    {
     "name": "stdout",
     "output_type": "stream",
     "text": [
      "Данные для [Обучающая выборка из Fashion MNIST]\n",
      "Количество элементов в датасете : 60000\n",
      "Количество атрибутов в элементе : 784\n",
      "Минимальное значение атрибута   : 0\n",
      "Максимальное значение атрибута  : 255\n",
      "\n",
      "Данные для [Тестировочная выборка из Fashion MNIST]\n",
      "Количество элементов в датасете : 10000\n",
      "Количество атрибутов в элементе : 784\n",
      "Минимальное значение атрибута   : 0\n",
      "Максимальное значение атрибута  : 255\n",
      "\n"
     ]
    },
    {
     "data": {
      "image/png": "[encoded data removed]",
      "text/plain": [
       "<Figure size 432x288 with 1 Axes>"
      ]
     },
     "metadata": {
      "needs_background": "light"
     },
     "output_type": "display_data"
    }
   ],
   "source": [
    "analyze(fashion_mnist_train_y, fashion_mnist_train_x_raw, \"Обучающая выборка из Fashion MNIST\")\n",
    "analyze(fashion_mnist_test_y, fashion_mnist_test_x_raw, \"Тестировочная выборка из Fashion MNIST\")"
   ]
  },
  {
   "cell_type": "code",
   "execution_count": 8,
   "id": "4416bb1e",
   "metadata": {},
   "outputs": [],
   "source": [
    "fashion_mnist_train_x = conv_df(fashion_mnist_train_x_raw)\n",
    "fashion_mnist_test_x  = conv_df(fashion_mnist_test_x_raw)"
   ]
  },
  {
   "cell_type": "markdown",
   "id": "a32fd439",
   "metadata": {},
   "source": [
    "#### CIFAR-10"
   ]
  },
  {
   "cell_type": "code",
   "execution_count": 9,
   "id": "b61daf38",
   "metadata": {},
   "outputs": [],
   "source": [
    "def unpickle_cifar(file):\n",
    "    with open(file, 'rb') as fo:\n",
    "        dict = pickle.load(fo, encoding='bytes')\n",
    "    return dict\n",
    "test_batch = unpickle_cifar('cifar-10-batches-py/test_batch')\n",
    "data_batch_1 = unpickle_cifar('cifar-10-batches-py/data_batch_1')\n",
    "data_batch_2 = unpickle_cifar('cifar-10-batches-py/data_batch_2')\n",
    "data_batch_3 = unpickle_cifar('cifar-10-batches-py/data_batch_3')\n",
    "data_batch_4 = unpickle_cifar('cifar-10-batches-py/data_batch_4')\n",
    "data_batch_5 = unpickle_cifar('cifar-10-batches-py/data_batch_5')"
   ]
  },
  {
   "cell_type": "code",
   "execution_count": 10,
   "id": "d985f0b4",
   "metadata": {
    "scrolled": true
   },
   "outputs": [
    {
     "name": "stdout",
     "output_type": "stream",
     "text": [
      "dict_keys([b'batch_label', b'labels', b'data', b'filenames'])\n",
      "dict_keys([b'batch_label', b'labels', b'data', b'filenames'])\n",
      "[3, 8, 8, 0, 6, 6, 1, 6, 3, 1, 0, 9, 5, 7, 9, 8, 5, 7, 8, 6, 7, 0, 4, 9, 5, 2, 4, 0, 9, 6, 6, 5, 4, 5, 9, 2, 4, 1, 9, 5, 4, 6, 5, 6, 0, 9, 3, 9, 7, 6, 9, 8, 0, 3, 8, 8, 7, 7, 4, 6, 7, 3, 6, 3, 6, 2, 1, 2, 3, 7, 2, 6, 8, 8, 0, 2, 9, 3, 3, 8, 8, 1, 1, 7, 2, 5, 2, 7, 8, 9, 0, 3, 8, 6, 4, 6, 6, 0, 0, 7, 4, 5, 6, 3, 1, 1, 3, 6, 8, 7, 4, 0, 6, 2, 1, 3, 0, 4, 2, 7, 8, 3, 1, 2, 8, 0, 8, 3, 5, 2, 4, 1, 8, 9, 1, 2, 9, 7, 2, 9, 6, 5, 6, 3, 8, 7, 6, 2, 5, 2, 8, 9, 6, 0, 0, 5, 2, 9, 5, 4, 2, 1, 6, 6, 8, 4, 8, 4, 5, 0, 9, 9, 9, 8, 9, 9, 3, 7, 5, 0, 0, 5, 2, 2, 3, 8, 6, 3, 4, 0, 5, 8, 0, 1, 7, 2, 8, 8, 7, 8, 5, 1, 8, 7, 1, 3, 0, 5, 7, 9, 7, 4, 5, 9, 8, 0, 7, 9, 8, 2, 7, 6, 9, 4, 3, 9, 6, 4, 7, 6, 5, 1, 5, 8, 8, 0, 4, 0, 5, 5, 1, 1, 8, 9, 0, 3, 1, 9, 2, 2, 5, 3, 9, 9, 4, 0, 3, 0, 0, 9, 8, 1, 5, 7, 0, 8, 2, 4, 7, 0, 2, 3, 6, 3, 8, 5, 0, 3, 4, 3, 9, 0, 6, 1, 0, 9, 1, 0, 7, 9, 1, 2, 6, 9, 3, 4, 6, 0, 0, 6, 6, 6, 3, 2, 6, 1, 8, 2, 1, 6, 8, 6, 8, 0, 4, 0, 7, 7, 5, 5, 3, 5, 2, 3, 4, 1, 7, 5, 4, 6, 1, 9, 3, 6, 6, 9, 3, 8, 0, 7, 2, 6, 2, 5, 8, 5, 4, 6, 8, 9, 9, 1, 0, 2, 2, 7, 3, 2, 8, 0, 9, 5, 8, 1, 9, 4, 1, 3, 8, 1, 4, 7, 9, 4, 2, 7, 0, 7, 0, 6, 6, 9, 0, 9, 2, 8, 7, 2, 2, 5, 1, 2, 6, 2, 9, 6, 2, 3, 0, 3, 9, 8, 7, 8, 8, 4, 0, 1, 8, 2, 7, 9, 3, 6, 1, 9, 0, 7, 3, 7, 4, 5, 0, 0, 2, 9, 3, 4, 0, 6, 2, 5, 3, 7, 3, 7, 2, 5, 3, 1, 1, 4, 9, 9, 5, 7, 5, 0, 2, 2, 2, 9, 7, 3, 9, 4, 3, 5, 4, 6, 5, 6, 1, 4, 3, 4, 4, 3, 7, 8, 3, 7, 8, 0, 5, 7, 6, 0, 5, 4, 8, 6, 8, 5, 5, 9, 9, 9, 5, 0, 1, 0, 8, 1, 1, 8, 0, 2, 2, 0, 4, 6, 5, 4, 9, 4, 7, 9, 9, 4, 5, 6, 6, 1, 5, 3, 8, 9, 5, 8, 5, 7, 0, 7, 0, 5, 0, 0, 4, 6, 9, 0, 9, 5, 6, 6, 6, 2, 9, 0, 1, 7, 6, 7, 5, 9, 1, 6, 2, 5, 5, 5, 8, 5, 9, 4, 6, 4, 3, 2, 0, 7, 6, 2, 2, 3, 9, 7, 9, 2, 6, 7, 1, 3, 6, 6, 8, 9, 7, 5, 4, 0, 8, 4, 0, 9, 3, 4, 8, 9, 6, 9, 2, 6, 1, 4, 7, 3, 5, 3, 8, 5, 0, 2, 1, 6, 4, 3, 3, 9, 6, 9, 8, 8, 5, 8, 6, 6, 2, 1, 7, 7, 1, 2, 7, 9, 9, 4, 4, 1, 2, 5, 6, 8, 7, 6, 8, 3, 0, 5, 5, 3, 0, 7, 9, 1, 3, 4, 4, 5, 3, 9, 5, 6, 9, 2, 1, 1, 4, 1, 9, 4, 7, 6, 3, 8, 9, 0, 1, 3, 6, 3, 6, 3, 2, 0, 3, 1, 0, 5, 9, 6, 4, 8, 9, 6, 9, 6, 3, 0, 3, 2, 2, 7, 8, 3, 8, 2, 7, 5, 7, 2, 4, 8, 7, 4, 2, 9, 8, 8, 6, 8, 8, 7, 4, 3, 3, 8, 4, 9, 4, 8, 8, 1, 8, 2, 1, 3, 6, 5, 4, 2, 7, 9, 9, 4, 1, 4, 1, 3, 2, 7, 0, 7, 9, 7, 6, 6, 2, 5, 9, 2, 9, 1, 2, 2, 6, 8, 2, 1, 3, 6, 6, 0, 1, 2, 7, 0, 5, 4, 6, 1, 6, 4, 0, 2, 2, 6, 0, 5, 9, 1, 7, 6, 7, 0, 3, 9, 6, 8, 3, 0, 3, 4, 7, 7, 1, 4, 7, 2, 7, 1, 4, 7, 4, 4, 8, 4, 7, 7, 5, 3, 7, 2, 0, 8, 9, 5, 8, 3, 6, 2, 0, 8, 7, 3, 7, 6, 5, 3, 1, 3, 2, 2, 5, 4, 1, 2, 9, 2, 7, 0, 7, 2, 1, 3, 2, 0, 2, 4, 7, 9, 8, 9, 0, 7, 7, 0, 7, 8, 4, 6, 3, 3, 0, 1, 3, 7, 0, 1, 3, 1, 4, 2, 3, 8, 4, 2, 3, 7, 8, 4, 3, 0, 9, 0, 0, 1, 0, 4, 4, 6, 7, 6, 1, 1, 3, 7, 3, 5, 2, 6, 6, 5, 8, 7, 1, 6, 8, 8, 5, 3, 0, 4, 0, 1, 3, 8, 8, 0, 6, 9, 9, 9, 5, 5, 8, 6, 0, 0, 4, 2, 3, 2, 7, 2, 2, 5, 9, 8, 9, 1, 7, 4, 0, 3, 0, 1, 3, 8, 3, 9, 6, 1, 4, 7, 0, 3, 7, 8, 9, 1, 1, 6, 6, 6, 6, 9, 1, 9, 9, 4, 2, 1, 7, 0, 6, 8, 1, 9, 2, 9, 0, 4, 7, 8, 3, 1, 2, 0, 1, 5, 8, 4, 6, 3, 8, 1, 3, 8, 5, 0, 8, 4, 8, 1, 1, 8, 9, 6, 0, 8, 6, 1, 3, 4, 1, 6, 0, 5, 1, 1, 0, 0, 3, 5, 0, 0, 6, 6, 3, 3, 6, 3, 6, 6, 0, 7, 2, 2, 7, 5, 5, 2, 8, 5, 2, 1, 1, 4, 3, 2, 0, 3, 1, 5, 3, 7, 6, 8, 9, 1, 6, 4, 9, 3, 9, 0, 9, 6, 3, 6, 0, 7, 3, 8, 0, 0, 0, 6, 6, 6, 9, 2, 5, 4, 4, 6, 3, 6, 0, 8, 6, 0, 6, 2, 7, 5, 1, 2, 7, 8, 8, 0, 9, 4, 9, 7, 2, 0, 2, 8, 3, 8, 9, 1, 5, 5, 4, 7, 5, 3, 8, 3, 3, 6, 2, 8, 4, 3, 7, 1, 2, 4, 1, 6, 9, 0, 5, 8, 6, 1, 8, 6, 1, 4, 2, 6, 2, 7, 2, 2, 0, 8, 6, 9, 1, 7, 1, 8, 8, 0, 7, 3, 8, 0, 3, 4, 3, 7, 7, 9, 2, 3, 1, 9, 1, 9, 6, 3, 3, 3, 1, 0, 6, 1, 4, 1, 0, 0, 1, 1, 6, 5, 4, 6, 2, 0, 7, 9, 8, 7, 2, 0, 6, 8, 1, 4, 3, 7, 0, 6, 1, 8, 5, 7, 8, 4, 8, 3, 9, 9, 9, 8, 7, 6, 6, 3, 5, 1, 5, 9, 1, 4, 1, 5, 7, 0, 1, 5, 2, 0, 8, 8, 5, 6, 7, 3, 2, 4, 7, 2, 5, 8, 2, 4, 9, 2, 1, 8, 1, 9, 8, 8, 8, 9, 0, 4, 3, 3, 1, 8, 4, 6, 3, 3, 5, 2, 2, 8, 3, 8, 9, 5, 8, 9, 8, 9, 1, 6, 5, 9, 4, 4, 8, 0, 7, 2, 9, 7, 4, 1, 6, 4, 4, 9, 1, 2, 5, 6, 0, 8, 6, 1, 9, 4, 5, 9, 5, 0, 7, 2, 0, 0, 4, 2, 6, 6, 5, 5, 2, 8, 1, 7, 3, 1, 4, 5, 6, 5, 1, 4, 7, 0, 9, 4, 3, 8, 2, 8, 4, 7, 2, 3, 1, 5, 2, 9, 8, 9, 7, 9, 5, 1, 4, 0, 8, 2, 3, 8, 9, 1, 1, 3, 2, 4, 9, 3, 1, 7, 4, 6, 2, 8, 9, 5, 3, 9, 5, 5, 6, 7, 2, 4, 6, 3, 1, 0, 7, 2, 5, 4, 7, 6, 1, 1, 9, 8, 1, 0, 1, 3, 1, 1, 1, 7, 3, 9, 6, 8, 4, 6, 8, 4, 9, 4, 7, 9, 7, 6, 8, 4, 9, 7, 0, 1, 6, 1, 5, 9, 0, 4, 3, 4, 1, 3, 0, 8, 4, 6, 2, 2, 6, 5, 3, 6, 2, 1, 1, 8, 6, 0, 4, 0, 1, 9, 7, 1, 3, 7, 7, 8, 7, 7, 3, 9, 7, 7, 7, 2, 1, 2, 8, 6, 4, 0, 7, 9, 8, 6, 8, 4, 9, 1, 7, 2, 2, 8, 5, 8, 1, 2, 2, 4, 1, 2, 5, 2, 8, 1, 8, 1, 8, 6, 0, 2, 4, 1, 3, 6, 7, 7, 4, 4, 3, 3, 4, 5, 2, 4, 3, 7, 8, 4, 4, 4, 5, 4, 3, 2, 8, 4, 5, 5, 4, 1, 4, 2, 5, 1, 6, 4, 3, 4, 4, 0, 8, 8, 4, 5, 7, 5, 6, 9, 1, 6, 7, 2, 0, 1, 4, 5, 6, 0, 0, 2, 7, 5, 6, 0, 6, 2, 9, 1, 7, 7, 5, 2, 5, 6, 4, 1, 4, 3, 3, 3, 0, 3, 5, 5, 8, 9, 7, 3, 1, 3, 3, 3, 4, 4, 2, 3, 3, 8, 1, 7, 7, 0, 7, 4, 5, 1, 4, 2, 4, 3, 9, 9, 4, 9, 9, 1, 8, 1, 6, 7, 5, 5, 4, 9, 7, 6, 5, 9, 2, 4, 0, 7, 8, 5, 5, 0, 0, 9, 9, 8, 2, 5, 4, 8, 3, 6, 3, 6, 0, 6, 6, 6, 9, 6, 6, 8, 6, 2, 4, 5, 8, 1, 2, 7, 6, 5, 7, 8, 1, 8, 0, 8, 6, 9, 2, 8, 9, 4, 0, 9, 4, 9, 5, 7, 5, 5, 9, 5, 3, 0, 1, 9, 7, 2, 4, 1, 0, 8, 0, 3, 1, 7, 0, 0, 4, 8, 6, 2, 4, 0, 0, 9, 0, 8, 4, 5, 9, 3, 9, 0, 5, 6, 5, 0, 1, 4, 8, 1, 0, 5, 2, 1, 0, 2, 8, 1, 5, 6, 7, 7, 2, 6, 2, 5, 0, 1, 4, 2, 5, 4, 6, 2, 2, 1, 7, 2, 8, 5, 5, 3, 0, 4, 8, 3, 7, 6, 3, 8, 1, 0, 1, 3, 3, 0, 7, 4, 9, 5, 3, 6, 0, 1, 4, 4, 4, 4, 2, 2, 5, 8, 1, 5, 9, 8, 1, 1, 5, 3, 9, 9, 7, 6, 5, 0, 8, 4, 7, 0, 9, 2, 8, 4, 7, 1, 3, 9, 6, 8, 9, 0, 4, 9, 6, 7, 8, 9, 4, 8, 9, 7, 2, 5, 3, 7, 1, 0, 2, 9, 5, 5, 8, 5, 4, 2, 8, 3, 5, 5, 7, 7, 8, 6, 2, 8, 2, 3, 5, 6, 8, 0, 2, 3, 7, 0, 1, 9, 1, 3, 7, 5, 8, 3, 2, 9, 6, 8, 6, 9, 3, 8, 9, 8, 0, 7, 8, 5, 0, 0, 1, 3, 9, 1, 5, 3, 4, 4, 0, 9, 9, 9, 9, 8, 2, 4, 2, 2, 5, 1, 9, 1, 0, 9, 4, 2, 1, 6, 0, 3, 7, 6, 3, 1, 8, 6, 5, 7, 2, 8, 4, 4, 8, 3, 5, 0, 5, 7, 4, 4, 2, 2, 7, 3, 6, 0, 2, 7, 6, 2, 3, 0, 7, 7, 8, 1, 1, 4, 6, 0, 6, 6, 5, 5, 6, 3, 9, 3, 6, 8, 7, 6, 4, 9, 5, 6, 4, 1, 6, 3, 8, 2, 3, 9, 8, 5, 1, 5, 4, 5, 7, 5, 7, 8, 9, 1, 7, 2, 5, 6, 8, 4, 6, 5, 3, 9, 9, 8, 5, 5, 6, 4, 5, 9, 7, 3, 4, 1, 4, 2, 3, 6, 5, 5, 2, 8, 0, 0, 1, 8, 3, 1, 3, 5, 8, 3, 8, 5, 8, 6, 3, 5, 5, 5, 0, 9, 5, 5, 7, 1, 8, 2, 2, 7, 3, 4, 2, 9, 6, 2, 2, 4, 3, 0, 2, 0, 1, 3, 2, 2, 7, 0, 1, 0, 7, 7, 2, 0, 1, 6, 5, 0, 2, 2, 0, 1, 2, 6, 0, 1, 6, 6, 5, 3, 4, 0, 0, 9, 1, 0, 2, 5, 9, 7, 8, 6, 4, 6, 0, 2, 0, 1, 9, 2, 4, 9, 0, 7, 2, 3, 4, 8, 0, 2, 6, 8, 9, 7, 1, 9, 3, 7, 2, 7, 9, 6, 9, 5, 7, 8, 5, 9, 8, 3, 9, 8, 0, 5, 5, 7, 1, 2, 0, 7, 5, 8, 2, 2, 5, 3, 9, 3, 1, 9, 3, 1, 4, 3, 4, 4, 9, 0, 9, 5, 9, 2, 9, 4, 0, 2, 8, 4, 8, 6, 8, 2, 0, 5, 9, 6, 9, 5, 1, 3, 4, 4, 2, 7, 2, 4, 4, 0, 2, 8, 4, 5, 1, 2, 6, 8, 1, 7, 2, 8, 7, 4, 3, 3, 0, 3, 7, 2, 5, 6, 1, 7, 9, 0, 2, 3, 9, 8, 9, 5, 0, 0, 7, 6, 3, 3, 8, 1, 4, 0, 1, 5, 4, 3, 2, 6, 0, 8, 8, 6, 3, 3, 2, 9, 7, 5, 1, 6, 0, 5, 9, 9, 4, 5, 9, 4, 8, 3, 3, 2, 5, 1, 9, 5, 5, 8, 1, 8, 9, 7, 0, 6, 3, 2, 0, 2, 6, 9, 3, 9, 1, 6, 6, 7, 2, 6, 3, 2, 5, 5, 2, 7, 5, 2, 0, 8, 0, 7, 7, 1, 7, 4, 0, 2, 2, 6, 1, 5, 9, 7, 6, 2, 7, 0, 5, 6, 0, 1, 1, 8, 4, 5, 3, 1, 2, 4, 8, 9, 8, 1, 7, 2, 7, 2, 3, 2, 6, 7, 9, 4, 0, 1, 0, 4, 5, 0, 8, 0, 7, 6, 1, 0, 8, 5, 9, 2, 5, 4, 4, 9, 0, 6, 1, 2, 5, 1, 6, 7, 1, 5, 8, 8, 0, 3, 9, 4, 0, 3, 4, 9, 2, 4, 3, 0, 6, 4, 5, 6, 6, 7, 8, 4, 8, 8, 3, 2, 8, 0, 2, 5, 6, 8, 7, 8, 9, 9, 0, 6, 6, 8, 1, 1, 7, 4, 4, 2, 3, 6, 9, 6, 2, 4, 1, 8, 2, 3, 1, 6, 8, 6, 8, 5, 9, 0, 1, 0, 2, 9, 2, 9, 0, 9, 7, 8, 5, 0, 6, 6, 8, 1, 6, 5, 8, 7, 9, 2, 1, 6, 7, 5, 6, 3, 0, 9, 8, 9, 5, 9, 9, 9, 3, 6, 4, 4, 8, 8, 1, 7, 3, 0, 6, 2, 4, 8, 2, 2, 9, 2, 2, 9, 7, 4, 1, 9, 1, 4, 3, 5, 3, 8, 9, 3, 6, 2, 0, 8, 9, 0, 5, 1, 5, 8, 2, 1, 2, 3, 2, 4, 8, 4, 0, 6, 4, 2, 9, 8, 4, 7, 6, 2, 4, 7, 7, 6, 4, 2, 2, 3, 2, 4, 9, 0, 0, 9, 6, 5, 8, 5, 2, 4, 8, 8, 6, 4, 5, 7, 6, 3, 7, 0, 4, 0, 5, 8, 2, 8, 0, 4, 9, 2, 3, 6, 8, 1, 6, 0, 8, 4, 3, 1, 4, 5, 2, 4, 3, 6, 0, 7, 1, 3, 5, 7, 1, 8, 0, 4, 8, 2, 7, 7, 0, 2, 2, 4, 3, 3, 1, 6, 1, 6, 4, 6, 7, 4, 7, 3, 8, 1, 3, 1, 4, 6, 5, 5, 7, 4, 5, 4, 9, 7, 7, 2, 3, 3, 6, 7, 4, 1, 6, 1, 0, 6, 9, 6, 0, 2, 0, 2, 4, 7, 0, 0, 0, 0, 7, 5, 3, 2, 7, 8, 5, 5, 2, 2, 8, 9, 1, 2, 2, 0, 3, 4, 9, 1, 6, 9, 0, 8, 3, 6, 4, 6, 7, 5, 1, 8, 9, 0, 5, 0, 5, 4, 3, 8, 5, 2, 0, 8, 5, 9, 2, 5, 6, 5, 7, 3, 7, 2, 8, 8, 4, 2, 1, 6, 2, 9, 9, 8, 2, 3, 1, 0, 5, 2, 3, 7, 9, 5, 9, 1, 1, 3, 2, 7, 4, 4, 1, 9, 4, 5, 5, 2, 7, 7, 6, 1, 2, 3, 7, 5, 4, 3, 7, 7, 0, 0, 1, 4, 4, 3, 7, 9, 8, 7, 0, 9, 0, 3, 7, 6, 3, 8, 4, 5, 6, 5, 3, 4, 2, 9, 2, 4, 9, 2, 0, 1, 1, 3, 7, 9, 5, 1, 6, 0, 3, 3, 7, 2, 4, 5, 2, 3, 6, 3, 3, 0, 4, 4, 3, 8, 1, 2, 3, 2, 7, 1, 4, 5, 6, 8, 6, 6, 5, 4, 2, 9, 9, 3, 2, 0, 4, 1, 5, 5, 6, 6, 5, 6, 9, 7, 9, 4, 8, 3, 1, 9, 8, 1, 9, 0, 3, 0, 4, 7, 7, 2, 6, 5, 6, 9, 7, 7, 5, 7, 0, 8, 6, 7, 8, 3, 8, 9, 3, 2, 9, 2, 7, 4, 1, 9, 7, 0, 8, 1, 2, 0, 6, 5, 1, 4, 2, 8, 2, 8, 3, 3, 1, 4, 9, 8, 1, 1, 7, 9, 9, 4, 6, 8, 5, 3, 2, 2, 3, 8, 5, 1, 9, 7, 9, 1, 5, 3, 1, 0, 3, 8, 9, 2, 0, 8, 0, 7, 9, 4, 8, 3, 0, 7, 0, 7, 0, 5, 5, 4, 3, 0, 9, 9, 0, 2, 2, 0, 8, 4, 4, 5, 2, 2, 1, 1, 5, 5, 4, 3, 4, 0, 8, 4, 8, 2, 5, 6, 5, 1, 7, 2, 4, 0, 5, 6, 8, 7, 6, 3, 1, 3, 6, 6, 4, 5, 5, 5, 1, 8, 7, 3, 0, 2, 5, 1, 1, 1, 6, 7, 2, 1, 2, 3, 9, 8, 3, 1, 7, 4, 8, 4, 7, 5, 8, 6, 0, 3, 0, 8, 3, 4, 4, 9, 4, 6, 1, 5, 7, 7, 9, 0, 1, 3, 1, 3, 2, 4, 0, 7, 8, 3, 1, 6, 2, 1, 8, 8, 1, 9, 7, 5, 3, 2, 9, 0, 6, 8, 4, 1, 5, 7, 2, 4, 7, 0, 4, 9, 0, 7, 0, 6, 7, 1, 8, 5, 8, 8, 7, 0, 0, 3, 2, 5, 7, 0, 6, 4, 4, 9, 1, 8, 6, 3, 9, 4, 9, 3, 3, 7, 5, 9, 7, 7, 4, 5, 8, 2, 8, 9, 5, 3, 1, 9, 2, 2, 0, 1, 1, 8, 1, 1, 9, 8, 9, 9, 0, 2, 6, 9, 1, 9, 0, 1, 9, 2, 9, 9, 9, 0, 9, 9, 2, 1, 7, 0, 5, 6, 3, 9, 8, 3, 0, 2, 7, 7, 4, 8, 3, 0, 5, 2, 3, 5, 7, 6, 6, 6, 5, 6, 5, 4, 5, 8, 8, 0, 9, 7, 9, 0, 6, 9, 6, 1, 4, 7, 9, 0, 3, 5, 4, 7, 6, 9, 8, 2, 3, 9, 3, 3, 7, 8, 3, 5, 5, 9, 6, 1, 4, 7, 4, 8, 7, 7, 1, 3, 0, 3, 2, 5, 4, 9, 3, 5, 4, 7, 0, 3, 7, 0, 2, 1, 5, 8, 7, 3, 5, 7, 8, 5, 7, 8, 1, 5, 4, 7, 0, 8, 3, 2, 9, 7, 4, 1, 6, 5, 9, 8, 5, 5, 4, 1, 0, 9, 4, 4, 3, 0, 4, 8, 0, 8, 2, 9, 5, 9, 7, 4, 6, 7, 9, 2, 9, 3, 7, 7, 8, 2, 2, 0, 2, 5, 3, 6, 4, 7, 2, 3, 7, 8, 7, 2, 5, 0, 0, 7, 0, 9, 6, 1, 0, 3, 9, 7, 4, 9, 1, 6, 8, 1, 2, 3, 3, 5, 4, 8, 9, 7, 4, 4, 1, 2, 4, 9, 8, 7, 9, 5, 1, 2, 1, 6, 6, 4, 5, 7, 4, 5, 8, 5, 2, 8, 7, 8, 2, 3, 6, 1, 3, 3, 1, 5, 1, 9, 0, 9, 2, 0, 6, 2, 4, 8, 5, 7, 6, 1, 2, 9, 4, 5, 0, 3, 3, 7, 7, 7, 1, 4, 5, 0, 2, 8, 5, 0, 0, 6, 2, 0, 8, 4, 5, 4, 5, 6, 4, 7, 9, 4, 2, 0, 6, 4, 0, 0, 6, 4, 6, 1, 9, 5, 5, 2, 2, 6, 3, 4, 5, 9, 1, 7, 2, 3, 9, 6, 5, 0, 2, 9, 7, 1, 7, 2, 2, 0, 8, 6, 4, 3, 2, 7, 7, 0, 4, 1, 6, 5, 1, 3, 0, 3, 9, 0, 0, 2, 5, 0, 4, 0, 1, 9, 8, 4, 9, 4, 2, 4, 3, 3, 4, 0, 4, 3, 2, 8, 9, 1, 5, 8, 1, 8, 2, 4, 5, 2, 4, 1, 1, 6, 6, 8, 5, 2, 2, 5, 0, 8, 2, 3, 6, 2, 9, 6, 1, 4, 5, 9, 0, 1, 0, 0, 8, 1, 1, 6, 6, 9, 5, 4, 1, 7, 8, 6, 9, 1, 7, 6, 0, 9, 3, 5, 3, 2, 5, 3, 4, 9, 7, 1, 4, 4, 6, 1, 3, 8, 8, 0, 6, 7, 7, 6, 7, 2, 3, 2, 2, 6, 2, 7, 4, 0, 3, 6, 2, 6, 3, 3, 0, 9, 5, 1, 1, 5, 3, 6, 4, 3, 4, 1, 0, 4, 5, 5, 2, 8, 9, 4, 3, 1, 8, 0, 1, 3, 3, 4, 4, 2, 9, 7, 6, 8, 1, 8, 9, 1, 3, 1, 7, 3, 0, 0, 2, 8, 3, 9, 2, 7, 2, 6, 0, 1, 6, 1, 6, 7, 5, 5, 2, 5, 9, 4, 0, 2, 3, 4, 9, 4, 1, 0, 0, 2, 3, 8, 9, 2, 8, 9, 5, 7, 9, 1, 4, 6, 2, 8, 4, 4, 8, 9, 3, 1, 1, 6, 5, 8, 4, 6, 4, 5, 2, 6, 4, 2, 3, 1, 3, 6, 8, 5, 2, 2, 7, 1, 6, 2, 5, 9, 2, 8, 1, 6, 9, 2, 7, 5, 3, 2, 9, 7, 0, 2, 9, 3, 4, 1, 7, 9, 5, 8, 9, 7, 3, 4, 0, 9, 7, 4, 2, 4, 7, 0, 1, 8, 1, 0, 4, 6, 1, 9, 9, 2, 1, 2, 5, 6, 9, 7, 7, 3, 4, 2, 0, 2, 5, 6, 7, 3, 7, 9, 4, 2, 0, 6, 1, 7, 5, 6, 5, 3, 9, 2, 7, 8, 5, 9, 5, 8, 5, 4, 3, 7, 9, 8, 1, 2, 2, 8, 9, 3, 0, 8, 4, 0, 2, 0, 1, 4, 1, 8, 5, 5, 7, 9, 8, 3, 7, 9, 1, 5, 6, 9, 8, 7, 2, 0, 9, 0, 8, 5, 9, 4, 2, 9, 8, 1, 9, 1, 8, 3, 7, 6, 4, 2, 3, 7, 0, 3, 5, 8, 8, 8, 7, 9, 6, 2, 7, 4, 5, 7, 6, 7, 1, 7, 3, 6, 8, 2, 6, 6, 7, 1, 5, 9, 7, 1, 7, 0, 1, 6, 3, 3, 9, 0, 1, 2, 3, 2, 2, 5, 4, 9, 8, 7, 4, 4, 9, 7, 6, 7, 7, 1, 2, 3, 5, 1, 9, 0, 3, 3, 1, 5, 6, 6, 2, 4, 6, 8, 8, 9, 6, 6, 1, 0, 7, 5, 8, 2, 1, 5, 8, 1, 4, 7, 5, 0, 3, 9, 9, 5, 2, 8, 4, 1, 9, 0, 4, 4, 8, 2, 9, 0, 7, 9, 8, 7, 1, 3, 2, 9, 9, 5, 9, 7, 6, 7, 7, 1, 1, 2, 4, 2, 0, 6, 8, 7, 6, 2, 2, 9, 8, 2, 4, 2, 0, 5, 8, 6, 8, 2, 7, 7, 3, 1, 8, 1, 6, 5, 9, 7, 8, 9, 6, 4, 8, 1, 9, 4, 0, 4, 1, 4, 3, 6, 2, 2, 7, 0, 0, 7, 0, 7, 4, 3, 6, 7, 7, 4, 5, 4, 3, 5, 5, 4, 7, 1, 0, 7, 7, 1, 6, 5, 0, 7, 7, 4, 6, 1, 8, 5, 9, 3, 5, 6, 2, 2, 7, 3, 5, 8, 1, 0, 6, 8, 7, 8, 8, 5, 7, 5, 4, 9, 7, 3, 3, 8, 8, 3, 9, 4, 7, 2, 0, 8, 0, 7, 3, 3, 2, 5, 2, 4, 4, 0, 4, 8, 2, 4, 0, 6, 4, 5, 6, 0, 8, 8, 0, 6, 1, 1, 6, 1, 4, 2, 1, 1, 2, 4, 4, 5, 5, 8, 8, 5, 1, 8, 2, 3, 3, 9, 6, 6, 5, 0, 7, 3, 3, 2, 7, 4, 5, 6, 0, 2, 1, 8, 1, 0, 9, 3, 1, 0, 5, 4, 2, 3, 3, 6, 7, 6, 0, 0, 5, 7, 4, 7, 7, 0, 6, 1, 3, 9, 0, 9, 0, 3, 8, 4, 8, 8, 4, 1, 0, 2, 2, 4, 1, 1, 2, 4, 3, 4, 1, 4, 7, 1, 0, 0, 9, 0, 4, 2, 8, 8, 5, 5, 0, 4, 0, 8, 6, 2, 5, 9, 2, 9, 1, 1, 5, 4, 7, 5, 8, 6, 2, 1, 5, 5, 3, 4, 1, 8, 9, 9, 8, 9, 8, 6, 8, 5, 8, 9, 4, 6, 2, 6, 3, 7, 4, 0, 0, 1, 7, 5, 1, 5, 9, 3, 1, 6, 8, 7, 3, 6, 9, 1, 2, 0, 1, 7, 2, 6, 1, 9, 0, 0, 8, 9, 9, 2, 8, 6, 2, 5, 6, 0, 3, 3, 0, 7, 4, 7, 5, 0, 1, 6, 8, 8, 1, 2, 1, 5, 4, 5, 9, 6, 7, 1, 0, 6, 9, 2, 7, 7, 3, 9, 9, 1, 9, 7, 0, 1, 3, 5, 4, 6, 3, 8, 8, 0, 4, 8, 3, 6, 7, 0, 0, 4, 5, 2, 6, 8, 4, 9, 9, 9, 2, 0, 4, 2, 8, 1, 1, 0, 0, 3, 7, 4, 1, 1, 9, 7, 7, 4, 6, 8, 6, 0, 2, 8, 5, 3, 5, 3, 5, 7, 9, 8, 4, 4, 3, 1, 4, 8, 3, 6, 5, 3, 0, 8, 9, 5, 7, 6, 2, 0, 4, 9, 9, 0, 5, 2, 3, 6, 1, 1, 0, 2, 8, 2, 1, 1, 7, 5, 2, 3, 4, 1, 2, 9, 2, 1, 3, 4, 8, 9, 0, 0, 4, 9, 0, 2, 2, 0, 6, 8, 7, 3, 3, 8, 9, 0, 2, 5, 3, 6, 1, 3, 9, 5, 0, 5, 4, 4, 0, 1, 1, 6, 1, 7, 9, 9, 6, 2, 4, 3, 8, 3, 4, 7, 0, 2, 8, 4, 8, 3, 8, 8, 8, 3, 3, 5, 7, 7, 0, 4, 1, 5, 9, 7, 0, 6, 8, 4, 9, 0, 1, 8, 9, 6, 3, 9, 2, 4, 4, 0, 3, 3, 5, 4, 5, 1, 1, 8, 2, 2, 9, 3, 7, 8, 9, 2, 3, 1, 7, 3, 2, 3, 0, 1, 9, 5, 5, 3, 4, 5, 2, 0, 0, 3, 1, 3, 4, 7, 4, 2, 8, 4, 8, 9, 9, 4, 2, 4, 3, 6, 4, 6, 4, 6, 6, 3, 8, 7, 4, 8, 0, 5, 9, 3, 9, 0, 7, 5, 1, 9, 7, 9, 1, 8, 4, 2, 1, 6, 4, 3, 0, 1, 4, 8, 6, 1, 7, 1, 3, 5, 4, 3, 3, 9, 7, 8, 2, 5, 5, 4, 5, 4, 5, 7, 2, 5, 5, 1, 7, 7, 8, 3, 6, 0, 2, 5, 2, 3, 7, 4, 2, 1, 6, 8, 6, 8, 3, 2, 7, 7, 9, 7, 1, 4, 7, 4, 6, 1, 7, 3, 0, 0, 6, 6, 8, 6, 6, 0, 3, 4, 7, 4, 9, 4, 9, 9, 3, 4, 1, 4, 0, 3, 7, 1, 2, 2, 8, 4, 7, 8, 5, 5, 6, 5, 6, 0, 6, 4, 9, 3, 2, 7, 3, 8, 3, 9, 4, 1, 6, 9, 9, 4, 3, 9, 8, 1, 6, 9, 5, 9, 0, 9, 7, 2, 2, 4, 2, 6, 4, 8, 1, 9, 5, 6, 5, 1, 8, 6, 6, 7, 6, 5, 0, 2, 7, 6, 1, 2, 3, 1, 6, 4, 9, 0, 3, 9, 1, 0, 5, 3, 1, 6, 9, 8, 9, 0, 6, 1, 6, 2, 3, 5, 6, 9, 0, 7, 2, 4, 0, 3, 6, 8, 6, 9, 1, 9, 0, 6, 4, 5, 9, 5, 4, 1, 9, 2, 0, 7, 3, 5, 1, 8, 3, 0, 5, 2, 8, 8, 3, 9, 6, 0, 3, 5, 3, 4, 1, 5, 0, 7, 3, 9, 4, 5, 3, 1, 4, 2, 4, 9, 9, 7, 1, 7, 0, 1, 2, 1, 5, 3, 8, 4, 1, 5, 1, 9, 9, 7, 0, 1, 7, 6, 2, 6, 5, 0, 3, 1, 3, 8, 9, 9, 0, 8, 8, 7, 9, 2, 9, 1, 3, 6, 7, 6, 0, 8, 6, 2, 4, 2, 3, 5, 5, 4, 1, 6, 7, 1, 6, 1, 7, 1, 6, 2, 3, 0, 4, 2, 9, 7, 5, 5, 6, 0, 8, 8, 1, 1, 3, 5, 6, 5, 3, 8, 7, 5, 0, 7, 7, 5, 7, 1, 9, 9, 1, 9, 9, 3, 5, 5, 3, 0, 3, 0, 6, 6, 5, 6, 8, 9, 4, 5, 1, 1, 2, 7, 9, 0, 1, 2, 5, 4, 4, 7, 4, 8, 3, 3, 5, 3, 5, 7, 0, 1, 2, 9, 8, 1, 7, 3, 5, 9, 1, 9, 1, 1, 3, 6, 7, 4, 8, 3, 5, 6, 7, 0, 1, 7, 7, 2, 3, 3, 5, 1, 7, 6, 8, 4, 4, 5, 7, 3, 4, 7, 7, 3, 6, 0, 7, 2, 6, 7, 4, 1, 8, 0, 2, 2, 1, 5, 4, 0, 9, 3, 4, 4, 2, 3, 8, 5, 0, 0, 4, 6, 3, 9, 2, 0, 5, 7, 5, 5, 1, 7, 3, 1, 6, 7, 9, 0, 1, 2, 1, 4, 6, 1, 5, 9, 5, 0, 4, 9, 4, 9, 7, 1, 6, 8, 0, 6, 5, 0, 8, 1, 7, 5, 6, 9, 3, 2, 3, 9, 8, 6, 1, 0, 9, 0, 9, 8, 7, 7, 5, 2, 3, 5, 5, 7, 8, 7, 6, 9, 1, 9, 8, 6, 5, 6, 7, 5, 6, 7, 2, 5, 9, 6, 6, 7, 0, 1, 0, 1, 3, 2, 5, 6, 1, 2, 5, 1, 9, 9, 8, 6, 8, 6, 8, 9, 0, 4, 0, 3, 3, 6, 4, 9, 9, 7, 2, 3, 5, 6, 4, 6, 0, 3, 7, 5, 0, 2, 9, 2, 7, 2, 9, 2, 4, 0, 6, 6, 3, 4, 5, 5, 9, 1, 1, 4, 4, 3, 5, 4, 8, 0, 0, 3, 9, 4, 7, 4, 2, 8, 3, 6, 3, 1, 9, 6, 3, 8, 3, 8, 4, 7, 5, 7, 5, 3, 1, 2, 6, 1, 3, 2, 0, 7, 5, 0, 0, 0, 1, 4, 3, 5, 8, 4, 3, 1, 7, 1, 0, 4, 2, 4, 1, 4, 0, 1, 2, 1, 7, 7, 9, 8, 7, 5, 4, 0, 9, 0, 0, 8, 2, 0, 0, 2, 4, 8, 6, 2, 4, 6, 3, 5, 1, 5, 3, 7, 2, 2, 9, 8, 0, 0, 0, 3, 4, 4, 6, 1, 6, 7, 4, 4, 3, 9, 4, 0, 8, 0, 4, 6, 5, 7, 9, 7, 0, 5, 7, 7, 3, 1, 9, 3, 0, 9, 5, 3, 7, 9, 4, 4, 1, 7, 7, 1, 4, 1, 2, 8, 7, 0, 0, 4, 7, 2, 9, 7, 6, 9, 3, 5, 8, 0, 3, 6, 8, 3, 2, 4, 7, 1, 1, 3, 9, 7, 5, 1, 0, 8, 7, 0, 1, 6, 9, 3, 2, 7, 7, 8, 1, 0, 3, 4, 6, 7, 5, 2, 0, 1, 5, 5, 1, 4, 1, 3, 0, 8, 6, 2, 1, 3, 6, 4, 1, 9, 0, 4, 1, 0, 1, 9, 8, 6, 9, 2, 4, 7, 2, 2, 7, 4, 9, 1, 3, 2, 6, 3, 4, 4, 9, 4, 8, 2, 6, 6, 1, 6, 3, 6, 5, 8, 4, 6, 7, 1, 9, 3, 6, 7, 6, 0, 7, 1, 9, 5, 2, 6, 7, 7, 6, 5, 9, 1, 5, 6, 0, 2, 0, 9, 1, 8, 3, 5, 0, 0, 0, 5, 7, 7, 8, 5, 5, 5, 1, 6, 1, 5, 1, 0, 6, 2, 3, 2, 1, 7, 5, 1, 9, 8, 3, 6, 9, 7, 3, 0, 2, 3, 9, 4, 4, 3, 9, 6, 8, 6, 6, 8, 5, 4, 3, 6, 7, 7, 4, 3, 9, 6, 2, 4, 0, 1, 3, 6, 4, 9, 2, 6, 0, 3, 8, 7, 5, 3, 3, 8, 3, 2, 6, 3, 6, 2, 7, 4, 5, 7, 9, 0, 0, 6, 7, 2, 8, 5, 5, 7, 5, 5, 9, 4, 6, 4, 7, 3, 3, 6, 4, 1, 6, 3, 1, 6, 7, 0, 5, 0, 1, 9, 7, 3, 5, 2, 3, 9, 5, 6, 4, 0, 0, 0, 8, 0, 3, 2, 4, 5, 3, 7, 9, 6, 9, 3, 1, 2, 6, 7, 4, 5, 1, 3, 7, 6, 9, 5, 8, 5, 8, 5, 8, 5, 6, 5, 0, 8, 3, 8, 1, 8, 1, 5, 0, 9, 8, 6, 3, 6, 3, 4, 4, 7, 4, 7, 4, 3, 2, 4, 5, 5, 7, 5, 4, 5, 8, 0, 5, 4, 0, 5, 4, 3, 3, 2, 4, 2, 9, 4, 8, 8, 6, 2, 6, 1, 7, 0, 4, 3, 8, 5, 9, 7, 6, 7, 1, 0, 2, 3, 5, 6, 7, 1, 6, 2, 8, 3, 7, 2, 5, 7, 5, 7, 7, 1, 7, 4, 3, 3, 4, 0, 4, 2, 7, 0, 2, 2, 6, 6, 2, 5, 2, 6, 0, 6, 1, 2, 9, 0, 0, 1, 5, 5, 1, 6, 7, 8, 5, 6, 3, 3, 6, 0, 9, 9, 2, 2, 6, 1, 4, 6, 2, 5, 7, 8, 8, 5, 6, 4, 3, 2, 3, 4, 4, 4, 8, 9, 2, 6, 0, 9, 7, 9, 8, 7, 7, 3, 8, 2, 9, 3, 5, 7, 5, 8, 7, 3, 7, 0, 7, 1, 6, 2, 4, 0, 0, 2, 9, 8, 2, 8, 7, 7, 5, 5, 0, 1, 2, 9, 6, 1, 0, 1, 0, 6, 5, 0, 5, 7, 4, 4, 8, 3, 5, 3, 7, 2, 5, 8, 3, 5, 7, 3, 7, 0, 5, 4, 5, 6, 9, 3, 5, 3, 8, 2, 4, 2, 2, 6, 7, 6, 0, 5, 5, 8, 4, 5, 6, 1, 3, 5, 4, 7, 3, 0, 7, 2, 0, 1, 2, 4, 9, 6, 4, 5, 9, 7, 7, 6, 7, 4, 3, 1, 6, 9, 4, 8, 0, 3, 1, 6, 4, 4, 2, 1, 4, 6, 3, 0, 8, 9, 7, 6, 8, 4, 8, 1, 4, 5, 9, 4, 7, 1, 4, 5, 3, 1, 2, 6, 4, 7, 1, 5, 9, 3, 1, 4, 8, 7, 7, 0, 4, 3, 4, 6, 7, 7, 5, 4, 4, 4, 3, 6, 6, 1, 9, 9, 7, 9, 4, 3, 2, 9, 8, 5, 0, 6, 9, 0, 9, 7, 8, 5, 4, 4, 9, 4, 2, 6, 6, 9, 9, 7, 9, 9, 0, 5, 1, 1, 8, 6, 9, 9, 5, 6, 5, 5, 9, 7, 9, 4, 5, 4, 3, 3, 9, 8, 8, 3, 4, 8, 4, 0, 4, 0, 7, 2, 8, 0, 2, 0, 7, 4, 0, 6, 3, 3, 1, 7, 4, 6, 5, 0, 4, 9, 5, 6, 6, 3, 0, 5, 2, 6, 3, 3, 8, 0, 8, 5, 4, 2, 9, 5, 0, 5, 4, 8, 2, 7, 6, 5, 7, 8, 2, 0, 1, 8, 2, 4, 8, 4, 3, 0, 4, 0, 1, 9, 3, 0, 3, 6, 5, 5, 2, 8, 5, 0, 8, 7, 5, 2, 4, 3, 7, 0, 2, 3, 1, 0, 0, 2, 1, 2, 1, 4, 6, 7, 1, 0, 5, 2, 5, 9, 2, 5, 6, 7, 1, 9, 3, 6, 1, 0, 2, 9, 4, 2, 9, 3, 8, 2, 9, 8, 5, 1, 0, 1, 5, 2, 5, 6, 8, 8, 3, 5, 0, 4, 1, 3, 7, 0, 3, 3, 9, 2, 3, 9, 9, 8, 5, 9, 7, 2, 0, 9, 4, 7, 1, 7, 6, 4, 4, 8, 9, 0, 7, 1, 2, 4, 0, 3, 7, 5, 1, 9, 3, 5, 2, 4, 1, 1, 3, 3, 9, 2, 5, 8, 0, 8, 1, 5, 1, 5, 9, 0, 9, 2, 4, 0, 6, 9, 1, 1, 3, 4, 9, 5, 3, 3, 3, 3, 4, 1, 5, 9, 8, 7, 4, 8, 7, 3, 5, 2, 5, 8, 9, 7, 2, 0, 0, 7, 5, 3, 5, 7, 4, 6, 2, 8, 2, 7, 7, 6, 1, 3, 8, 6, 2, 0, 4, 4, 8, 6, 4, 0, 2, 5, 4, 1, 2, 5, 4, 6, 9, 5, 0, 5, 2, 0, 8, 2, 6, 4, 7, 9, 5, 7, 2, 6, 2, 1, 9, 9, 7, 2, 5, 1, 8, 1, 6, 3, 0, 8, 8, 5, 6, 9, 9, 9, 6, 3, 0, 8, 8, 5, 3, 3, 1, 1, 0, 7, 0, 6, 0, 4, 4, 6, 5, 3, 2, 9, 6, 6, 7, 9, 7, 7, 0, 8, 4, 2, 7, 7, 7, 4, 0, 1, 6, 0, 5, 3, 0, 2, 4, 9, 7, 3, 3, 2, 8, 8, 5, 3, 8, 0, 8, 0, 0, 0, 2, 2, 7, 0, 7, 7, 7, 2, 2, 0, 4, 0, 3, 7, 8, 4, 7, 9, 6, 1, 1, 6, 9, 3, 8, 9, 5, 8, 3, 9, 4, 3, 7, 5, 5, 2, 7, 5, 7, 9, 6, 3, 0, 8, 4, 5, 6, 1, 0, 4, 8, 4, 7, 1, 3, 2, 0, 9, 1, 8, 8, 6, 8, 1, 7, 1, 0, 9, 7, 6, 4, 5, 8, 2, 1, 2, 5, 8, 1, 1, 8, 8, 0, 9, 0, 0, 4, 3, 3, 5, 6, 6, 3, 1, 4, 4, 7, 8, 0, 1, 4, 8, 4, 6, 2, 2, 2, 6, 3, 4, 0, 8, 1, 3, 8, 3, 8, 9, 1, 6, 1, 9, 8, 2, 0, 4, 7, 4, 0, 0, 7, 6, 8, 9, 8, 6, 2, 8, 8, 0, 1, 1, 0, 7, 7, 4, 4, 7, 7, 2, 6, 6, 7, 4, 5, 4, 0, 9, 4, 7, 2, 5, 3, 2, 2, 7, 6, 2, 6, 4, 9, 6, 8, 3, 8, 5, 5, 2, 3, 4, 5, 2, 7, 5, 1, 5, 3, 7, 8, 8, 9, 6, 0, 9, 2, 6, 0, 0, 1, 4, 1, 3, 5, 1, 8, 9, 6, 2, 6, 9, 5, 6, 5, 9, 1, 4, 2, 8, 9, 5, 4, 7, 0, 3, 7, 1, 6, 9, 1, 1, 4, 0, 5, 1, 6, 3, 0, 2, 5, 5, 5, 2, 8, 2, 3, 1, 6, 2, 7, 0, 8, 9, 2, 6, 4, 7, 5, 5, 8, 8, 7, 8, 5, 7, 4, 4, 0, 0, 7, 0, 4, 0, 4, 4, 2, 5, 4, 0, 7, 7, 7, 0, 4, 6, 2, 9, 1, 1, 5, 0, 9, 1, 0, 6, 5, 3, 0, 9, 0, 6, 2, 0, 4, 1, 6, 7, 6, 1, 0, 4, 6, 0, 4, 4, 2, 7, 6, 5, 3, 5, 9, 4, 5, 2, 0, 5, 7, 2, 3, 9, 4, 5, 8, 1, 9, 3, 1, 8, 5, 8, 6, 6, 3, 4, 0, 2, 3, 2, 6, 1, 8, 2, 1, 3, 6, 2, 2, 3, 3, 5, 0, 2, 1, 2, 8, 0, 8, 2, 2, 7, 3, 5, 9, 8, 3, 6, 1, 0, 8, 6, 3, 5, 8, 9, 4, 8, 0, 0, 2, 9, 1, 8, 3, 7, 2, 8, 0, 9, 4, 8, 9, 4, 8, 9, 5, 4, 8, 1, 5, 5, 7, 2, 5, 8, 8, 1, 2, 3, 1, 5, 0, 2, 3, 0, 8, 2, 2, 8, 7, 3, 5, 3, 9, 6, 3, 5, 1, 1, 7, 7, 3, 3, 8, 9, 6, 0, 8, 0, 6, 6, 4, 6, 9, 1, 1, 7, 0, 6, 8, 9, 0, 6, 9, 0, 1, 1, 7, 2, 1, 0, 4, 5, 0, 3, 6, 3, 3, 8, 1, 8, 1, 3, 1, 5, 4, 5, 1, 8, 9, 1, 3, 1, 7, 2, 9, 8, 9, 4, 6, 0, 9, 4, 0, 4, 6, 2, 1, 3, 0, 8, 5, 6, 0, 3, 4, 6, 9, 5, 7, 9, 0, 3, 6, 5, 7, 0, 5, 1, 2, 2, 9, 7, 0, 0, 1, 4, 4, 5, 5, 9, 6, 3, 6, 2, 6, 9, 3, 2, 3, 2, 4, 9, 5, 2, 1, 6, 6, 4, 7, 6, 3, 3, 8, 1, 4, 6, 4, 4, 5, 6, 2, 0, 5, 2, 7, 5, 2, 5, 2, 5, 9, 0, 6, 7, 9, 8, 3, 2, 1, 4, 3, 4, 5, 5, 6, 8, 6, 0, 8, 9, 8, 0, 7, 7, 6, 6, 7, 5, 9, 8, 7, 9, 5, 6, 0, 4, 8, 2, 0, 9, 1, 3, 9, 8, 3, 7, 4, 5, 0, 2, 1, 9, 1, 0, 5, 8, 4, 7, 3, 1, 4, 5, 3, 1, 0, 8, 8, 8, 2, 1, 3, 7, 3, 1, 6, 9, 1, 6, 0, 7, 7, 1, 3, 3, 3, 1, 0, 2, 7, 1, 2, 2, 9, 6, 3, 5, 9, 4, 8, 0, 4, 8, 0, 1, 3, 7, 0, 4, 7, 4, 8, 6, 4, 3, 9, 8, 2, 2, 8, 3, 1, 1, 2, 8, 2, 6, 9, 4, 8, 4, 4, 1, 5, 2, 6, 9, 2, 0, 7, 1, 8, 9, 3, 9, 9, 0, 7, 7, 5, 4, 2, 6, 4, 5, 7, 7, 8, 7, 2, 6, 2, 2, 4, 4, 0, 7, 1, 3, 9, 6, 0, 0, 2, 3, 8, 2, 2, 4, 3, 5, 2, 9, 1, 0, 0, 6, 5, 5, 7, 9, 9, 6, 5, 5, 0, 5, 7, 1, 6, 6, 4, 1, 4, 4, 1, 5, 0, 0, 4, 5, 8, 4, 8, 3, 0, 5, 0, 5, 3, 1, 6, 7, 0, 9, 1, 5, 7, 6, 5, 5, 5, 6, 0, 0, 1, 7, 5, 1, 9, 2, 4, 1, 3, 7, 8, 2, 0, 9, 6, 6, 0, 6, 5, 8, 2, 7, 4, 0, 2, 7, 7, 8, 8, 7, 0, 4, 9, 1, 4, 4, 3, 5, 4, 6, 2, 3, 1, 0, 3, 3, 3, 6, 3, 1, 2, 8, 9, 7, 9, 3, 8, 7, 3, 1, 7, 7, 3, 2, 2, 8, 9, 5, 9, 2, 1, 7, 4, 4, 0, 5, 7, 1, 5, 4, 0, 8, 4, 9, 8, 7, 8, 4, 2, 3, 4, 0, 5, 4, 1, 8, 2, 5, 4, 5, 2, 5, 3, 7, 9, 7, 1, 4, 1, 3, 1, 4, 5, 5, 1, 7, 1, 3, 0, 1, 2, 5, 7, 0, 6, 3, 5, 7, 5, 5, 8, 9, 4, 6, 3, 6, 6, 8, 2, 6, 4, 8, 4, 1, 3, 1, 2, 3, 3, 0, 1, 6, 4, 2, 8, 2, 4, 3, 1, 4, 4, 4, 4, 1, 5, 5, 7, 6, 5, 4, 5, 6, 5, 6, 2, 4, 7, 7, 4, 6, 5, 0, 2, 3, 9, 2, 3, 8, 0, 7, 0, 6, 8, 1, 2, 8, 9, 1, 5, 4, 2, 3, 5, 5, 3, 6, 5, 0, 3, 2, 1, 3, 3, 7, 7, 4, 9, 4, 3, 9, 5, 1, 7, 6, 6, 4, 8, 5, 1, 2, 8, 4, 5, 3, 3, 3, 0, 4, 8, 7, 7, 9, 4, 8, 4, 5, 9, 1, 8, 3, 1, 3, 8, 0, 3, 5, 4, 6, 9, 2, 7, 2, 0, 5, 2, 9, 7, 5, 0, 7, 0, 3, 5, 5, 3, 8, 7, 7, 9, 6, 5, 8, 9, 0, 1, 9, 4, 0, 0, 1, 7, 2, 2, 8, 5, 9, 8, 2, 8, 0, 6, 6, 8, 6, 9, 6, 1, 1, 5, 3, 5, 0, 7, 6, 1, 4, 4, 1, 1, 8, 1, 1, 2, 3, 4, 9, 9, 5, 2, 7, 3, 3, 6, 9, 6, 9, 8, 8, 6, 7, 4, 7, 2, 3, 8, 0, 9, 0, 7, 8, 1, 2, 3, 2, 4, 2, 9, 0, 3, 8, 9, 6, 5, 5, 2, 4, 1, 0, 6, 1, 8, 4, 5, 5, 5, 0, 8, 9, 0, 5, 7, 9, 6, 3, 4, 6, 4, 9, 7, 1, 2, 5, 2, 8, 0, 2, 2, 9, 8, 1, 9, 7, 7, 3, 1, 4, 1, 1, 3, 8, 8, 1, 9, 3, 8, 9, 5, 1, 1, 6, 2, 7, 2, 6, 2, 6, 9, 6, 0, 1, 3, 9, 3, 8, 8, 8, 2, 9, 1, 2, 6, 0, 5, 0, 7, 7, 7, 9, 4, 5, 0, 2, 3, 5, 5, 8, 9, 1, 2, 7, 1, 3, 4, 6, 9, 1, 0, 7, 1, 9, 5, 8, 1, 9, 9, 7, 9, 8, 3, 0, 2, 6, 0, 2, 2, 4, 0, 8, 4, 8, 1, 2, 7, 2, 7, 9, 5, 2, 2, 9, 2, 6, 5, 7, 2, 5, 6, 5, 1, 8, 2, 6, 8, 6, 3, 0, 8, 0, 0, 9, 9, 6, 8, 0, 6, 6, 0, 7, 9, 8, 0, 5, 0, 9, 6, 0, 4, 7, 1, 7, 8, 8, 2, 3, 9, 6, 5, 5, 3, 1, 5, 3, 0, 2, 5, 2, 7, 3, 8, 4, 4, 6, 1, 9, 4, 1, 7, 0, 1, 4, 3, 0, 2, 9, 4, 5, 0, 3, 4, 7, 2, 3, 0, 1, 3, 7, 9, 9, 0, 7, 5, 6, 7, 1, 2, 2, 7, 4, 6, 8, 4, 9, 8, 4, 9, 2, 3, 4, 0, 2, 5, 6, 0, 5, 3, 5, 8, 3, 7, 4, 9, 5, 6, 3, 8, 6, 9, 8, 5, 5, 8, 3, 5, 9, 0, 4, 2, 0, 5, 9, 9, 3, 8, 0, 6, 0, 2, 3, 7, 0, 0, 6, 9, 1, 5, 2, 2, 7, 9, 3, 9, 3, 5, 2, 2, 2, 8, 8, 5, 0, 0, 7, 0, 3, 1, 6, 5, 0, 9, 2, 6, 7, 4, 2, 0, 0, 5, 3, 3, 2, 6, 4, 2, 7, 8, 0, 1, 0, 1, 3, 6, 4, 8, 0, 6, 0, 9, 1, 6, 2, 1, 0, 1, 3, 0, 3, 7, 9, 9, 3, 7, 5, 7, 1, 6, 6, 1, 1, 1, 4, 4, 2, 1, 7, 0, 1, 2, 1, 1, 3, 2, 6, 9, 1, 3, 2, 0, 8, 7, 3, 4, 6, 4, 6, 9, 4, 8, 9, 3, 0, 5, 7, 2, 0, 2, 9, 9, 3, 8, 7, 1, 1, 2, 2, 2, 5, 9, 1, 2, 6, 1, 2, 1, 8, 9, 2, 3, 1, 9, 9, 4, 4, 5, 5, 0, 3, 3, 7, 1, 7, 7, 9, 8, 6, 3, 5, 5, 1, 6, 2, 7, 8, 4, 3, 3, 5, 9, 6, 8, 5, 1, 0, 6, 7, 0, 9, 6, 2, 0, 8, 7, 1, 2, 6, 9, 1, 6, 4, 7, 1, 9, 0, 0, 5, 2, 8, 3, 8, 2, 8, 4, 0, 8, 3, 6, 1, 2, 3, 0, 5, 0, 4, 1, 7, 2, 0, 1, 3, 9, 1, 6, 1, 6, 1, 2, 8, 7, 0, 9, 5, 8, 0, 0, 1, 7, 9, 7, 1, 9, 2, 1, 9, 4, 3, 6, 0, 2, 0, 0, 9, 9, 8, 9, 4, 5, 4, 3, 0, 7, 8, 7, 3, 7, 5, 4, 6, 5, 9, 5, 2, 4, 2, 7, 9, 6, 7, 4, 7, 1, 2, 3, 1, 1, 3, 6, 8, 3, 7, 7, 0, 8, 1, 5, 2, 5, 5, 3, 6, 3, 5, 9, 8, 4, 6, 8, 0, 4, 1, 7, 8, 4, 9, 7, 2, 6, 3, 8, 8, 6, 7, 3, 8, 1, 1, 5, 3, 7, 9, 9, 9, 8, 5, 9, 9, 6, 8, 8, 4, 8, 1, 0, 1, 8, 8, 6, 5, 9, 0, 6, 1, 2, 6, 6, 3, 5, 6, 5, 5, 3, 3, 6, 8, 9, 4, 4, 3, 8, 3, 6, 0, 8, 5, 7, 8, 4, 6, 5, 3, 1, 8, 3, 0, 4, 4, 3, 3, 5, 3, 3, 2, 7, 7, 8, 2, 0, 5, 5, 6, 1, 1, 3, 9, 9, 3, 6, 7, 1, 8, 3, 9, 8, 7, 8, 8, 0, 3, 2, 4, 8, 7, 5, 7, 1, 8, 7, 3, 5, 4, 4, 3, 8, 6, 1, 1, 6, 3, 2, 2, 8, 9, 8, 3, 3, 8, 1, 1, 0, 5, 2, 0, 5, 0, 5, 8, 6, 3, 9, 6, 6, 3, 9, 4, 8, 3, 4, 3, 1, 1, 2, 9, 7, 8, 5, 5, 8, 6, 9, 0, 8, 3, 5, 1, 3, 3, 5, 5, 3, 8, 1, 4, 6, 4, 2, 4, 3, 8, 9, 6, 6, 6, 5, 5, 2, 7, 7, 4, 4, 9, 3, 8, 3, 7, 7, 8, 5, 3, 9, 1, 6, 7, 3, 3, 3, 8, 5, 6, 1, 3, 7, 9, 6, 1, 6, 4, 9, 0, 5, 7, 4, 9, 1, 0, 0, 2, 7, 8, 3, 2, 7, 6, 1, 6, 6, 4, 4, 2, 1, 8, 4, 4, 7, 8, 5, 8, 9, 4, 3, 2, 2, 9, 3, 0, 1, 1, 1, 1, 6, 8, 7, 1, 3, 0, 4, 5, 0, 3, 0, 6, 2, 0, 9, 8, 6, 8, 5, 8, 2, 9, 6, 0, 6, 1, 8, 7, 3, 2, 2, 6, 5, 6, 9, 2, 5, 4, 9, 8, 5, 3, 9, 3, 5, 7, 1, 8, 5, 8, 6, 2, 5, 1, 3, 0, 4, 1, 9, 5, 4, 9, 2, 1, 4, 2, 5, 9, 8, 7, 2, 1, 6, 9, 7, 3, 6, 5, 8, 0, 2, 2, 4, 9, 0, 5, 5, 4, 2, 3, 1, 0, 3, 0, 4, 4, 9, 1, 3, 3, 0, 2, 1, 1, 0, 4, 1, 9, 4, 8, 1, 1, 1, 5, 9, 8, 1, 6, 7, 2, 9, 9, 7, 8, 8, 1, 9, 7, 8, 9, 1, 6, 6, 3, 3, 1, 3, 0, 8, 8, 3, 6, 6, 7, 1, 0, 7, 6, 4, 8, 2, 0, 6, 6, 8, 6, 3, 1, 1, 8, 6, 7, 0, 5, 4, 3, 2, 1, 7, 8, 2, 0, 1, 7, 4, 8, 7, 6, 6, 7, 0, 6, 4, 9, 2, 3, 2, 1, 3, 8, 6, 8, 1, 9, 6, 7, 6, 5, 0, 6, 0, 1, 3, 1, 1, 5, 3, 4, 3, 3, 8, 1, 6, 6, 1, 8, 8, 6, 2, 7, 4, 6, 8, 9, 3, 3, 5, 5, 3, 1, 4, 1, 9, 5, 1, 7, 7, 7, 5, 2, 3, 3, 6, 6, 6, 4, 0, 7, 1, 7, 3, 0, 8, 1, 2, 4, 1, 2, 2, 4, 9, 8, 2, 8, 7, 6, 3, 4, 7, 2, 3, 1, 5, 3, 0, 4, 3, 4, 9, 4, 7, 9, 1, 7, 8, 3, 1, 8, 3, 2, 5, 7, 2, 7, 9, 6, 8, 6, 8, 6, 5, 9, 0, 4, 8, 5, 6, 4, 3, 8, 0, 4, 8, 6, 7, 2, 7, 1, 7, 4, 1, 2, 4, 2, 2, 8, 7, 2, 2, 6, 7, 5, 6, 8, 9, 9, 6, 5, 2, 9, 8, 7, 2, 3, 3, 7, 4, 3, 2, 1, 9, 0, 1, 5, 3, 2, 6, 5, 9, 1, 5, 4, 3, 6, 2, 8, 9, 7, 8, 0, 8, 9, 1, 2, 5, 7, 2, 0, 6, 6, 1, 6, 3, 1, 5, 0, 3, 7, 4, 6, 5, 6, 4, 8, 3, 4, 5, 5, 0, 6, 6, 7, 5, 0, 9, 9, 6, 1, 0, 4, 6, 3, 6, 9, 3, 6, 6, 8, 2, 1, 0, 1, 9, 3, 7, 4, 3, 0, 2, 7, 6, 4, 3, 0, 8, 2, 0, 0, 9, 6, 6, 6, 8, 7, 4, 1, 8, 1, 2, 2, 4, 8, 5, 2, 6, 5, 3, 9, 1, 0, 7, 2, 4, 4, 0, 0, 6, 2, 2, 4, 0, 5, 9, 7, 1, 8, 4, 5, 5, 9, 8, 5, 7, 8, 0, 9, 8, 9, 1, 6, 3, 8, 0, 3, 4, 4, 8, 4, 8, 9, 8, 6, 0, 0, 8, 2, 7, 4, 2, 5, 6, 0, 5, 8, 4, 1, 9, 0, 1, 4, 4, 8, 4, 9, 6, 0, 7, 7, 6, 8, 9, 6, 2, 0, 4, 9, 4, 9, 3, 9, 6, 6, 7, 0, 9, 7, 1, 8, 6, 0, 6, 7, 4, 1, 9, 4, 6, 7, 9, 8, 3, 9, 2, 1, 2, 7, 6, 1, 0, 0, 5, 6, 0, 4, 3, 2, 8, 8, 0, 6, 9, 5, 2, 8, 7, 0, 6, 5, 9, 7, 2, 3, 6, 9, 6, 2, 2, 4, 1, 0, 5, 0, 8, 9, 3, 5, 9, 3, 8, 1, 6, 3, 7, 5, 6, 2, 0, 2, 8, 2, 8, 7, 7, 8, 1, 0, 8, 9, 7, 0, 3, 8, 0, 5, 9, 5, 8, 4, 2, 0, 9, 2, 2, 4, 4, 9, 2, 2, 2, 5, 1, 3, 2, 0, 0, 4, 0, 6, 5, 8, 0, 5, 8, 6, 4, 8, 5, 2, 9, 7, 9, 7, 1, 0, 1, 9, 6, 9, 2, 7, 9, 4, 4, 0, 6, 2, 4, 1, 3, 7, 2, 8, 5, 9, 0, 3, 2, 3, 2, 7, 6, 3, 2, 5, 9, 0, 5, 9, 9, 8, 7, 7, 4, 8, 6, 5, 2, 3, 1, 0, 4, 1, 8, 8, 4, 9, 4, 4, 3, 3, 9, 2, 0, 1, 1, 8, 4, 4, 8, 3, 2, 9, 5, 7, 6, 2, 5, 4, 7, 3, 3, 9, 0, 1, 5, 9, 3, 7, 6, 0, 4, 2, 2, 5, 6, 3, 8, 9, 5, 6, 1, 4, 5, 4, 6, 7, 2, 1, 0, 2, 0, 4, 9, 8, 8, 9, 1, 1, 5, 0, 0, 8, 7, 1, 7, 4, 5, 4, 3, 3, 2, 0, 6, 6, 0, 1, 3, 9, 8, 3, 7, 8, 9, 4, 8, 9, 0, 9, 7, 1, 6, 2, 9, 5, 6, 9, 3, 9, 8, 7, 7, 1, 6, 5, 3, 1, 3, 1, 2, 7, 1, 8, 2, 0, 9, 7, 9, 8, 8, 6, 7, 3, 7, 1, 3, 9, 0, 9, 3, 6, 7, 2, 7, 3, 0, 5, 9, 7, 5, 5, 0, 6, 5, 1, 8, 2, 7, 5, 9, 0, 0, 0, 8, 8, 7, 3, 7, 8, 9, 3, 7, 9, 7, 8, 7, 9, 8, 5, 4, 8, 3, 7, 6, 3, 8, 2, 1, 9, 5, 7, 3, 9, 5, 5, 8, 7, 3, 5, 3, 5, 9, 7, 6, 7, 3, 6, 4, 3, 9, 4, 2, 1, 9, 6, 0, 2, 6, 7, 4, 7, 9, 0, 7, 4, 3, 5, 3, 1, 1, 2, 6, 8, 2, 1, 7, 8, 5, 9, 6, 1, 1, 5, 0, 6, 0, 9, 2, 6, 5, 8, 9, 5, 5, 6, 2, 9, 1, 5, 8, 8, 7, 1, 7, 3, 5, 4, 9, 7, 5, 2, 9, 9, 4, 7, 4, 1, 3, 8, 7, 9, 0, 4, 5, 7, 5, 2, 8, 7, 6, 9, 6, 9, 3, 8, 5, 6, 6, 9, 5, 7, 8, 0, 5, 0, 7, 4, 8, 2, 5, 1, 3, 2, 2, 6, 2, 1, 7, 4, 6, 3, 1, 3, 7, 2, 1, 3, 7, 0, 8, 4, 4, 5, 7, 9, 5, 4, 3, 9, 6, 8, 2, 3, 3, 1, 6, 1, 7, 0, 3, 4, 2, 9, 4, 5, 8, 2, 7, 0, 9, 6, 8, 0, 8, 2, 8, 5, 7, 7, 2, 2, 0, 0, 0, 7, 4, 1, 6, 6, 8, 8, 9, 0, 9, 0, 1, 3, 3, 0, 9, 6, 6, 2, 6, 3, 4, 0, 8, 4, 1, 4, 0, 6, 5, 0, 9, 9, 9, 9, 1, 2, 3, 5, 4, 2, 9, 6, 0, 9, 6, 6, 8, 0, 6, 1, 4, 6, 8, 0, 5, 4, 1, 2, 0, 9, 6, 4, 2, 4, 6, 5, 9, 7, 7, 4, 6, 5, 0, 1, 9, 0, 3, 1, 9, 0, 9, 7, 8, 6, 7, 6, 8, 2, 4, 5, 3, 0, 3, 2, 1, 7, 5, 9, 3, 4, 5, 7, 1, 5, 0, 1, 1, 1, 9, 7, 5, 4, 9, 7, 8, 1, 0, 2, 8, 5, 6, 7, 0, 1, 4, 8, 4, 4, 6, 6, 5, 8, 1, 8, 4, 6, 5, 9, 2, 2, 1, 4, 9, 1, 6, 7, 2, 0, 1, 7, 6, 5, 2, 2, 5, 6, 0, 9, 0, 1, 5, 3, 3, 5, 8, 7, 5, 6, 5, 8, 0, 5, 9, 4, 6, 5, 1, 1, 0, 3, 3, 9, 4, 8, 1, 7, 7, 9, 9, 4, 3, 6, 3, 2, 8, 2, 7, 6, 7, 0, 2, 1, 2, 9, 4, 6, 9, 6, 1, 0, 1, 8, 7, 0, 0, 4, 7, 4, 2, 6, 9, 5, 9, 0, 7, 4, 5, 8, 1, 4, 7, 9, 9, 8, 8, 6, 3, 7, 0, 8, 9, 6, 2, 4, 6, 2, 9, 7, 4, 6, 8, 5, 6, 1, 3, 5, 9, 9, 1, 3, 2, 0, 3, 0, 2, 0, 7, 3, 9, 3, 5, 7, 6, 5, 9, 5, 6, 1, 2, 4, 0, 2, 7, 8, 4, 4, 0, 9, 5, 9, 2, 9, 3, 2, 4, 3, 2, 2, 8, 8, 6, 8, 1, 6, 8, 9, 8, 2, 1, 4, 9, 1, 5, 7, 1, 6, 0, 1, 5, 2, 8, 1, 1, 3, 8, 1, 3, 1, 8, 5, 1, 9, 0, 3, 0, 4, 0, 5, 1, 2, 0, 4, 9, 5, 1, 2, 2, 7, 8, 7, 2, 4, 5, 3, 4, 0, 6, 1, 5, 9, 8, 0, 2, 0, 7, 6, 0, 5, 9, 7, 5, 0, 4, 6, 0, 6, 3, 6, 8, 1, 1, 8, 9, 7, 2, 9, 0, 2, 2, 9, 0, 6, 5, 7, 7, 9, 1, 7, 9, 8, 4, 5, 0, 8, 0, 2, 5, 2, 1, 4, 4, 8, 9, 7, 8, 3, 6, 6, 0, 1, 1, 1, 8, 1, 4, 4, 0, 7, 8, 2, 1, 2, 5, 4, 6, 0, 5, 7, 4, 4, 3, 9, 5, 8, 8, 0, 8, 7, 4, 1, 8, 4, 9, 5, 4, 1, 7, 7, 7, 7, 0, 3, 8, 3, 3, 0, 5, 7, 0, 8, 0, 0, 9, 2, 2, 3, 4, 8, 2, 2, 6, 3, 3, 6, 2, 9, 4, 0, 1, 7, 5, 5, 7, 3, 0, 4, 2, 0, 7, 5, 8, 0, 8, 2, 7, 0, 3, 5, 3, 8, 3, 5, 1, 7]\n",
      "[[158 159 165 ... 124 129 110]\n",
      " [235 231 232 ... 178 191 199]\n",
      " [158 158 139 ...   8   3   7]\n",
      " ...\n",
      " [ 20  19  15 ...  50  53  47]\n",
      " [ 25  15  23 ...  80  81  80]\n",
      " [ 73  98  99 ...  94  58  26]]\n",
      "[158 159 165 ... 124 129 110]\n",
      "3072\n"
     ]
    }
   ],
   "source": [
    "print(test_batch.keys())\n",
    "print(data_batch_1.keys())\n",
    "print(test_batch[b'labels'])\n",
    "print(test_batch[b'data'])\n",
    "print(test_batch[b'data'][0])\n",
    "print(len(test_batch[b'data'][0]))"
   ]
  },
  {
   "cell_type": "code",
   "execution_count": 11,
   "id": "6f69918a",
   "metadata": {
    "scrolled": true
   },
   "outputs": [
    {
     "name": "stdout",
     "output_type": "stream",
     "text": [
      "Кол-во элементов в test_batch   : 10000\n",
      "Кол-во элементов в data_batch_1 : 10000\n",
      "Кол-во элементов в data_batch_2 : 10000\n",
      "Кол-во элементов в data_batch_3 : 10000\n",
      "Кол-во элементов в data_batch_4 : 10000\n",
      "Кол-во элементов в data_batch_5 : 10000\n"
     ]
    }
   ],
   "source": [
    "print(\"Кол-во элементов в test_batch   : {}\".format(len(test_batch[b'labels'])))\n",
    "print(\"Кол-во элементов в data_batch_1 : {}\".format(len(data_batch_1[b'labels'])))\n",
    "print(\"Кол-во элементов в data_batch_2 : {}\".format(len(data_batch_2[b'labels'])))\n",
    "print(\"Кол-во элементов в data_batch_3 : {}\".format(len(data_batch_3[b'labels'])))\n",
    "print(\"Кол-во элементов в data_batch_4 : {}\".format(len(data_batch_4[b'labels'])))\n",
    "print(\"Кол-во элементов в data_batch_5 : {}\".format(len(data_batch_5[b'labels'])))"
   ]
  },
  {
   "cell_type": "code",
   "execution_count": 12,
   "id": "06a7c32a",
   "metadata": {},
   "outputs": [],
   "source": [
    "def append_list_to_list(list1, list2):\n",
    "    for value in list2:\n",
    "        list1.append(value)\n",
    "\n",
    "cifar_train_x_raw = []\n",
    "cifar_train_y     = []\n",
    "\n",
    "append_list_to_list(cifar_train_x_raw, data_batch_1[b'data'])\n",
    "append_list_to_list(cifar_train_x_raw, data_batch_2[b'data'])\n",
    "append_list_to_list(cifar_train_x_raw, data_batch_3[b'data'])\n",
    "append_list_to_list(cifar_train_x_raw, data_batch_4[b'data'])\n",
    "append_list_to_list(cifar_train_x_raw, data_batch_5[b'data'])\n",
    "\n",
    "append_list_to_list(cifar_train_y, data_batch_5[b'labels'])\n",
    "append_list_to_list(cifar_train_y, data_batch_5[b'labels'])\n",
    "append_list_to_list(cifar_train_y, data_batch_5[b'labels'])\n",
    "append_list_to_list(cifar_train_y, data_batch_5[b'labels'])\n",
    "append_list_to_list(cifar_train_y, data_batch_5[b'labels'])\n",
    "\n",
    "cifar_test_x_raw = test_batch[b'data']\n",
    "cifar_test_y     = test_batch[b'labels']"
   ]
  },
  {
   "cell_type": "code",
   "execution_count": 13,
   "id": "b195d739",
   "metadata": {
    "scrolled": false
   },
   "outputs": [
    {
     "name": "stdout",
     "output_type": "stream",
     "text": [
      "Данные для [Обчающая выборка CIFAR-10]\n",
      "Количество элементов в датасете : 50000\n",
      "Количество атрибутов в элементе : 3072\n",
      "Минимальное значение атрибута   : 0\n",
      "Максимальное значение атрибута  : 255\n",
      "\n",
      "Данные для [Тестировочная выборка CIFAR-10]\n",
      "Количество элементов в датасете : 10000\n",
      "Количество атрибутов в элементе : 3072\n",
      "Минимальное значение атрибута   : 0\n",
      "Максимальное значение атрибута  : 255\n",
      "\n"
     ]
    },
    {
     "data": {
      "image/png": "[encoded data removed]",
      "text/plain": [
       "<Figure size 432x288 with 1 Axes>"
      ]
     },
     "metadata": {
      "needs_background": "light"
     },
     "output_type": "display_data"
    }
   ],
   "source": [
    "analyze(cifar_train_y, cifar_train_x_raw, \"Обчающая выборка CIFAR-10\")\n",
    "analyze(cifar_test_y, cifar_test_x_raw, \"Тестировочная выборка CIFAR-10\")"
   ]
  },
  {
   "cell_type": "code",
   "execution_count": 14,
   "id": "fed38b51",
   "metadata": {
    "scrolled": true
   },
   "outputs": [
    {
     "name": "stdout",
     "output_type": "stream",
     "text": [
      "Данные для [Тестовая выборка CIFAR-10]\n",
      "Количество элементов в датасете : 10000\n",
      "Количество атрибутов в элементе : 1024\n",
      "Минимальное значение атрибута   : 0.0\n",
      "Максимальное значение атрибута  : 1.0\n",
      "\n",
      "Размер тестовой выборки  : 10000\n",
      "Размер обучающей выборки : 50000\n",
      "Размер датасета CIFAR-10 : 60000\n"
     ]
    },
    {
     "data": {
      "image/png": "[encoded data removed]",
      "text/plain": [
       "<Figure size 432x288 with 1 Axes>"
      ]
     },
     "metadata": {
      "needs_background": "light"
     },
     "output_type": "display_data"
    }
   ],
   "source": [
    "def conv_cifar(X):\n",
    "    df = np.array(X).astype(np.float32)\n",
    "    result = np.zeros(len(df) * len(df[0])//3, dtype=np.float32)\n",
    "    i = 0\n",
    "    for v in df:\n",
    "        #print(v)\n",
    "        #print(len(v))\n",
    "        for j in range(0, len(v), 3):\n",
    "            #print(j)\n",
    "            result[i] = (v[j] + v[j+1] + v[j+2])/765\n",
    "            i += 1\n",
    "    return np.reshape(result ,(len(df), len(df[0])//3))\n",
    "\n",
    "\n",
    "cifar_test_x  = conv_cifar(cifar_test_x_raw)\n",
    "cifar_train_x = conv_cifar(cifar_train_x_raw)\n",
    "analyze(cifar_test_y,cifar_test_x,\"Тестовая выборка CIFAR-10\")\n",
    "print('Размер тестовой выборки  : {}'.format(len(cifar_test_x)))\n",
    "print('Размер обучающей выборки : {}'.format(len(cifar_train_x)))\n",
    "print('Размер датасета CIFAR-10 : {}'.format(len(cifar_test_x) + len(cifar_train_x)))"
   ]
  },
  {
   "cell_type": "markdown",
   "id": "7463740a",
   "metadata": {},
   "source": [
    "### Перцептрон на PyTorch"
   ]
  },
  {
   "cell_type": "code",
   "execution_count": 15,
   "id": "88ba5c0c",
   "metadata": {},
   "outputs": [],
   "source": [
    "class PyTorchPerceptron(torch.nn.Module):\n",
    "    def __init__(self, layers=[10], func=torch.nn.Sigmoid(), \n",
    "                 loss_func=torch.nn.functional.binary_cross_entropy_with_logits, \n",
    "                 epochs=10,show_status=False, learning_rate=0.05):\n",
    "        super().__init__()\n",
    "        self.layers=layers\n",
    "        self.func=func\n",
    "        self.epochs=epochs\n",
    "        self.show_status=show_status\n",
    "        self.learning_rate=learning_rate\n",
    "        self.level=0\n",
    "        self.loss_function=loss_func\n",
    "    \n",
    "    def status_print(self, msg, level=-1):\n",
    "        if level == -1:\n",
    "            level = self.level\n",
    "        print(\"  \"*level + msg)\n",
    "        \n",
    "    def fit(self, X, Y):\n",
    "        self.create_net(X,Y)\n",
    "        \n",
    "        if self.show_status:\n",
    "            self.level = 0\n",
    "            self.status_print(\"Обучение сети:\")\n",
    "            self.level += 1\n",
    "        \n",
    "        self.train(X,Y)\n",
    "        return self\n",
    "        \n",
    "    def create_net(self, X,Y):\n",
    "        self.level=0\n",
    "        layers_settings = self.layers.copy()\n",
    "        layers_settings.insert(0, len(X[0]))\n",
    "        layers_settings.append(len(np.unique(Y)))\n",
    "        self.classes_count = layers_settings[-1]\n",
    "        module_layers = []\n",
    "        \n",
    "        if self.show_status:\n",
    "            self.status_print(\"Создание сети :\")\n",
    "            self.level += 1\n",
    "            self.status_print(\"Количество скрытых слоев     : {}\".format(len(layers_settings)-2))\n",
    "            self.status_print(\"Количество входных нейронов  : {}\".format(layers_settings[0]))\n",
    "            self.status_print(\"Koличество выходных нейронов : {}\".format(layers_settings[-1]))\n",
    "            self.status_print(\"Широты скрытых слоев         : {}\".format(self.layers))\n",
    "            self.level -= 1\n",
    "        \n",
    "        for i in range(len(layers_settings)-2):\n",
    "            module_layers.append(torch.nn.Linear(layers_settings[i], layers_settings[i+1]))\n",
    "            module_layers.append(self.func)\n",
    "            \n",
    "        module_layers.append(torch.nn.Linear(layers_settings[-2], layers_settings[-1]))\n",
    "        #module_layers.append(torch.nn.Softmax)\n",
    "        self.net = torch.nn.Sequential(*module_layers)\n",
    "        return self    \n",
    "\n",
    "    def train(self, X, Y):\n",
    "        val_x = torch.tensor(np.array(X).astype(np.float32))\n",
    "        val_y = []\n",
    "        for y in Y:\n",
    "            val = np.zeros(self.classes_count)\n",
    "            for i in range(10):\n",
    "                val[i] = 1 if i == y else 0\n",
    "            val_y.append(val.copy().astype(np.float32))\n",
    "        dataset = torch.utils.data.TensorDataset(val_x,torch.tensor(val_y,dtype=torch.float32))\n",
    "        dataloader = torch.utils.data.DataLoader(dataset,batch_size=16)\n",
    "        optim = torch.optim.Adam(self.net.parameters(),lr=self.learning_rate)\n",
    "        for epoch in range(1, self.epochs+1):\n",
    "            for (x,y) in dataloader:\n",
    "                z = self.net(x)\n",
    "                loss = self.loss_function(z,y)\n",
    "                optim.zero_grad()\n",
    "                loss.backward()\n",
    "                optim.step()\n",
    "            acc = self.score(X,Y)\n",
    "            if self.show_status:\n",
    "                self.status_print(\"[Эпоха {} из {}] потеря : {}, точность : {}\".format(epoch, self.epochs,loss,acc))\n",
    "                \n",
    "    def score(self, X, Y):\n",
    "        val_x = torch.tensor(np.array(X).astype(np.float32))\n",
    "        answer = self.net(val_x)\n",
    "        results = [ np.argmax(v.detach().numpy()) for v in self.func(answer)]\n",
    "        total_success = 0\n",
    "        for res, y in zip(results, Y):\n",
    "            if res == y:\n",
    "                total_success += 1\n",
    "        acc = total_success / len(Y)\n",
    "        return acc\n",
    "    def confusion_matrix(self, X, Y):\n",
    "        val_x = torch.tensor(np.array(X).astype(np.float32))\n",
    "        answer = self.net(val_x)\n",
    "        results = [ np.argmax(v.detach().numpy()) for v in self.func(answer)]\n",
    "        matrix = np.zeros((self.classes_count, self.classes_count), dtype=np.int32)\n",
    "        for res, y in zip(results, Y):\n",
    "            matrix[res][y] += 1\n",
    "        return matrix\n",
    "        "
   ]
  },
  {
   "cell_type": "markdown",
   "id": "bf155af4",
   "metadata": {},
   "source": [
    "### Тестирование MNIST\n",
    "#### Однослойные перцептроны"
   ]
  },
  {
   "cell_type": "markdown",
   "id": "cbacb07a",
   "metadata": {},
   "source": [
    "Sigmoid, количество внутренних слоев : 0"
   ]
  },
  {
   "cell_type": "code",
   "execution_count": 16,
   "id": "67c3158a",
   "metadata": {
    "scrolled": false
   },
   "outputs": [
    {
     "name": "stdout",
     "output_type": "stream",
     "text": [
      "Создание сети :\n",
      "  Количество скрытых слоев     : 0\n",
      "  Количество входных нейронов  : 784\n",
      "  Koличество выходных нейронов : 10\n",
      "  Широты скрытых слоев         : []\n",
      "Обучение сети:\n",
      "  [Эпоха 1 из 10] потеря : 0.2383759319782257, точность : 0.8828571428571429\n",
      "  [Эпоха 2 из 10] потеря : 0.22040116786956787, точность : 0.8873511904761905\n",
      "  [Эпоха 3 из 10] потеря : 0.1957322657108307, точность : 0.8869940476190477\n",
      "  [Эпоха 4 из 10] потеря : 0.25307419896125793, точность : 0.8782738095238095\n",
      "  [Эпоха 5 из 10] потеря : 0.24931415915489197, точность : 0.8869940476190477\n",
      "  [Эпоха 6 из 10] потеря : 0.2119695395231247, точность : 0.8820833333333333\n",
      "  [Эпоха 7 из 10] потеря : 0.2150215357542038, точность : 0.890327380952381\n",
      "  [Эпоха 8 из 10] потеря : 0.2392100840806961, точность : 0.8891964285714286\n",
      "  [Эпоха 9 из 10] потеря : 0.2590774893760681, точность : 0.8910119047619047\n",
      "  [Эпоха 10 из 10] потеря : 0.23720583319664001, точность : 0.887827380952381\n",
      "Точность сети : 0.8620238095238095\n"
     ]
    }
   ],
   "source": [
    "first_null_layered_perceptron = PyTorchPerceptron(show_status=True, layers=[])\n",
    "first_null_layered_perceptron.fit(mnist_train_x, mnist_train_y)\n",
    "print(\"Точность сети : {}\".format(first_null_layered_perceptron.score(mnist_test_x, mnist_test_y)))"
   ]
  },
  {
   "cell_type": "markdown",
   "id": "db82766b",
   "metadata": {},
   "source": [
    "ReLU, количество внутренних слоев : 0"
   ]
  },
  {
   "cell_type": "code",
   "execution_count": 17,
   "id": "a307af20",
   "metadata": {
    "scrolled": true
   },
   "outputs": [
    {
     "name": "stdout",
     "output_type": "stream",
     "text": [
      "Создание сети :\n",
      "  Количество скрытых слоев     : 0\n",
      "  Количество входных нейронов  : 784\n",
      "  Koличество выходных нейронов : 10\n",
      "  Широты скрытых слоев         : []\n",
      "Обучение сети:\n",
      "  [Эпоха 1 из 10] потеря : 0.21996033191680908, точность : 0.8423809523809523\n",
      "  [Эпоха 2 из 10] потеря : 0.22081811726093292, точность : 0.845\n",
      "  [Эпоха 3 из 10] потеря : 0.20652182400226593, точность : 0.8425595238095238\n",
      "  [Эпоха 4 из 10] потеря : 0.21296873688697815, точность : 0.8327678571428572\n",
      "  [Эпоха 5 из 10] потеря : 0.2494426667690277, точность : 0.8336607142857143\n",
      "  [Эпоха 6 из 10] потеря : 0.21631450951099396, точность : 0.8385714285714285\n",
      "  [Эпоха 7 из 10] потеря : 0.24163790047168732, точность : 0.8394940476190477\n",
      "  [Эпоха 8 из 10] потеря : 0.20877322554588318, точность : 0.8403571428571428\n",
      "  [Эпоха 9 из 10] потеря : 0.22273996472358704, точность : 0.8501488095238096\n",
      "  [Эпоха 10 из 10] потеря : 0.20384666323661804, точность : 0.8482440476190476\n",
      "Точность сети : 0.8258333333333333\n"
     ]
    }
   ],
   "source": [
    "second_null_layered_perceptron = PyTorchPerceptron(show_status=True, layers=[], func=torch.nn.ReLU())\n",
    "second_null_layered_perceptron.fit(mnist_train_x, mnist_train_y)\n",
    "print(\"Точность сети : {}\".format(second_null_layered_perceptron.score(mnist_test_x, mnist_test_y)))"
   ]
  },
  {
   "cell_type": "markdown",
   "id": "673ab705",
   "metadata": {},
   "source": [
    "Tanh, количество внутренних слоев : 0"
   ]
  },
  {
   "cell_type": "code",
   "execution_count": 18,
   "id": "6a5570d4",
   "metadata": {
    "scrolled": true
   },
   "outputs": [
    {
     "name": "stdout",
     "output_type": "stream",
     "text": [
      "Создание сети :\n",
      "  Количество скрытых слоев     : 0\n",
      "  Количество входных нейронов  : 784\n",
      "  Koличество выходных нейронов : 10\n",
      "  Широты скрытых слоев         : []\n",
      "Обучение сети:\n",
      "  [Эпоха 1 из 10] потеря : 0.23352324962615967, точность : 0.8817559523809524\n",
      "  [Эпоха 2 из 10] потеря : 0.21639983355998993, точность : 0.8870238095238095\n",
      "  [Эпоха 3 из 10] потеря : 0.18762199580669403, точность : 0.8838690476190476\n",
      "  [Эпоха 4 из 10] потеря : 0.22149816155433655, точность : 0.8850892857142857\n",
      "  [Эпоха 5 из 10] потеря : 0.24156033992767334, точность : 0.8834821428571429\n",
      "  [Эпоха 6 из 10] потеря : 0.2781367897987366, точность : 0.8865773809523809\n",
      "  [Эпоха 7 из 10] потеря : 0.23581655323505402, точность : 0.8794047619047619\n",
      "  [Эпоха 8 из 10] потеря : 0.20979523658752441, точность : 0.8813392857142858\n",
      "  [Эпоха 9 из 10] потеря : 0.21278803050518036, точность : 0.8858928571428571\n",
      "  [Эпоха 10 из 10] потеря : 0.1918928474187851, точность : 0.8862797619047619\n",
      "Точность сети : 0.8614285714285714\n"
     ]
    }
   ],
   "source": [
    "third_null_layered_perceptron = PyTorchPerceptron(show_status=True, layers=[], func=torch.nn.Tanh())\n",
    "third_null_layered_perceptron.fit(mnist_train_x, mnist_train_y)\n",
    "print(\"Точность сети : {}\".format(third_null_layered_perceptron.score(mnist_test_x, mnist_test_y)))"
   ]
  },
  {
   "cell_type": "markdown",
   "id": "4dcba522",
   "metadata": {},
   "source": [
    "#### Двуслойные перцептроны\n",
    "\n",
    "Tanh, количество внутренних слоев : 1, широты : 15"
   ]
  },
  {
   "cell_type": "code",
   "execution_count": 19,
   "id": "fd9e7520",
   "metadata": {
    "scrolled": true
   },
   "outputs": [
    {
     "name": "stdout",
     "output_type": "stream",
     "text": [
      "Создание сети :\n",
      "  Количество скрытых слоев     : 1\n",
      "  Количество входных нейронов  : 784\n",
      "  Koличество выходных нейронов : 10\n",
      "  Широты скрытых слоев         : [15]\n",
      "Обучение сети:\n",
      "  [Эпоха 1 из 10] потеря : 0.15706053376197815, точность : 0.5555654761904761\n",
      "  [Эпоха 2 из 10] потеря : 0.11933968961238861, точность : 0.7589285714285714\n",
      "  [Эпоха 3 из 10] потеря : 0.12582819163799286, точность : 0.7677083333333333\n",
      "  [Эпоха 4 из 10] потеря : 0.162873312830925, точность : 0.7654166666666666\n",
      "  [Эпоха 5 из 10] потеря : 0.19717423617839813, точность : 0.7570833333333333\n",
      "  [Эпоха 6 из 10] потеря : 0.14621469378471375, точность : 0.7652380952380953\n",
      "  [Эпоха 7 из 10] потеря : 0.18432410061359406, точность : 0.7733928571428571\n",
      "  [Эпоха 8 из 10] потеря : 0.11662255227565765, точность : 0.7993154761904762\n",
      "  [Эпоха 9 из 10] потеря : 0.15035425126552582, точность : 0.8108333333333333\n",
      "  [Эпоха 10 из 10] потеря : 0.07553385943174362, точность : 0.79\n",
      "Точность сети : 0.7758333333333334\n"
     ]
    }
   ],
   "source": [
    "first_one_layred_perceptron = PyTorchPerceptron(show_status=True, layers=[15], func=torch.nn.Tanh())\n",
    "first_one_layred_perceptron.fit(mnist_train_x, mnist_train_y)\n",
    "print(\"Точность сети : {}\".format(first_one_layred_perceptron.score(mnist_test_x, mnist_test_y)))"
   ]
  },
  {
   "cell_type": "markdown",
   "id": "7e897c08",
   "metadata": {},
   "source": [
    "Tanh, количество внутренних слоев : 1, широты : 30"
   ]
  },
  {
   "cell_type": "code",
   "execution_count": 20,
   "id": "683d808d",
   "metadata": {
    "scrolled": false
   },
   "outputs": [
    {
     "name": "stdout",
     "output_type": "stream",
     "text": [
      "Создание сети :\n",
      "  Количество скрытых слоев     : 1\n",
      "  Количество входных нейронов  : 784\n",
      "  Koличество выходных нейронов : 10\n",
      "  Широты скрытых слоев         : [30]\n",
      "Обучение сети:\n",
      "  [Эпоха 1 из 10] потеря : 0.08829618990421295, точность : 0.7254761904761905\n",
      "  [Эпоха 2 из 10] потеря : 0.10101880878210068, точность : 0.7187202380952381\n",
      "  [Эпоха 3 из 10] потеря : 0.10681011527776718, точность : 0.7724107142857143\n",
      "  [Эпоха 4 из 10] потеря : 0.11161629110574722, точность : 0.7750892857142857\n",
      "  [Эпоха 5 из 10] потеря : 0.09768121689558029, точность : 0.7824702380952381\n",
      "  [Эпоха 6 из 10] потеря : 0.08351396024227142, точность : 0.783720238095238\n",
      "  [Эпоха 7 из 10] потеря : 0.06428272277116776, точность : 0.8017559523809524\n",
      "  [Эпоха 8 из 10] потеря : 0.09586071968078613, точность : 0.7897619047619048\n",
      "  [Эпоха 9 из 10] потеря : 0.05608725547790527, точность : 0.8344345238095238\n",
      "  [Эпоха 10 из 10] потеря : 0.05616425350308418, точность : 0.8429464285714285\n",
      "Точность сети : 0.8316666666666667\n"
     ]
    }
   ],
   "source": [
    "second_one_layred_perceptron = PyTorchPerceptron(show_status=True, layers=[30], func=torch.nn.Tanh())\n",
    "second_one_layred_perceptron.fit(mnist_train_x, mnist_train_y)\n",
    "print(\"Точность сети : {}\".format(second_one_layred_perceptron.score(mnist_test_x, mnist_test_y)))"
   ]
  },
  {
   "cell_type": "markdown",
   "id": "c0059cfd",
   "metadata": {},
   "source": [
    "Sigmoid, количество внутренних слоев : 1, широты : 30"
   ]
  },
  {
   "cell_type": "code",
   "execution_count": 21,
   "id": "5e5b63c8",
   "metadata": {
    "scrolled": true
   },
   "outputs": [
    {
     "name": "stdout",
     "output_type": "stream",
     "text": [
      "Создание сети :\n",
      "  Количество скрытых слоев     : 1\n",
      "  Количество входных нейронов  : 784\n",
      "  Koличество выходных нейронов : 10\n",
      "  Широты скрытых слоев         : [30]\n",
      "Обучение сети:\n",
      "  [Эпоха 1 из 10] потеря : 0.144229456782341, точность : 0.8401488095238095\n",
      "  [Эпоха 2 из 10] потеря : 0.0867149606347084, точность : 0.8709523809523809\n",
      "  [Эпоха 3 из 10] потеря : 0.1114036813378334, точность : 0.8583035714285714\n",
      "  [Эпоха 4 из 10] потеря : 0.08135467767715454, точность : 0.8684226190476191\n",
      "  [Эпоха 5 из 10] потеря : 0.07998746633529663, точность : 0.8564583333333333\n",
      "  [Эпоха 6 из 10] потеря : 0.08965352922677994, точность : 0.8924702380952381\n",
      "  [Эпоха 7 из 10] потеря : 0.10324522107839584, точность : 0.882529761904762\n",
      "  [Эпоха 8 из 10] потеря : 0.07777225971221924, точность : 0.887797619047619\n",
      "  [Эпоха 9 из 10] потеря : 0.07637614011764526, точность : 0.893154761904762\n",
      "  [Эпоха 10 из 10] потеря : 0.07823812961578369, точность : 0.9064285714285715\n",
      "Точность сети : 0.8978571428571429\n"
     ]
    }
   ],
   "source": [
    "third_one_layred_perceptron = PyTorchPerceptron(show_status=True, layers=[30])\n",
    "third_one_layred_perceptron.fit(mnist_train_x, mnist_train_y)\n",
    "print(\"Точность сети : {}\".format(third_one_layred_perceptron.score(mnist_test_x, mnist_test_y)))"
   ]
  },
  {
   "cell_type": "markdown",
   "id": "c3acbdf0",
   "metadata": {},
   "source": [
    "#### Трехслойные перцептроны\n",
    "\n",
    "Tanh, количество внутренних слоев : 2, широты : 20, 15"
   ]
  },
  {
   "cell_type": "code",
   "execution_count": 24,
   "id": "5cfd3494",
   "metadata": {},
   "outputs": [
    {
     "name": "stdout",
     "output_type": "stream",
     "text": [
      "Создание сети :\n",
      "  Количество скрытых слоев     : 2\n",
      "  Количество входных нейронов  : 784\n",
      "  Koличество выходных нейронов : 10\n",
      "  Широты скрытых слоев         : [20, 15]\n",
      "Обучение сети:\n",
      "  [Эпоха 1 из 10] потеря : 0.21789446473121643, точность : 0.4429464285714286\n",
      "  [Эпоха 2 из 10] потеря : 0.23484082520008087, точность : 0.44142857142857145\n",
      "  [Эпоха 3 из 10] потеря : 0.2401113510131836, точность : 0.42854166666666665\n",
      "  [Эпоха 4 из 10] потеря : 0.20589759945869446, точность : 0.45422619047619045\n",
      "  [Эпоха 5 из 10] потеря : 0.15484680235385895, точность : 0.6750892857142857\n",
      "  [Эпоха 6 из 10] потеря : 0.19603069126605988, точность : 0.7441071428571429\n",
      "  [Эпоха 7 из 10] потеря : 0.11731342226266861, точность : 0.8297321428571428\n",
      "  [Эпоха 8 из 10] потеря : 0.08169644325971603, точность : 0.8439880952380953\n",
      "  [Эпоха 9 из 10] потеря : 0.12276892364025116, точность : 0.8148809523809524\n",
      "  [Эпоха 10 из 10] потеря : 0.10333050787448883, точность : 0.8520238095238095\n",
      "Точность сети : 0.8463095238095238\n"
     ]
    }
   ],
   "source": [
    "first_double_layred_perceptron = PyTorchPerceptron(show_status=True, layers=[20, 15])\n",
    "first_double_layred_perceptron.fit(mnist_train_x, mnist_train_y)\n",
    "print(\"Точность сети : {}\".format(first_double_layred_perceptron.score(mnist_test_x, mnist_test_y)))"
   ]
  },
  {
   "cell_type": "markdown",
   "id": "a17aaaf7",
   "metadata": {},
   "source": [
    "Sigmoid, количество внутренних слоев : 2, широты : 20, 15"
   ]
  },
  {
   "cell_type": "code",
   "execution_count": 23,
   "id": "e4379a01",
   "metadata": {
    "scrolled": true
   },
   "outputs": [
    {
     "name": "stdout",
     "output_type": "stream",
     "text": [
      "Создание сети :\n",
      "  Количество скрытых слоев     : 2\n",
      "  Количество входных нейронов  : 784\n",
      "  Koличество выходных нейронов : 10\n",
      "  Широты скрытых слоев         : [20, 15]\n",
      "Обучение сети:\n",
      "  [Эпоха 1 из 10] потеря : 0.21435371041297913, точность : 0.40767857142857145\n",
      "  [Эпоха 2 из 10] потеря : 0.17967960238456726, точность : 0.43794642857142857\n",
      "  [Эпоха 3 из 10] потеря : 0.19117364287376404, точность : 0.532172619047619\n",
      "  [Эпоха 4 из 10] потеря : 0.2089114487171173, точность : 0.5276190476190477\n",
      "  [Эпоха 5 из 10] потеря : 0.1753236949443817, точность : 0.5311607142857143\n",
      "  [Эпоха 6 из 10] потеря : 0.17818686366081238, точность : 0.5441666666666667\n",
      "  [Эпоха 7 из 10] потеря : 0.17018625140190125, точность : 0.5411309523809524\n",
      "  [Эпоха 8 из 10] потеря : 0.16926194727420807, точность : 0.6498511904761904\n",
      "  [Эпоха 9 из 10] потеря : 0.13824941217899323, точность : 0.6566071428571428\n",
      "  [Эпоха 10 из 10] потеря : 0.16385287046432495, точность : 0.680625\n",
      "Точность сети : 0.6765476190476191\n"
     ]
    }
   ],
   "source": [
    "second_double_layred_perceptron = PyTorchPerceptron(show_status=True, layers=[20, 15])\n",
    "second_double_layred_perceptron.fit(mnist_train_x, mnist_train_y)\n",
    "print(\"Точность сети : {}\".format(second_double_layred_perceptron.score(mnist_test_x, mnist_test_y)))"
   ]
  },
  {
   "cell_type": "markdown",
   "id": "83973a14",
   "metadata": {},
   "source": [
    "ELU, количество внутренних слоев : 2, широты : 20, 15"
   ]
  },
  {
   "cell_type": "code",
   "execution_count": 25,
   "id": "1332f947",
   "metadata": {
    "scrolled": true
   },
   "outputs": [
    {
     "name": "stdout",
     "output_type": "stream",
     "text": [
      "Создание сети :\n",
      "  Количество скрытых слоев     : 2\n",
      "  Количество входных нейронов  : 784\n",
      "  Koличество выходных нейронов : 10\n",
      "  Широты скрытых слоев         : [20, 15]\n",
      "Обучение сети:\n",
      "  [Эпоха 1 из 10] потеря : 0.10609463602304459, точность : 0.7252678571428571\n",
      "  [Эпоха 2 из 10] потеря : 0.15853984653949738, точность : 0.6185119047619048\n",
      "  [Эпоха 3 из 10] потеря : 0.11357484757900238, точность : 0.4438392857142857\n",
      "  [Эпоха 4 из 10] потеря : 0.11962778866291046, точность : 0.477827380952381\n",
      "  [Эпоха 5 из 10] потеря : 0.14208582043647766, точность : 0.540327380952381\n",
      "  [Эпоха 6 из 10] потеря : 0.13886265456676483, точность : 0.5158333333333334\n",
      "  [Эпоха 7 из 10] потеря : 0.14183661341667175, точность : 0.5267559523809524\n",
      "  [Эпоха 8 из 10] потеря : 0.10814683139324188, точность : 0.5322619047619047\n",
      "  [Эпоха 9 из 10] потеря : 0.13295774161815643, точность : 0.5398809523809524\n",
      "  [Эпоха 10 из 10] потеря : 0.12973904609680176, точность : 0.5226190476190476\n",
      "Точность сети : 0.5126190476190476\n"
     ]
    }
   ],
   "source": [
    "third_double_layred_perceptron = PyTorchPerceptron(show_status=True, layers=[20, 15], func=torch.nn.ELU())\n",
    "third_double_layred_perceptron.fit(mnist_train_x, mnist_train_y)\n",
    "print(\"Точность сети : {}\".format(third_double_layred_perceptron.score(mnist_test_x, mnist_test_y)))"
   ]
  },
  {
   "cell_type": "markdown",
   "id": "4a76cec1",
   "metadata": {},
   "source": [
    "Softsign, количество внутренних слоев : 2, широты : 20, 15"
   ]
  },
  {
   "cell_type": "code",
   "execution_count": 26,
   "id": "2ab5272c",
   "metadata": {
    "scrolled": true
   },
   "outputs": [
    {
     "name": "stdout",
     "output_type": "stream",
     "text": [
      "Создание сети :\n",
      "  Количество скрытых слоев     : 2\n",
      "  Количество входных нейронов  : 784\n",
      "  Koличество выходных нейронов : 10\n",
      "  Широты скрытых слоев         : [20, 15]\n",
      "Обучение сети:\n",
      "  [Эпоха 1 из 10] потеря : 0.16302064061164856, точность : 0.7744940476190476\n",
      "  [Эпоха 2 из 10] потеря : 0.1142144650220871, точность : 0.8548809523809524\n",
      "  [Эпоха 3 из 10] потеря : 0.10631050169467926, точность : 0.8438392857142857\n",
      "  [Эпоха 4 из 10] потеря : 0.05773870274424553, точность : 0.8826190476190476\n",
      "  [Эпоха 5 из 10] потеря : 0.11607290804386139, точность : 0.8348511904761905\n",
      "  [Эпоха 6 из 10] потеря : 0.06618493050336838, точность : 0.8946726190476191\n",
      "  [Эпоха 7 из 10] потеря : 0.1086476594209671, точность : 0.8838095238095238\n",
      "  [Эпоха 8 из 10] потеря : 0.14232394099235535, точность : 0.8862797619047619\n",
      "  [Эпоха 9 из 10] потеря : 0.10459534078836441, точность : 0.8950297619047619\n",
      "  [Эпоха 10 из 10] потеря : 0.07384650409221649, точность : 0.8946428571428572\n",
      "Точность сети : 0.8879761904761905\n"
     ]
    }
   ],
   "source": [
    "fourth_double_layred_perceptron = PyTorchPerceptron(show_status=True, layers=[20, 15], func=torch.nn.Softsign())\n",
    "fourth_double_layred_perceptron.fit(mnist_train_x, mnist_train_y)\n",
    "print(\"Точность сети : {}\".format(fourth_double_layred_perceptron.score(mnist_test_x, mnist_test_y)))"
   ]
  },
  {
   "cell_type": "markdown",
   "id": "77b4f252",
   "metadata": {},
   "source": [
    "### Тестирование FashionMNIST\n",
    "#### Однослойные перцептроны\n",
    "Softsign, количество внутренних слоев : 0"
   ]
  },
  {
   "cell_type": "code",
   "execution_count": 27,
   "id": "3b78da42",
   "metadata": {},
   "outputs": [
    {
     "name": "stdout",
     "output_type": "stream",
     "text": [
      "Создание сети :\n",
      "  Количество скрытых слоев     : 0\n",
      "  Количество входных нейронов  : 784\n",
      "  Koличество выходных нейронов : 10\n",
      "  Широты скрытых слоев         : []\n",
      "Обучение сети:\n",
      "  [Эпоха 1 из 25] потеря : 0.09112871438264847, точность : 0.82965\n",
      "  [Эпоха 2 из 25] потеря : 0.08312006294727325, точность : 0.8422\n",
      "  [Эпоха 3 из 25] потеря : 0.07922971993684769, точность : 0.8475\n",
      "  [Эпоха 4 из 25] потеря : 0.0768524706363678, точность : 0.85035\n",
      "  [Эпоха 5 из 25] потеря : 0.07522393763065338, точность : 0.8524333333333334\n",
      "  [Эпоха 6 из 25] потеря : 0.07401680201292038, точность : 0.8539\n",
      "  [Эпоха 7 из 25] потеря : 0.0730716735124588, точность : 0.8557166666666667\n",
      "  [Эпоха 8 из 25] потеря : 0.07230310142040253, точность : 0.8567333333333333\n",
      "  [Эпоха 9 из 25] потеря : 0.07166094332933426, точность : 0.8574333333333334\n",
      "  [Эпоха 10 из 25] потеря : 0.07111363112926483, точность : 0.8584333333333334\n",
      "  [Эпоха 11 из 25] потеря : 0.07063998281955719, точность : 0.8591166666666666\n",
      "  [Эпоха 12 из 25] потеря : 0.07022500783205032, точность : 0.8593833333333334\n",
      "  [Эпоха 13 из 25] потеря : 0.06985786557197571, точность : 0.8599333333333333\n",
      "  [Эпоха 14 из 25] потеря : 0.06953033804893494, точность : 0.8606166666666667\n",
      "  [Эпоха 15 из 25] потеря : 0.06923600286245346, точность : 0.8611333333333333\n",
      "  [Эпоха 16 из 25] потеря : 0.06896993517875671, точность : 0.8613833333333333\n",
      "  [Эпоха 17 из 25] потеря : 0.06872812658548355, точность : 0.8617833333333333\n",
      "  [Эпоха 18 из 25] потеря : 0.06850738078355789, точность : 0.8619833333333333\n",
      "  [Эпоха 19 из 25] потеря : 0.06830500811338425, точность : 0.8622666666666666\n",
      "  [Эпоха 20 из 25] потеря : 0.06811883300542831, точность : 0.86255\n",
      "  [Эпоха 21 из 25] потеря : 0.0679468959569931, точность : 0.8629666666666667\n",
      "  [Эпоха 22 из 25] потеря : 0.06778766214847565, точность : 0.8631166666666666\n",
      "  [Эпоха 23 из 25] потеря : 0.06763972342014313, точность : 0.8631833333333333\n",
      "  [Эпоха 24 из 25] потеря : 0.06750201433897018, точность : 0.86335\n",
      "  [Эпоха 25 из 25] потеря : 0.06737346202135086, точность : 0.8636833333333334\n",
      "Точность сети : 0.8394\n"
     ]
    }
   ],
   "source": [
    "first_null_layred_fm_perceptron = PyTorchPerceptron(show_status=True, layers=[], func=torch.nn.Softsign(), learning_rate = 0.001, epochs=25)\n",
    "first_null_layred_fm_perceptron.fit(fashion_mnist_train_x, fashion_mnist_train_y)\n",
    "print(\"Точность сети : {}\".format(first_null_layred_fm_perceptron.score(fashion_mnist_test_x, fashion_mnist_test_y)))"
   ]
  },
  {
   "cell_type": "markdown",
   "id": "231b654d",
   "metadata": {},
   "source": [
    "Sigmoid, количество внутренних слоев : 0"
   ]
  },
  {
   "cell_type": "code",
   "execution_count": 28,
   "id": "e513ce2c",
   "metadata": {},
   "outputs": [
    {
     "name": "stdout",
     "output_type": "stream",
     "text": [
      "Создание сети :\n",
      "  Количество скрытых слоев     : 0\n",
      "  Количество входных нейронов  : 784\n",
      "  Koличество выходных нейронов : 10\n",
      "  Широты скрытых слоев         : []\n",
      "Обучение сети:\n",
      "  [Эпоха 1 из 20] потеря : 0.09118814021348953, точность : 0.8302666666666667\n",
      "  [Эпоха 2 из 20] потеря : 0.08311693370342255, точность : 0.8418666666666667\n",
      "  [Эпоха 3 из 20] потеря : 0.07918856292963028, точность : 0.8475166666666667\n",
      "  [Эпоха 4 из 20] потеря : 0.07679074257612228, точность : 0.8506\n",
      "  [Эпоха 5 из 20] потеря : 0.07514937967061996, точность : 0.85265\n",
      "  [Эпоха 6 из 20] потеря : 0.07393307983875275, точность : 0.85395\n",
      "  [Эпоха 7 из 20] потеря : 0.07298077642917633, точность : 0.8554\n",
      "  [Эпоха 8 из 20] потеря : 0.07220648229122162, точность : 0.8566833333333334\n",
      "  [Эпоха 9 из 20] потеря : 0.07155980169773102, точность : 0.8576166666666667\n",
      "  [Эпоха 10 из 20] потеря : 0.07100891321897507, точность : 0.8585333333333334\n",
      "  [Эпоха 11 из 20] потеря : 0.07053254544734955, точность : 0.8591166666666666\n",
      "  [Эпоха 12 из 20] потеря : 0.07011561095714569, точность : 0.8594833333333334\n",
      "  [Эпоха 13 из 20] потеря : 0.06974708288908005, точность : 0.8600333333333333\n",
      "  [Эпоха 14 из 20] потеря : 0.06941864639520645, точность : 0.8604833333333334\n",
      "  [Эпоха 15 из 20] потеря : 0.06912384927272797, точность : 0.8609333333333333\n",
      "  [Эпоха 16 из 20] потеря : 0.06885773688554764, точность : 0.8613833333333333\n",
      "  [Эпоха 17 из 20] потеря : 0.06861622631549835, точность : 0.8618\n",
      "  [Эпоха 18 из 20] потеря : 0.06839604675769806, точность : 0.8620833333333333\n",
      "  [Эпоха 19 из 20] потеря : 0.06819441169500351, точность : 0.8623\n",
      "  [Эпоха 20 из 20] потеря : 0.06800912320613861, точность : 0.8625833333333334\n",
      "Точность сети : 0.8393\n"
     ]
    }
   ],
   "source": [
    "second_null_layred_fm_perceptron = PyTorchPerceptron(show_status=True, layers=[], learning_rate = 0.001, epochs=20)\n",
    "second_null_layred_fm_perceptron.fit(fashion_mnist_train_x, fashion_mnist_train_y)\n",
    "print(\"Точность сети : {}\".format(second_null_layred_fm_perceptron.score(fashion_mnist_test_x, fashion_mnist_test_y)))"
   ]
  },
  {
   "cell_type": "markdown",
   "id": "1e33e907",
   "metadata": {},
   "source": [
    "Tanh, количество внутренних слоев : 0"
   ]
  },
  {
   "cell_type": "code",
   "execution_count": 29,
   "id": "051d8920",
   "metadata": {},
   "outputs": [
    {
     "name": "stdout",
     "output_type": "stream",
     "text": [
      "Создание сети :\n",
      "  Количество скрытых слоев     : 0\n",
      "  Количество входных нейронов  : 784\n",
      "  Koличество выходных нейронов : 10\n",
      "  Широты скрытых слоев         : []\n",
      "Обучение сети:\n",
      "  [Эпоха 1 из 10] потеря : 0.09100563824176788, точность : 0.83005\n",
      "  [Эпоха 2 из 10] потеря : 0.08311007916927338, точность : 0.8418833333333333\n",
      "  [Эпоха 3 из 10] потеря : 0.0792088583111763, точность : 0.8475666666666667\n",
      "  [Эпоха 4 из 10] потеря : 0.07680904120206833, точность : 0.8505333333333334\n",
      "  [Эпоха 5 из 10] потеря : 0.07516007125377655, точность : 0.8523666666666667\n",
      "  [Эпоха 6 из 10] потеря : 0.07393546402454376, точность : 0.854\n",
      "  [Эпоха 7 из 10] потеря : 0.07297541946172714, точность : 0.8555666666666667\n",
      "  [Эпоха 8 из 10] потеря : 0.07219419628381729, точность : 0.8568666666666667\n",
      "  [Эпоха 9 из 10] потеря : 0.07154137641191483, точность : 0.8574333333333334\n",
      "  [Эпоха 10 из 10] потеря : 0.07098519802093506, точность : 0.8582333333333333\n",
      "Точность сети : 0.8369\n"
     ]
    }
   ],
   "source": [
    "second_null_layred_fm_perceptron = PyTorchPerceptron(show_status=True, layers=[], func=torch.nn.Tanh(), learning_rate=0.001)\n",
    "second_null_layred_fm_perceptron.fit(fashion_mnist_train_x, fashion_mnist_train_y)\n",
    "print(\"Точность сети : {}\".format(second_null_layred_fm_perceptron.score(fashion_mnist_test_x, fashion_mnist_test_y)))"
   ]
  },
  {
   "cell_type": "markdown",
   "id": "ec347b60",
   "metadata": {},
   "source": [
    "#### Двуслойные перцептроны\n",
    "Sigmoid, количество внутренних слоев : 1, широты : 20"
   ]
  },
  {
   "cell_type": "code",
   "execution_count": 30,
   "id": "664961c9",
   "metadata": {},
   "outputs": [
    {
     "name": "stdout",
     "output_type": "stream",
     "text": [
      "Создание сети :\n",
      "  Количество скрытых слоев     : 1\n",
      "  Количество входных нейронов  : 784\n",
      "  Koличество выходных нейронов : 10\n",
      "  Широты скрытых слоев         : [20]\n",
      "Обучение сети:\n",
      "  [Эпоха 1 из 10] потеря : 0.09274433553218842, точность : 0.8132333333333334\n",
      "  [Эпоха 2 из 10] потеря : 0.07139384001493454, точность : 0.8482333333333333\n",
      "  [Эпоха 3 из 10] потеря : 0.06452915072441101, точность : 0.8586833333333334\n",
      "  [Эпоха 4 из 10] потеря : 0.059293169528245926, точность : 0.8656833333333334\n",
      "  [Эпоха 5 из 10] потеря : 0.054702866822481155, точность : 0.8698333333333333\n",
      "  [Эпоха 6 из 10] потеря : 0.0513717345893383, точность : 0.8732333333333333\n",
      "  [Эпоха 7 из 10] потеря : 0.0488932728767395, точность : 0.8754833333333333\n",
      "  [Эпоха 8 из 10] потеря : 0.046681247651576996, точность : 0.8774833333333333\n",
      "  [Эпоха 9 из 10] потеря : 0.044605083763599396, точность : 0.8795166666666666\n",
      "  [Эпоха 10 из 10] потеря : 0.042834438383579254, точность : 0.8809166666666667\n",
      "Точность сети : 0.8565\n"
     ]
    }
   ],
   "source": [
    "first_one_layred_fm_perceptron = PyTorchPerceptron(show_status=True, layers=[20], epochs=10, learning_rate=0.001)\n",
    "first_one_layred_fm_perceptron.fit(fashion_mnist_train_x, fashion_mnist_train_y)\n",
    "print(\"Точность сети : {}\".format(first_one_layred_fm_perceptron.score(fashion_mnist_test_x, fashion_mnist_test_y)))"
   ]
  },
  {
   "cell_type": "markdown",
   "id": "5642151e",
   "metadata": {},
   "source": [
    "Sigmoid, количество внутренних слоев : 1, широты : 40"
   ]
  },
  {
   "cell_type": "code",
   "execution_count": 31,
   "id": "06043465",
   "metadata": {},
   "outputs": [
    {
     "name": "stdout",
     "output_type": "stream",
     "text": [
      "Создание сети :\n",
      "  Количество скрытых слоев     : 1\n",
      "  Количество входных нейронов  : 784\n",
      "  Koличество выходных нейронов : 10\n",
      "  Широты скрытых слоев         : [40]\n",
      "Обучение сети:\n",
      "  [Эпоха 1 из 10] потеря : 0.07449835538864136, точность : 0.84055\n",
      "  [Эпоха 2 из 10] потеря : 0.05558536574244499, точность : 0.8604166666666667\n",
      "  [Эпоха 3 из 10] потеря : 0.04772006720304489, точность : 0.8684833333333334\n",
      "  [Эпоха 4 из 10] потеря : 0.0424964465200901, точность : 0.8745666666666667\n",
      "  [Эпоха 5 из 10] потеря : 0.03898771479725838, точность : 0.8793\n",
      "  [Эпоха 6 из 10] потеря : 0.03597339987754822, точность : 0.883\n",
      "  [Эпоха 7 из 10] потеря : 0.033892568200826645, точность : 0.8865\n",
      "  [Эпоха 8 из 10] потеря : 0.03203059732913971, точность : 0.88945\n",
      "  [Эпоха 9 из 10] потеря : 0.03023558482527733, точность : 0.8917666666666667\n",
      "  [Эпоха 10 из 10] потеря : 0.028784388676285744, точность : 0.894\n",
      "Точность сети : 0.8691\n"
     ]
    }
   ],
   "source": [
    "second_one_layred_fm_perceptron = PyTorchPerceptron(show_status=True, layers=[40], learning_rate=0.001, epochs=10)\n",
    "second_one_layred_fm_perceptron.fit(fashion_mnist_train_x, fashion_mnist_train_y)\n",
    "print(\"Точность сети : {}\".format(second_one_layred_fm_perceptron.score(fashion_mnist_test_x, fashion_mnist_test_y)))"
   ]
  },
  {
   "cell_type": "markdown",
   "id": "26aec4d0",
   "metadata": {},
   "source": [
    "ReLU, количество внутренних слоев : 1, широты : 40"
   ]
  },
  {
   "cell_type": "code",
   "execution_count": 32,
   "id": "dc8b044d",
   "metadata": {},
   "outputs": [
    {
     "name": "stdout",
     "output_type": "stream",
     "text": [
      "Создание сети :\n",
      "  Количество скрытых слоев     : 1\n",
      "  Количество входных нейронов  : 784\n",
      "  Koличество выходных нейронов : 10\n",
      "  Широты скрытых слоев         : [40]\n",
      "Обучение сети:\n",
      "  [Эпоха 1 из 10] потеря : 0.07455678284168243, точность : 0.808\n",
      "  [Эпоха 2 из 10] потеря : 0.05721697211265564, точность : 0.83715\n",
      "  [Эпоха 3 из 10] потеря : 0.04825632646679878, точность : 0.8490166666666666\n",
      "  [Эпоха 4 из 10] потеря : 0.04000701755285263, точность : 0.8581333333333333\n",
      "  [Эпоха 5 из 10] потеря : 0.03818025812506676, точность : 0.8629666666666667\n",
      "  [Эпоха 6 из 10] потеря : 0.039237670600414276, точность : 0.8671833333333333\n",
      "  [Эпоха 7 из 10] потеря : 0.03610638529062271, точность : 0.8689833333333333\n",
      "  [Эпоха 8 из 10] потеря : 0.034124039113521576, точность : 0.8705\n",
      "  [Эпоха 9 из 10] потеря : 0.03207800164818764, точность : 0.87245\n",
      "  [Эпоха 10 из 10] потеря : 0.029619863256812096, точность : 0.8763\n",
      "Точность сети : 0.8475\n"
     ]
    }
   ],
   "source": [
    "third_one_layred_fm_perceptron = PyTorchPerceptron(show_status=True, layers=[40], learning_rate=0.001, epochs=10, func=torch.nn.ReLU())\n",
    "third_one_layred_fm_perceptron.fit(fashion_mnist_train_x, fashion_mnist_train_y)\n",
    "print(\"Точность сети : {}\".format(third_one_layred_fm_perceptron.score(fashion_mnist_test_x, fashion_mnist_test_y)))"
   ]
  },
  {
   "cell_type": "markdown",
   "id": "48ba157a",
   "metadata": {},
   "source": [
    "### Тестирование CIFAR-10\n",
    "\n",
    "Tanh, количество внутренних слоев : 1, широты : 1000"
   ]
  },
  {
   "cell_type": "code",
   "execution_count": 33,
   "id": "47359c79",
   "metadata": {
    "scrolled": true
   },
   "outputs": [
    {
     "name": "stdout",
     "output_type": "stream",
     "text": [
      "Создание сети :\n",
      "  Количество скрытых слоев     : 1\n",
      "  Количество входных нейронов  : 1024\n",
      "  Koличество выходных нейронов : 10\n",
      "  Широты скрытых слоев         : [1000]\n",
      "Обучение сети:\n",
      "  [Эпоха 1 из 50] потеря : 0.34457749128341675, точность : 0.13818\n",
      "  [Эпоха 2 из 50] потеря : 0.3439987599849701, точность : 0.14344\n",
      "  [Эпоха 3 из 50] потеря : 0.34210819005966187, точность : 0.14754\n",
      "  [Эпоха 4 из 50] потеря : 0.33908718824386597, точность : 0.14996\n",
      "  [Эпоха 5 из 50] потеря : 0.3371235728263855, точность : 0.1524\n",
      "  [Эпоха 6 из 50] потеря : 0.33411726355552673, точность : 0.15484\n",
      "  [Эпоха 7 из 50] потеря : 0.3316207528114319, точность : 0.1571\n",
      "  [Эпоха 8 из 50] потеря : 0.3305515944957733, точность : 0.15816\n",
      "  [Эпоха 9 из 50] потеря : 0.32947131991386414, точность : 0.15952\n",
      "  [Эпоха 10 из 50] потеря : 0.32858699560165405, точность : 0.16086\n",
      "  [Эпоха 11 из 50] потеря : 0.3277924656867981, точность : 0.16262\n",
      "  [Эпоха 12 из 50] потеря : 0.326975554227829, точность : 0.16338\n",
      "  [Эпоха 13 из 50] потеря : 0.3256968855857849, точность : 0.16432\n",
      "  [Эпоха 14 из 50] потеря : 0.32457342743873596, точность : 0.1653\n",
      "  [Эпоха 15 из 50] потеря : 0.3237592577934265, точность : 0.16608\n",
      "  [Эпоха 16 из 50] потеря : 0.3226085305213928, точность : 0.16684\n",
      "  [Эпоха 17 из 50] потеря : 0.32138580083847046, точность : 0.16768\n",
      "  [Эпоха 18 из 50] потеря : 0.32038789987564087, точность : 0.16826\n",
      "  [Эпоха 19 из 50] потеря : 0.318520724773407, точность : 0.16934\n",
      "  [Эпоха 20 из 50] потеря : 0.3177700340747833, точность : 0.17024\n",
      "  [Эпоха 21 из 50] потеря : 0.31698158383369446, точность : 0.17086\n",
      "  [Эпоха 22 из 50] потеря : 0.3158833384513855, точность : 0.17166\n",
      "  [Эпоха 23 из 50] потеря : 0.31550332903862, точность : 0.17252\n",
      "  [Эпоха 24 из 50] потеря : 0.31427106261253357, точность : 0.17404\n",
      "  [Эпоха 25 из 50] потеря : 0.3138068914413452, точность : 0.17512\n",
      "  [Эпоха 26 из 50] потеря : 0.3124476969242096, точность : 0.17584\n",
      "  [Эпоха 27 из 50] потеря : 0.3104008436203003, точность : 0.17712\n",
      "  [Эпоха 28 из 50] потеря : 0.30930668115615845, точность : 0.17854\n",
      "  [Эпоха 29 из 50] потеря : 0.3074732720851898, точность : 0.17926\n",
      "  [Эпоха 30 из 50] потеря : 0.3062683939933777, точность : 0.1804\n",
      "  [Эпоха 31 из 50] потеря : 0.30547136068344116, точность : 0.18104\n",
      "  [Эпоха 32 из 50] потеря : 0.3044343590736389, точность : 0.1817\n",
      "  [Эпоха 33 из 50] потеря : 0.30367106199264526, точность : 0.18294\n",
      "  [Эпоха 34 из 50] потеря : 0.3034825921058655, точность : 0.1841\n",
      "  [Эпоха 35 из 50] потеря : 0.30208244919776917, точность : 0.1846\n",
      "  [Эпоха 36 из 50] потеря : 0.30107760429382324, точность : 0.18504\n",
      "  [Эпоха 37 из 50] потеря : 0.3000155985355377, точность : 0.18592\n",
      "  [Эпоха 38 из 50] потеря : 0.29869091510772705, точность : 0.18706\n",
      "  [Эпоха 39 из 50] потеря : 0.29800713062286377, точность : 0.18792\n",
      "  [Эпоха 40 из 50] потеря : 0.2973172664642334, точность : 0.189\n",
      "  [Эпоха 41 из 50] потеря : 0.2957945466041565, точность : 0.18998\n",
      "  [Эпоха 42 из 50] потеря : 0.2940933108329773, точность : 0.1909\n",
      "  [Эпоха 43 из 50] потеря : 0.2931864857673645, точность : 0.19164\n",
      "  [Эпоха 44 из 50] потеря : 0.29178327322006226, точность : 0.19236\n",
      "  [Эпоха 45 из 50] потеря : 0.2905997335910797, точность : 0.19346\n",
      "  [Эпоха 46 из 50] потеря : 0.2894760072231293, точность : 0.19456\n",
      "  [Эпоха 47 из 50] потеря : 0.28898730874061584, точность : 0.19546\n",
      "  [Эпоха 48 из 50] потеря : 0.2879047989845276, точность : 0.19668\n",
      "  [Эпоха 49 из 50] потеря : 0.28727632761001587, точность : 0.19802\n",
      "  [Эпоха 50 из 50] потеря : 0.286747545003891, точность : 0.19906\n"
     ]
    },
    {
     "data": {
      "text/plain": [
       "PyTorchPerceptron(\n",
       "  (func): Tanh()\n",
       "  (net): Sequential(\n",
       "    (0): Linear(in_features=1024, out_features=1000, bias=True)\n",
       "    (1): Tanh()\n",
       "    (2): Linear(in_features=1000, out_features=10, bias=True)\n",
       "  )\n",
       ")"
      ]
     },
     "execution_count": 33,
     "metadata": {},
     "output_type": "execute_result"
    }
   ],
   "source": [
    "first_null_cf_perceptron = PyTorchPerceptron(show_status=True, layers=[1000], learning_rate=0.0001, epochs=50, func=torch.nn.Tanh())\n",
    "first_null_cf_perceptron.fit(cifar_train_x, cifar_train_y)"
   ]
  },
  {
   "cell_type": "code",
   "execution_count": 34,
   "id": "3efb2693",
   "metadata": {
    "scrolled": true
   },
   "outputs": [
    {
     "name": "stdout",
     "output_type": "stream",
     "text": [
      "Точность сети : 0.4385\n",
      "Confusion matrix :\n",
      "[[354  11  60  18  38  14   1  12  30  15]\n",
      " [ 42 507  38  46  26  23  25  32  66 130]\n",
      " [ 39   8 212  44  87  50  37  23   7   7]\n",
      " [ 36  43 145 409  97 287 168  86  39  52]\n",
      " [ 20  14  82  25 267  48  62  44  12   6]\n",
      " [ 11  14  48 119  39 231  41  27  12  10]\n",
      " [ 34  42 163 113 176 107 544  47  15  37]\n",
      " [103  58 161 119 203 154  69 618  41  77]\n",
      " [302 113  59  43  46  58  16  38 701 124]\n",
      " [ 59 190  32  64  21  28  37  73  77 542]]\n"
     ]
    }
   ],
   "source": [
    "print(\"Точность сети : {}\".format(first_null_cf_perceptron.score(cifar_test_x, cifar_test_y)))\n",
    "print(\"Confusion matrix :\")\n",
    "print(first_null_cf_perceptron.confusion_matrix(cifar_test_x, cifar_test_y))"
   ]
  },
  {
   "cell_type": "markdown",
   "id": "1890b222",
   "metadata": {},
   "source": [
    "Tanh, количество внутренних слоев : 0"
   ]
  },
  {
   "cell_type": "code",
   "execution_count": 35,
   "id": "b8270468",
   "metadata": {
    "scrolled": true
   },
   "outputs": [
    {
     "name": "stdout",
     "output_type": "stream",
     "text": [
      "Создание сети :\n",
      "  Количество скрытых слоев     : 0\n",
      "  Количество входных нейронов  : 1024\n",
      "  Koличество выходных нейронов : 10\n",
      "  Широты скрытых слоев         : []\n",
      "Обучение сети:\n",
      "  [Эпоха 1 из 50] потеря : 0.328010231256485, точность : 0.12888\n",
      "  [Эпоха 2 из 50] потеря : 0.3283363878726959, точность : 0.13386\n",
      "  [Эпоха 3 из 50] потеря : 0.32839450240135193, точность : 0.13776\n",
      "  [Эпоха 4 из 50] потеря : 0.328264057636261, точность : 0.14006\n",
      "  [Эпоха 5 из 50] потеря : 0.32805174589157104, точность : 0.14192\n",
      "  [Эпоха 6 из 50] потеря : 0.3278072476387024, точность : 0.14324\n",
      "  [Эпоха 7 из 50] потеря : 0.3275516629219055, точность : 0.14436\n",
      "  [Эпоха 8 из 50] потеря : 0.3272940218448639, точность : 0.1448\n",
      "  [Эпоха 9 из 50] потеря : 0.32703855633735657, точность : 0.14556\n",
      "  [Эпоха 10 из 50] потеря : 0.3267872929573059, точность : 0.14602\n",
      "  [Эпоха 11 из 50] потеря : 0.3265414535999298, точность : 0.14694\n",
      "  [Эпоха 12 из 50] потеря : 0.3263014853000641, точность : 0.14764\n",
      "  [Эпоха 13 из 50] потеря : 0.3260677754878998, точность : 0.14834\n",
      "  [Эпоха 14 из 50] потеря : 0.32584041357040405, точность : 0.14886\n",
      "  [Эпоха 15 из 50] потеря : 0.3256193995475769, точность : 0.14888\n",
      "  [Эпоха 16 из 50] потеря : 0.32540467381477356, точность : 0.14938\n",
      "  [Эпоха 17 из 50] потеря : 0.32519611716270447, точность : 0.14992\n",
      "  [Эпоха 18 из 50] потеря : 0.32499366998672485, точность : 0.15032\n",
      "  [Эпоха 19 из 50] потеря : 0.3247970938682556, точность : 0.1505\n",
      "  [Эпоха 20 из 50] потеря : 0.3246062695980072, точность : 0.1509\n",
      "  [Эпоха 21 из 50] потеря : 0.3244210481643677, точность : 0.15136\n",
      "  [Эпоха 22 из 50] потеря : 0.3242412507534027, точность : 0.15164\n",
      "  [Эпоха 23 из 50] потеря : 0.3240666687488556, точность : 0.15222\n",
      "  [Эпоха 24 из 50] потеря : 0.3238971531391144, точность : 0.1527\n",
      "  [Эпоха 25 из 50] потеря : 0.32373249530792236, точность : 0.15308\n",
      "  [Эпоха 26 из 50] потеря : 0.32357257604599, точность : 0.15338\n",
      "  [Эпоха 27 из 50] потеря : 0.32341712713241577, точность : 0.15368\n",
      "  [Эпоха 28 из 50] потеря : 0.32326608896255493, точность : 0.15414\n",
      "  [Эпоха 29 из 50] потеря : 0.3231193423271179, точность : 0.15464\n",
      "  [Эпоха 30 из 50] потеря : 0.3229765295982361, точность : 0.15474\n",
      "  [Эпоха 31 из 50] потеря : 0.3228376507759094, точность : 0.15496\n",
      "  [Эпоха 32 из 50] потеря : 0.3227025270462036, точность : 0.15528\n",
      "  [Эпоха 33 из 50] потеря : 0.3225710391998291, точность : 0.1554\n",
      "  [Эпоха 34 из 50] потеря : 0.32244306802749634, точность : 0.15566\n",
      "  [Эпоха 35 из 50] потеря : 0.3223184049129486, точность : 0.15606\n",
      "  [Эпоха 36 из 50] потеря : 0.3221970200538635, точность : 0.15608\n",
      "  [Эпоха 37 из 50] потеря : 0.3220786452293396, точность : 0.15606\n",
      "  [Эпоха 38 из 50] потеря : 0.321963369846344, точность : 0.15634\n",
      "  [Эпоха 39 из 50] потеря : 0.3218509554862976, точность : 0.15654\n",
      "  [Эпоха 40 из 50] потеря : 0.3217412829399109, точность : 0.1565\n",
      "  [Эпоха 41 из 50] потеря : 0.32163435220718384, точность : 0.15672\n",
      "  [Эпоха 42 из 50] потеря : 0.32152998447418213, точность : 0.1568\n",
      "  [Эпоха 43 из 50] потеря : 0.321428120136261, точность : 0.1571\n",
      "  [Эпоха 44 из 50] потеря : 0.32132869958877563, точность : 0.15724\n",
      "  [Эпоха 45 из 50] потеря : 0.32123154401779175, точность : 0.15724\n",
      "  [Эпоха 46 из 50] потеря : 0.3211366534233093, точность : 0.15726\n",
      "  [Эпоха 47 из 50] потеря : 0.32104387879371643, точность : 0.15748\n",
      "  [Эпоха 48 из 50] потеря : 0.32095322012901306, точность : 0.1576\n",
      "  [Эпоха 49 из 50] потеря : 0.32086461782455444, точность : 0.15792\n",
      "  [Эпоха 50 из 50] потеря : 0.32077789306640625, точность : 0.15784\n"
     ]
    },
    {
     "data": {
      "text/plain": [
       "PyTorchPerceptron(\n",
       "  (func): Tanh()\n",
       "  (net): Sequential(\n",
       "    (0): Linear(in_features=1024, out_features=10, bias=True)\n",
       "  )\n",
       ")"
      ]
     },
     "execution_count": 35,
     "metadata": {},
     "output_type": "execute_result"
    }
   ],
   "source": [
    "second_null_cf_perceptron = PyTorchPerceptron(show_status=True, layers=[], learning_rate=0.0001, epochs=50, func=torch.nn.Tanh())\n",
    "second_null_cf_perceptron.fit(cifar_train_x, cifar_train_y)"
   ]
  },
  {
   "cell_type": "code",
   "execution_count": 36,
   "id": "243811cd",
   "metadata": {},
   "outputs": [
    {
     "name": "stdout",
     "output_type": "stream",
     "text": [
      "Точность сети : 0.3037\n",
      "Confusion matrix :\n",
      "[[244  29  70  33  43  18  14  34  43  34]\n",
      " [ 59 393  55  71  52  43  70  54  78 142]\n",
      " [  2   1  15   8  11   3   9   4   0   1]\n",
      " [137  93 278 348 288 281 344 161  72  59]\n",
      " [  2   0  17   3  45   4  10  13   0   1]\n",
      " [ 48  64 160 274 156 381 170 147  58  39]\n",
      " [ 11  21  90  38 120  26 212  21   2  25]\n",
      " [ 48  47 114  54 153  98  62 315  11  40]\n",
      " [387 212 160  97  93 106  64 109 659 234]\n",
      " [ 62 140  41  74  39  40  45 142  77 425]]\n"
     ]
    }
   ],
   "source": [
    "print(\"Точность сети : {}\".format(second_null_cf_perceptron.score(cifar_test_x, cifar_test_y)))\n",
    "print(\"Confusion matrix :\")\n",
    "print(second_null_cf_perceptron.confusion_matrix(cifar_test_x, cifar_test_y))"
   ]
  },
  {
   "cell_type": "markdown",
   "id": "bb0a432f",
   "metadata": {},
   "source": [
    "### Выводы\n",
    "\n",
    "#### Итоги тестирования\n",
    "\n",
    "Приведем итоговую таблицу тестрования нейросетей различной конфигурации для различных датасетов. (Лучшие нейросети выделены жирным шрифтом)\n",
    "\n",
    "| № | Кол-во слоев | Широты | Фун-я активации | Скорость обучения | Кол-во эпох | Тестовая точность (%) | Датасет |\n",
    "|:-:|:-:|:-:|:-:|:-:|:-:|:-:|:-:|\n",
    "| 1| 1| 784| Sigmoid| 0.05| 10| 86.202| MNIST|\n",
    "| 2| 1| 784| ReLU| 0.05| 10| 82.583| MNIST |\n",
    "|**3**| **1**| **784**| **Tanh**| **0.05**| **10**| **86.143**| **MNIST** |\n",
    "| 4| 2| 784-15| Tanh| 0.05| 10| 77.583| MNIST |\n",
    "| 5| 2| 784-30| Tanh| 0.05| 10| 83.167| MNIST |\n",
    "| **6**| **2**| **784-30**| **Sigmoid**| **0.05**| **10**| **89.786**| **MNIST**|\n",
    "| 7| 3| 784-20-15| Tanh| 0.05| 10| 84.631| MNIST |\n",
    "| 8| 3| 784-20-15| Sigmoid| 0.05| 10| 67.655| MNIST |\n",
    "| 9| 3| 784-20-15| ELU| 0.05| 10| 51.262| MNIST |\n",
    "| **10**| **3**| **784-20-15**| **Softsign**| **0.05**| **10**| **88.798**| **MNIST** |\n",
    "| **11**| **1**| **784** | **Softsign**| **0.001**| **25**| **83.93**| **FashionMNIST** |\n",
    "| 12| 1| 784 | Sigmoid | 0.001| 20| 83.93| FashionMNIST |\n",
    "| 13| 1| 784 | Tanh | 0.001| 10| 83.69| FashionMNIST |\n",
    "| 14| 2| 784-20 | Sigmoid | 0.001| 10| 85.65| FashionMNIST |\n",
    "| **15**| **2**| **784-40** | **Sigmoid** | **0.001**| **10**| **86.91**| **FashionMNIST** |\n",
    "| 16| 2| 784-40 | ReLU | 0.001| 10| 84.75| FashionMNIST |\n",
    "| 17| 2| 1024-1000| Tanh | 0.0001| 50| 43.85| CIFAR-10|\n",
    "| 18| 1| 1024 | Tanh | 0.0001| 50| 30.37| CIFAR-10|\n",
    "\n",
    "Confusion maxtrix для наиболее успешных нейросетей."
   ]
  },
  {
   "cell_type": "code",
   "execution_count": 37,
   "id": "7315b3b1",
   "metadata": {
    "scrolled": true
   },
   "outputs": [
    {
     "name": "stdout",
     "output_type": "stream",
     "text": [
      "Confusion matrix MNIST\n",
      "[[787   0   9   3   6   3   7  11  10   4]\n",
      " [  0 877  14   0  10   4   0   4  25   5]\n",
      " [ 45  12 735  71  48  32  45  42 100  26]\n",
      " [  5   2   9 708   6  56   0   5  38  38]\n",
      " [  0   0   5   3 763   7   6  12   3  41]\n",
      " [ 19   4   1  41   3 585  19   5  20  15]\n",
      " [  6   2   9   2   8   5 745   2   7   1]\n",
      " [  1   3   7   5   0   2   1 787   4  32]\n",
      " [  6   4  10  17   6  30   7   0 569   8]\n",
      " [  2   0   4   8  12  10   0  24  20 680]]\n",
      "\n",
      "Confusion matrix FashionMNIST\n",
      "[[865   4  15  39   0   1 177   0   0   0]\n",
      " [  7 964   2  18   0   0   1   0   1   0]\n",
      " [ 18   1 808  16 113   0 122   0  10   0]\n",
      " [ 31  23  12 877  34   1  32   0   5   0]\n",
      " [  3   5 108  31 797   0  85   0   3   0]\n",
      " [  1   0   1   0   0 927   0  16   2   3]\n",
      " [ 64   2  52  17  52   0 568   0   3   0]\n",
      " [  0   0   0   0   0  49   0 968   5  50]\n",
      " [ 11   1   2   2   4   1  15   0 971   1]\n",
      " [  0   0   0   0   0  21   0  16   0 946]]\n"
     ]
    }
   ],
   "source": [
    "print('Confusion matrix MNIST')\n",
    "print(third_null_layered_perceptron.confusion_matrix(mnist_test_x, mnist_test_y))\n",
    "print()\n",
    "print('Confusion matrix FashionMNIST')\n",
    "print(second_one_layred_fm_perceptron.confusion_matrix(fashion_mnist_test_x, fashion_mnist_test_y))"
   ]
  },
  {
   "cell_type": "markdown",
   "id": "8281beaa",
   "metadata": {},
   "source": [
    "В ходе лабораторной работы реализовано несколько простых нейросетей с использованием фреймворка для их создания - PyTorch. Нейросети обучены и протестированы на датасетаx MNIST, FashionMNIST и CIFAR-10.\n",
    "Результаты тестирования на датасетах MNIST и FashionMNIST довольно хорошие (>80%). На датасете CIFAR-10 результаты довольно низкие. Причиной является то, что для классификации данного датасета необходимо использовать сверточные слои."
   ]
  }
 ],
 "metadata": {
  "kernelspec": {
   "display_name": "Python 3",
   "language": "python",
   "name": "python3"
  },
  "language_info": {
   "codemirror_mode": {
    "name": "ipython",
    "version": 3
   },
   "file_extension": ".py",
   "mimetype": "text/x-python",
   "name": "python",
   "nbconvert_exporter": "python",
   "pygments_lexer": "ipython3",
   "version": "3.8.8"
  }
 },
 "nbformat": 4,
 "nbformat_minor": 5
}
